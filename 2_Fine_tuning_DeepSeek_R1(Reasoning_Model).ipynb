{
  "nbformat": 4,
  "nbformat_minor": 0,
  "metadata": {
    "colab": {
      "provenance": [],
      "gpuType": "T4",
      "authorship_tag": "ABX9TyOJLKujR7XhbCidgdnhmUEw",
      "include_colab_link": true
    },
    "kernelspec": {
      "name": "python3",
      "display_name": "Python 3"
    },
    "language_info": {
      "name": "python"
    },
    "accelerator": "GPU",
    "widgets": {
      "application/vnd.jupyter.widget-state+json": {
        "471c61ba36514486941ba140df36fbfa": {
          "model_module": "@jupyter-widgets/controls",
          "model_name": "HBoxModel",
          "model_module_version": "1.5.0",
          "state": {
            "_dom_classes": [],
            "_model_module": "@jupyter-widgets/controls",
            "_model_module_version": "1.5.0",
            "_model_name": "HBoxModel",
            "_view_count": null,
            "_view_module": "@jupyter-widgets/controls",
            "_view_module_version": "1.5.0",
            "_view_name": "HBoxView",
            "box_style": "",
            "children": [
              "IPY_MODEL_5bc52a21acc54a589cdeb22e3deee3bb",
              "IPY_MODEL_b31e9c195c794fc2a9d9b2c29e70b5ca",
              "IPY_MODEL_6866d6cd118d4462bb8518ef7f7d93dd"
            ],
            "layout": "IPY_MODEL_38ed8fd42d5640858bb74527424bfac5"
          }
        },
        "5bc52a21acc54a589cdeb22e3deee3bb": {
          "model_module": "@jupyter-widgets/controls",
          "model_name": "HTMLModel",
          "model_module_version": "1.5.0",
          "state": {
            "_dom_classes": [],
            "_model_module": "@jupyter-widgets/controls",
            "_model_module_version": "1.5.0",
            "_model_name": "HTMLModel",
            "_view_count": null,
            "_view_module": "@jupyter-widgets/controls",
            "_view_module_version": "1.5.0",
            "_view_name": "HTMLView",
            "description": "",
            "description_tooltip": null,
            "layout": "IPY_MODEL_870344af2c4b42db8fabdebdf84bd85e",
            "placeholder": "​",
            "style": "IPY_MODEL_4c20e42524c749eb8274e320fed40e4b",
            "value": "model.safetensors: 100%"
          }
        },
        "b31e9c195c794fc2a9d9b2c29e70b5ca": {
          "model_module": "@jupyter-widgets/controls",
          "model_name": "FloatProgressModel",
          "model_module_version": "1.5.0",
          "state": {
            "_dom_classes": [],
            "_model_module": "@jupyter-widgets/controls",
            "_model_module_version": "1.5.0",
            "_model_name": "FloatProgressModel",
            "_view_count": null,
            "_view_module": "@jupyter-widgets/controls",
            "_view_module_version": "1.5.0",
            "_view_name": "ProgressView",
            "bar_style": "success",
            "description": "",
            "description_tooltip": null,
            "layout": "IPY_MODEL_fa7ef6315da746cab02f074ee9e9043a",
            "max": 5964186418,
            "min": 0,
            "orientation": "horizontal",
            "style": "IPY_MODEL_cdd01b22c3844a6782696b21cfea2f4d",
            "value": 5964186418
          }
        },
        "6866d6cd118d4462bb8518ef7f7d93dd": {
          "model_module": "@jupyter-widgets/controls",
          "model_name": "HTMLModel",
          "model_module_version": "1.5.0",
          "state": {
            "_dom_classes": [],
            "_model_module": "@jupyter-widgets/controls",
            "_model_module_version": "1.5.0",
            "_model_name": "HTMLModel",
            "_view_count": null,
            "_view_module": "@jupyter-widgets/controls",
            "_view_module_version": "1.5.0",
            "_view_name": "HTMLView",
            "description": "",
            "description_tooltip": null,
            "layout": "IPY_MODEL_b9d5bb38a8e64e7787a6083970dbc3c1",
            "placeholder": "​",
            "style": "IPY_MODEL_c4cd52fe18b841b9afd2eef117aeab99",
            "value": " 5.96G/5.96G [02:22&lt;00:00, 42.0MB/s]"
          }
        },
        "38ed8fd42d5640858bb74527424bfac5": {
          "model_module": "@jupyter-widgets/base",
          "model_name": "LayoutModel",
          "model_module_version": "1.2.0",
          "state": {
            "_model_module": "@jupyter-widgets/base",
            "_model_module_version": "1.2.0",
            "_model_name": "LayoutModel",
            "_view_count": null,
            "_view_module": "@jupyter-widgets/base",
            "_view_module_version": "1.2.0",
            "_view_name": "LayoutView",
            "align_content": null,
            "align_items": null,
            "align_self": null,
            "border": null,
            "bottom": null,
            "display": null,
            "flex": null,
            "flex_flow": null,
            "grid_area": null,
            "grid_auto_columns": null,
            "grid_auto_flow": null,
            "grid_auto_rows": null,
            "grid_column": null,
            "grid_gap": null,
            "grid_row": null,
            "grid_template_areas": null,
            "grid_template_columns": null,
            "grid_template_rows": null,
            "height": null,
            "justify_content": null,
            "justify_items": null,
            "left": null,
            "margin": null,
            "max_height": null,
            "max_width": null,
            "min_height": null,
            "min_width": null,
            "object_fit": null,
            "object_position": null,
            "order": null,
            "overflow": null,
            "overflow_x": null,
            "overflow_y": null,
            "padding": null,
            "right": null,
            "top": null,
            "visibility": null,
            "width": null
          }
        },
        "870344af2c4b42db8fabdebdf84bd85e": {
          "model_module": "@jupyter-widgets/base",
          "model_name": "LayoutModel",
          "model_module_version": "1.2.0",
          "state": {
            "_model_module": "@jupyter-widgets/base",
            "_model_module_version": "1.2.0",
            "_model_name": "LayoutModel",
            "_view_count": null,
            "_view_module": "@jupyter-widgets/base",
            "_view_module_version": "1.2.0",
            "_view_name": "LayoutView",
            "align_content": null,
            "align_items": null,
            "align_self": null,
            "border": null,
            "bottom": null,
            "display": null,
            "flex": null,
            "flex_flow": null,
            "grid_area": null,
            "grid_auto_columns": null,
            "grid_auto_flow": null,
            "grid_auto_rows": null,
            "grid_column": null,
            "grid_gap": null,
            "grid_row": null,
            "grid_template_areas": null,
            "grid_template_columns": null,
            "grid_template_rows": null,
            "height": null,
            "justify_content": null,
            "justify_items": null,
            "left": null,
            "margin": null,
            "max_height": null,
            "max_width": null,
            "min_height": null,
            "min_width": null,
            "object_fit": null,
            "object_position": null,
            "order": null,
            "overflow": null,
            "overflow_x": null,
            "overflow_y": null,
            "padding": null,
            "right": null,
            "top": null,
            "visibility": null,
            "width": null
          }
        },
        "4c20e42524c749eb8274e320fed40e4b": {
          "model_module": "@jupyter-widgets/controls",
          "model_name": "DescriptionStyleModel",
          "model_module_version": "1.5.0",
          "state": {
            "_model_module": "@jupyter-widgets/controls",
            "_model_module_version": "1.5.0",
            "_model_name": "DescriptionStyleModel",
            "_view_count": null,
            "_view_module": "@jupyter-widgets/base",
            "_view_module_version": "1.2.0",
            "_view_name": "StyleView",
            "description_width": ""
          }
        },
        "fa7ef6315da746cab02f074ee9e9043a": {
          "model_module": "@jupyter-widgets/base",
          "model_name": "LayoutModel",
          "model_module_version": "1.2.0",
          "state": {
            "_model_module": "@jupyter-widgets/base",
            "_model_module_version": "1.2.0",
            "_model_name": "LayoutModel",
            "_view_count": null,
            "_view_module": "@jupyter-widgets/base",
            "_view_module_version": "1.2.0",
            "_view_name": "LayoutView",
            "align_content": null,
            "align_items": null,
            "align_self": null,
            "border": null,
            "bottom": null,
            "display": null,
            "flex": null,
            "flex_flow": null,
            "grid_area": null,
            "grid_auto_columns": null,
            "grid_auto_flow": null,
            "grid_auto_rows": null,
            "grid_column": null,
            "grid_gap": null,
            "grid_row": null,
            "grid_template_areas": null,
            "grid_template_columns": null,
            "grid_template_rows": null,
            "height": null,
            "justify_content": null,
            "justify_items": null,
            "left": null,
            "margin": null,
            "max_height": null,
            "max_width": null,
            "min_height": null,
            "min_width": null,
            "object_fit": null,
            "object_position": null,
            "order": null,
            "overflow": null,
            "overflow_x": null,
            "overflow_y": null,
            "padding": null,
            "right": null,
            "top": null,
            "visibility": null,
            "width": null
          }
        },
        "cdd01b22c3844a6782696b21cfea2f4d": {
          "model_module": "@jupyter-widgets/controls",
          "model_name": "ProgressStyleModel",
          "model_module_version": "1.5.0",
          "state": {
            "_model_module": "@jupyter-widgets/controls",
            "_model_module_version": "1.5.0",
            "_model_name": "ProgressStyleModel",
            "_view_count": null,
            "_view_module": "@jupyter-widgets/base",
            "_view_module_version": "1.2.0",
            "_view_name": "StyleView",
            "bar_color": null,
            "description_width": ""
          }
        },
        "b9d5bb38a8e64e7787a6083970dbc3c1": {
          "model_module": "@jupyter-widgets/base",
          "model_name": "LayoutModel",
          "model_module_version": "1.2.0",
          "state": {
            "_model_module": "@jupyter-widgets/base",
            "_model_module_version": "1.2.0",
            "_model_name": "LayoutModel",
            "_view_count": null,
            "_view_module": "@jupyter-widgets/base",
            "_view_module_version": "1.2.0",
            "_view_name": "LayoutView",
            "align_content": null,
            "align_items": null,
            "align_self": null,
            "border": null,
            "bottom": null,
            "display": null,
            "flex": null,
            "flex_flow": null,
            "grid_area": null,
            "grid_auto_columns": null,
            "grid_auto_flow": null,
            "grid_auto_rows": null,
            "grid_column": null,
            "grid_gap": null,
            "grid_row": null,
            "grid_template_areas": null,
            "grid_template_columns": null,
            "grid_template_rows": null,
            "height": null,
            "justify_content": null,
            "justify_items": null,
            "left": null,
            "margin": null,
            "max_height": null,
            "max_width": null,
            "min_height": null,
            "min_width": null,
            "object_fit": null,
            "object_position": null,
            "order": null,
            "overflow": null,
            "overflow_x": null,
            "overflow_y": null,
            "padding": null,
            "right": null,
            "top": null,
            "visibility": null,
            "width": null
          }
        },
        "c4cd52fe18b841b9afd2eef117aeab99": {
          "model_module": "@jupyter-widgets/controls",
          "model_name": "DescriptionStyleModel",
          "model_module_version": "1.5.0",
          "state": {
            "_model_module": "@jupyter-widgets/controls",
            "_model_module_version": "1.5.0",
            "_model_name": "DescriptionStyleModel",
            "_view_count": null,
            "_view_module": "@jupyter-widgets/base",
            "_view_module_version": "1.2.0",
            "_view_name": "StyleView",
            "description_width": ""
          }
        },
        "21ea2d36f9434c65a34e9e3b2e20073a": {
          "model_module": "@jupyter-widgets/controls",
          "model_name": "HBoxModel",
          "model_module_version": "1.5.0",
          "state": {
            "_dom_classes": [],
            "_model_module": "@jupyter-widgets/controls",
            "_model_module_version": "1.5.0",
            "_model_name": "HBoxModel",
            "_view_count": null,
            "_view_module": "@jupyter-widgets/controls",
            "_view_module_version": "1.5.0",
            "_view_name": "HBoxView",
            "box_style": "",
            "children": [
              "IPY_MODEL_e0f226d9bb2942efb19ef612c3c40376",
              "IPY_MODEL_f6085340b6474734a8602678b15c9d66",
              "IPY_MODEL_e033c15cd01748d290761e4225d6d3fa"
            ],
            "layout": "IPY_MODEL_de70fc93357147229419f54ff1c5f78c"
          }
        },
        "e0f226d9bb2942efb19ef612c3c40376": {
          "model_module": "@jupyter-widgets/controls",
          "model_name": "HTMLModel",
          "model_module_version": "1.5.0",
          "state": {
            "_dom_classes": [],
            "_model_module": "@jupyter-widgets/controls",
            "_model_module_version": "1.5.0",
            "_model_name": "HTMLModel",
            "_view_count": null,
            "_view_module": "@jupyter-widgets/controls",
            "_view_module_version": "1.5.0",
            "_view_name": "HTMLView",
            "description": "",
            "description_tooltip": null,
            "layout": "IPY_MODEL_35ef4c18f67e4fa581638fe8fac60cf8",
            "placeholder": "​",
            "style": "IPY_MODEL_90233343ed214d3bbad99f376f2d57c8",
            "value": "generation_config.json: 100%"
          }
        },
        "f6085340b6474734a8602678b15c9d66": {
          "model_module": "@jupyter-widgets/controls",
          "model_name": "FloatProgressModel",
          "model_module_version": "1.5.0",
          "state": {
            "_dom_classes": [],
            "_model_module": "@jupyter-widgets/controls",
            "_model_module_version": "1.5.0",
            "_model_name": "FloatProgressModel",
            "_view_count": null,
            "_view_module": "@jupyter-widgets/controls",
            "_view_module_version": "1.5.0",
            "_view_name": "ProgressView",
            "bar_style": "success",
            "description": "",
            "description_tooltip": null,
            "layout": "IPY_MODEL_8e4cc866500a48ddab9803953dd8ab72",
            "max": 236,
            "min": 0,
            "orientation": "horizontal",
            "style": "IPY_MODEL_408e9591d89540caa6f7c6aae8a90775",
            "value": 236
          }
        },
        "e033c15cd01748d290761e4225d6d3fa": {
          "model_module": "@jupyter-widgets/controls",
          "model_name": "HTMLModel",
          "model_module_version": "1.5.0",
          "state": {
            "_dom_classes": [],
            "_model_module": "@jupyter-widgets/controls",
            "_model_module_version": "1.5.0",
            "_model_name": "HTMLModel",
            "_view_count": null,
            "_view_module": "@jupyter-widgets/controls",
            "_view_module_version": "1.5.0",
            "_view_name": "HTMLView",
            "description": "",
            "description_tooltip": null,
            "layout": "IPY_MODEL_5154997056424d61b8cd0b2b5376984b",
            "placeholder": "​",
            "style": "IPY_MODEL_649a3acf11f744caa7838ce9ea72a364",
            "value": " 236/236 [00:00&lt;00:00, 18.4kB/s]"
          }
        },
        "de70fc93357147229419f54ff1c5f78c": {
          "model_module": "@jupyter-widgets/base",
          "model_name": "LayoutModel",
          "model_module_version": "1.2.0",
          "state": {
            "_model_module": "@jupyter-widgets/base",
            "_model_module_version": "1.2.0",
            "_model_name": "LayoutModel",
            "_view_count": null,
            "_view_module": "@jupyter-widgets/base",
            "_view_module_version": "1.2.0",
            "_view_name": "LayoutView",
            "align_content": null,
            "align_items": null,
            "align_self": null,
            "border": null,
            "bottom": null,
            "display": null,
            "flex": null,
            "flex_flow": null,
            "grid_area": null,
            "grid_auto_columns": null,
            "grid_auto_flow": null,
            "grid_auto_rows": null,
            "grid_column": null,
            "grid_gap": null,
            "grid_row": null,
            "grid_template_areas": null,
            "grid_template_columns": null,
            "grid_template_rows": null,
            "height": null,
            "justify_content": null,
            "justify_items": null,
            "left": null,
            "margin": null,
            "max_height": null,
            "max_width": null,
            "min_height": null,
            "min_width": null,
            "object_fit": null,
            "object_position": null,
            "order": null,
            "overflow": null,
            "overflow_x": null,
            "overflow_y": null,
            "padding": null,
            "right": null,
            "top": null,
            "visibility": null,
            "width": null
          }
        },
        "35ef4c18f67e4fa581638fe8fac60cf8": {
          "model_module": "@jupyter-widgets/base",
          "model_name": "LayoutModel",
          "model_module_version": "1.2.0",
          "state": {
            "_model_module": "@jupyter-widgets/base",
            "_model_module_version": "1.2.0",
            "_model_name": "LayoutModel",
            "_view_count": null,
            "_view_module": "@jupyter-widgets/base",
            "_view_module_version": "1.2.0",
            "_view_name": "LayoutView",
            "align_content": null,
            "align_items": null,
            "align_self": null,
            "border": null,
            "bottom": null,
            "display": null,
            "flex": null,
            "flex_flow": null,
            "grid_area": null,
            "grid_auto_columns": null,
            "grid_auto_flow": null,
            "grid_auto_rows": null,
            "grid_column": null,
            "grid_gap": null,
            "grid_row": null,
            "grid_template_areas": null,
            "grid_template_columns": null,
            "grid_template_rows": null,
            "height": null,
            "justify_content": null,
            "justify_items": null,
            "left": null,
            "margin": null,
            "max_height": null,
            "max_width": null,
            "min_height": null,
            "min_width": null,
            "object_fit": null,
            "object_position": null,
            "order": null,
            "overflow": null,
            "overflow_x": null,
            "overflow_y": null,
            "padding": null,
            "right": null,
            "top": null,
            "visibility": null,
            "width": null
          }
        },
        "90233343ed214d3bbad99f376f2d57c8": {
          "model_module": "@jupyter-widgets/controls",
          "model_name": "DescriptionStyleModel",
          "model_module_version": "1.5.0",
          "state": {
            "_model_module": "@jupyter-widgets/controls",
            "_model_module_version": "1.5.0",
            "_model_name": "DescriptionStyleModel",
            "_view_count": null,
            "_view_module": "@jupyter-widgets/base",
            "_view_module_version": "1.2.0",
            "_view_name": "StyleView",
            "description_width": ""
          }
        },
        "8e4cc866500a48ddab9803953dd8ab72": {
          "model_module": "@jupyter-widgets/base",
          "model_name": "LayoutModel",
          "model_module_version": "1.2.0",
          "state": {
            "_model_module": "@jupyter-widgets/base",
            "_model_module_version": "1.2.0",
            "_model_name": "LayoutModel",
            "_view_count": null,
            "_view_module": "@jupyter-widgets/base",
            "_view_module_version": "1.2.0",
            "_view_name": "LayoutView",
            "align_content": null,
            "align_items": null,
            "align_self": null,
            "border": null,
            "bottom": null,
            "display": null,
            "flex": null,
            "flex_flow": null,
            "grid_area": null,
            "grid_auto_columns": null,
            "grid_auto_flow": null,
            "grid_auto_rows": null,
            "grid_column": null,
            "grid_gap": null,
            "grid_row": null,
            "grid_template_areas": null,
            "grid_template_columns": null,
            "grid_template_rows": null,
            "height": null,
            "justify_content": null,
            "justify_items": null,
            "left": null,
            "margin": null,
            "max_height": null,
            "max_width": null,
            "min_height": null,
            "min_width": null,
            "object_fit": null,
            "object_position": null,
            "order": null,
            "overflow": null,
            "overflow_x": null,
            "overflow_y": null,
            "padding": null,
            "right": null,
            "top": null,
            "visibility": null,
            "width": null
          }
        },
        "408e9591d89540caa6f7c6aae8a90775": {
          "model_module": "@jupyter-widgets/controls",
          "model_name": "ProgressStyleModel",
          "model_module_version": "1.5.0",
          "state": {
            "_model_module": "@jupyter-widgets/controls",
            "_model_module_version": "1.5.0",
            "_model_name": "ProgressStyleModel",
            "_view_count": null,
            "_view_module": "@jupyter-widgets/base",
            "_view_module_version": "1.2.0",
            "_view_name": "StyleView",
            "bar_color": null,
            "description_width": ""
          }
        },
        "5154997056424d61b8cd0b2b5376984b": {
          "model_module": "@jupyter-widgets/base",
          "model_name": "LayoutModel",
          "model_module_version": "1.2.0",
          "state": {
            "_model_module": "@jupyter-widgets/base",
            "_model_module_version": "1.2.0",
            "_model_name": "LayoutModel",
            "_view_count": null,
            "_view_module": "@jupyter-widgets/base",
            "_view_module_version": "1.2.0",
            "_view_name": "LayoutView",
            "align_content": null,
            "align_items": null,
            "align_self": null,
            "border": null,
            "bottom": null,
            "display": null,
            "flex": null,
            "flex_flow": null,
            "grid_area": null,
            "grid_auto_columns": null,
            "grid_auto_flow": null,
            "grid_auto_rows": null,
            "grid_column": null,
            "grid_gap": null,
            "grid_row": null,
            "grid_template_areas": null,
            "grid_template_columns": null,
            "grid_template_rows": null,
            "height": null,
            "justify_content": null,
            "justify_items": null,
            "left": null,
            "margin": null,
            "max_height": null,
            "max_width": null,
            "min_height": null,
            "min_width": null,
            "object_fit": null,
            "object_position": null,
            "order": null,
            "overflow": null,
            "overflow_x": null,
            "overflow_y": null,
            "padding": null,
            "right": null,
            "top": null,
            "visibility": null,
            "width": null
          }
        },
        "649a3acf11f744caa7838ce9ea72a364": {
          "model_module": "@jupyter-widgets/controls",
          "model_name": "DescriptionStyleModel",
          "model_module_version": "1.5.0",
          "state": {
            "_model_module": "@jupyter-widgets/controls",
            "_model_module_version": "1.5.0",
            "_model_name": "DescriptionStyleModel",
            "_view_count": null,
            "_view_module": "@jupyter-widgets/base",
            "_view_module_version": "1.2.0",
            "_view_name": "StyleView",
            "description_width": ""
          }
        },
        "0e930e24b6e14cf2b3c7c760a02b9e96": {
          "model_module": "@jupyter-widgets/controls",
          "model_name": "HBoxModel",
          "model_module_version": "1.5.0",
          "state": {
            "_dom_classes": [],
            "_model_module": "@jupyter-widgets/controls",
            "_model_module_version": "1.5.0",
            "_model_name": "HBoxModel",
            "_view_count": null,
            "_view_module": "@jupyter-widgets/controls",
            "_view_module_version": "1.5.0",
            "_view_name": "HBoxView",
            "box_style": "",
            "children": [
              "IPY_MODEL_4dc71798e95c44debaafb2ea008486ca",
              "IPY_MODEL_72ee54eebffc4dd2b6282fe10e57a866",
              "IPY_MODEL_c5287713bb464217a4bce20ad3ac357b"
            ],
            "layout": "IPY_MODEL_54adf39086484820a8b038b9d0766903"
          }
        },
        "4dc71798e95c44debaafb2ea008486ca": {
          "model_module": "@jupyter-widgets/controls",
          "model_name": "HTMLModel",
          "model_module_version": "1.5.0",
          "state": {
            "_dom_classes": [],
            "_model_module": "@jupyter-widgets/controls",
            "_model_module_version": "1.5.0",
            "_model_name": "HTMLModel",
            "_view_count": null,
            "_view_module": "@jupyter-widgets/controls",
            "_view_module_version": "1.5.0",
            "_view_name": "HTMLView",
            "description": "",
            "description_tooltip": null,
            "layout": "IPY_MODEL_9cdeca9832fa41bb8861e16f1c44eea7",
            "placeholder": "​",
            "style": "IPY_MODEL_bb9ddbb6ecc54f5498c777f95cf02060",
            "value": "tokenizer_config.json: 100%"
          }
        },
        "72ee54eebffc4dd2b6282fe10e57a866": {
          "model_module": "@jupyter-widgets/controls",
          "model_name": "FloatProgressModel",
          "model_module_version": "1.5.0",
          "state": {
            "_dom_classes": [],
            "_model_module": "@jupyter-widgets/controls",
            "_model_module_version": "1.5.0",
            "_model_name": "FloatProgressModel",
            "_view_count": null,
            "_view_module": "@jupyter-widgets/controls",
            "_view_module_version": "1.5.0",
            "_view_name": "ProgressView",
            "bar_style": "success",
            "description": "",
            "description_tooltip": null,
            "layout": "IPY_MODEL_e82b12a266f0448a996f81ae28e74627",
            "max": 52946,
            "min": 0,
            "orientation": "horizontal",
            "style": "IPY_MODEL_0804d6ec29524e039ea279a14af29b62",
            "value": 52946
          }
        },
        "c5287713bb464217a4bce20ad3ac357b": {
          "model_module": "@jupyter-widgets/controls",
          "model_name": "HTMLModel",
          "model_module_version": "1.5.0",
          "state": {
            "_dom_classes": [],
            "_model_module": "@jupyter-widgets/controls",
            "_model_module_version": "1.5.0",
            "_model_name": "HTMLModel",
            "_view_count": null,
            "_view_module": "@jupyter-widgets/controls",
            "_view_module_version": "1.5.0",
            "_view_name": "HTMLView",
            "description": "",
            "description_tooltip": null,
            "layout": "IPY_MODEL_152ed6a0651b48b6bf2b2cc4235dfe6c",
            "placeholder": "​",
            "style": "IPY_MODEL_5c06177fcb744d62836f41eafba10a48",
            "value": " 52.9k/52.9k [00:00&lt;00:00, 3.23MB/s]"
          }
        },
        "54adf39086484820a8b038b9d0766903": {
          "model_module": "@jupyter-widgets/base",
          "model_name": "LayoutModel",
          "model_module_version": "1.2.0",
          "state": {
            "_model_module": "@jupyter-widgets/base",
            "_model_module_version": "1.2.0",
            "_model_name": "LayoutModel",
            "_view_count": null,
            "_view_module": "@jupyter-widgets/base",
            "_view_module_version": "1.2.0",
            "_view_name": "LayoutView",
            "align_content": null,
            "align_items": null,
            "align_self": null,
            "border": null,
            "bottom": null,
            "display": null,
            "flex": null,
            "flex_flow": null,
            "grid_area": null,
            "grid_auto_columns": null,
            "grid_auto_flow": null,
            "grid_auto_rows": null,
            "grid_column": null,
            "grid_gap": null,
            "grid_row": null,
            "grid_template_areas": null,
            "grid_template_columns": null,
            "grid_template_rows": null,
            "height": null,
            "justify_content": null,
            "justify_items": null,
            "left": null,
            "margin": null,
            "max_height": null,
            "max_width": null,
            "min_height": null,
            "min_width": null,
            "object_fit": null,
            "object_position": null,
            "order": null,
            "overflow": null,
            "overflow_x": null,
            "overflow_y": null,
            "padding": null,
            "right": null,
            "top": null,
            "visibility": null,
            "width": null
          }
        },
        "9cdeca9832fa41bb8861e16f1c44eea7": {
          "model_module": "@jupyter-widgets/base",
          "model_name": "LayoutModel",
          "model_module_version": "1.2.0",
          "state": {
            "_model_module": "@jupyter-widgets/base",
            "_model_module_version": "1.2.0",
            "_model_name": "LayoutModel",
            "_view_count": null,
            "_view_module": "@jupyter-widgets/base",
            "_view_module_version": "1.2.0",
            "_view_name": "LayoutView",
            "align_content": null,
            "align_items": null,
            "align_self": null,
            "border": null,
            "bottom": null,
            "display": null,
            "flex": null,
            "flex_flow": null,
            "grid_area": null,
            "grid_auto_columns": null,
            "grid_auto_flow": null,
            "grid_auto_rows": null,
            "grid_column": null,
            "grid_gap": null,
            "grid_row": null,
            "grid_template_areas": null,
            "grid_template_columns": null,
            "grid_template_rows": null,
            "height": null,
            "justify_content": null,
            "justify_items": null,
            "left": null,
            "margin": null,
            "max_height": null,
            "max_width": null,
            "min_height": null,
            "min_width": null,
            "object_fit": null,
            "object_position": null,
            "order": null,
            "overflow": null,
            "overflow_x": null,
            "overflow_y": null,
            "padding": null,
            "right": null,
            "top": null,
            "visibility": null,
            "width": null
          }
        },
        "bb9ddbb6ecc54f5498c777f95cf02060": {
          "model_module": "@jupyter-widgets/controls",
          "model_name": "DescriptionStyleModel",
          "model_module_version": "1.5.0",
          "state": {
            "_model_module": "@jupyter-widgets/controls",
            "_model_module_version": "1.5.0",
            "_model_name": "DescriptionStyleModel",
            "_view_count": null,
            "_view_module": "@jupyter-widgets/base",
            "_view_module_version": "1.2.0",
            "_view_name": "StyleView",
            "description_width": ""
          }
        },
        "e82b12a266f0448a996f81ae28e74627": {
          "model_module": "@jupyter-widgets/base",
          "model_name": "LayoutModel",
          "model_module_version": "1.2.0",
          "state": {
            "_model_module": "@jupyter-widgets/base",
            "_model_module_version": "1.2.0",
            "_model_name": "LayoutModel",
            "_view_count": null,
            "_view_module": "@jupyter-widgets/base",
            "_view_module_version": "1.2.0",
            "_view_name": "LayoutView",
            "align_content": null,
            "align_items": null,
            "align_self": null,
            "border": null,
            "bottom": null,
            "display": null,
            "flex": null,
            "flex_flow": null,
            "grid_area": null,
            "grid_auto_columns": null,
            "grid_auto_flow": null,
            "grid_auto_rows": null,
            "grid_column": null,
            "grid_gap": null,
            "grid_row": null,
            "grid_template_areas": null,
            "grid_template_columns": null,
            "grid_template_rows": null,
            "height": null,
            "justify_content": null,
            "justify_items": null,
            "left": null,
            "margin": null,
            "max_height": null,
            "max_width": null,
            "min_height": null,
            "min_width": null,
            "object_fit": null,
            "object_position": null,
            "order": null,
            "overflow": null,
            "overflow_x": null,
            "overflow_y": null,
            "padding": null,
            "right": null,
            "top": null,
            "visibility": null,
            "width": null
          }
        },
        "0804d6ec29524e039ea279a14af29b62": {
          "model_module": "@jupyter-widgets/controls",
          "model_name": "ProgressStyleModel",
          "model_module_version": "1.5.0",
          "state": {
            "_model_module": "@jupyter-widgets/controls",
            "_model_module_version": "1.5.0",
            "_model_name": "ProgressStyleModel",
            "_view_count": null,
            "_view_module": "@jupyter-widgets/base",
            "_view_module_version": "1.2.0",
            "_view_name": "StyleView",
            "bar_color": null,
            "description_width": ""
          }
        },
        "152ed6a0651b48b6bf2b2cc4235dfe6c": {
          "model_module": "@jupyter-widgets/base",
          "model_name": "LayoutModel",
          "model_module_version": "1.2.0",
          "state": {
            "_model_module": "@jupyter-widgets/base",
            "_model_module_version": "1.2.0",
            "_model_name": "LayoutModel",
            "_view_count": null,
            "_view_module": "@jupyter-widgets/base",
            "_view_module_version": "1.2.0",
            "_view_name": "LayoutView",
            "align_content": null,
            "align_items": null,
            "align_self": null,
            "border": null,
            "bottom": null,
            "display": null,
            "flex": null,
            "flex_flow": null,
            "grid_area": null,
            "grid_auto_columns": null,
            "grid_auto_flow": null,
            "grid_auto_rows": null,
            "grid_column": null,
            "grid_gap": null,
            "grid_row": null,
            "grid_template_areas": null,
            "grid_template_columns": null,
            "grid_template_rows": null,
            "height": null,
            "justify_content": null,
            "justify_items": null,
            "left": null,
            "margin": null,
            "max_height": null,
            "max_width": null,
            "min_height": null,
            "min_width": null,
            "object_fit": null,
            "object_position": null,
            "order": null,
            "overflow": null,
            "overflow_x": null,
            "overflow_y": null,
            "padding": null,
            "right": null,
            "top": null,
            "visibility": null,
            "width": null
          }
        },
        "5c06177fcb744d62836f41eafba10a48": {
          "model_module": "@jupyter-widgets/controls",
          "model_name": "DescriptionStyleModel",
          "model_module_version": "1.5.0",
          "state": {
            "_model_module": "@jupyter-widgets/controls",
            "_model_module_version": "1.5.0",
            "_model_name": "DescriptionStyleModel",
            "_view_count": null,
            "_view_module": "@jupyter-widgets/base",
            "_view_module_version": "1.2.0",
            "_view_name": "StyleView",
            "description_width": ""
          }
        },
        "fb32528e4cd341b782a8801bad39beb2": {
          "model_module": "@jupyter-widgets/controls",
          "model_name": "HBoxModel",
          "model_module_version": "1.5.0",
          "state": {
            "_dom_classes": [],
            "_model_module": "@jupyter-widgets/controls",
            "_model_module_version": "1.5.0",
            "_model_name": "HBoxModel",
            "_view_count": null,
            "_view_module": "@jupyter-widgets/controls",
            "_view_module_version": "1.5.0",
            "_view_name": "HBoxView",
            "box_style": "",
            "children": [
              "IPY_MODEL_8cd9be70332843589935631eeecb22e2",
              "IPY_MODEL_baac56f325e9469eb9159d4f0d8a9786",
              "IPY_MODEL_284eaaf25b954d9cbd3a34fc791e0118"
            ],
            "layout": "IPY_MODEL_f626b812679743539118a5ae1d4dc8a1"
          }
        },
        "8cd9be70332843589935631eeecb22e2": {
          "model_module": "@jupyter-widgets/controls",
          "model_name": "HTMLModel",
          "model_module_version": "1.5.0",
          "state": {
            "_dom_classes": [],
            "_model_module": "@jupyter-widgets/controls",
            "_model_module_version": "1.5.0",
            "_model_name": "HTMLModel",
            "_view_count": null,
            "_view_module": "@jupyter-widgets/controls",
            "_view_module_version": "1.5.0",
            "_view_name": "HTMLView",
            "description": "",
            "description_tooltip": null,
            "layout": "IPY_MODEL_84ddadd3fefe44b78452eae2d94cfe95",
            "placeholder": "​",
            "style": "IPY_MODEL_7a452188e8534184814afc1f2e286ef6",
            "value": "special_tokens_map.json: 100%"
          }
        },
        "baac56f325e9469eb9159d4f0d8a9786": {
          "model_module": "@jupyter-widgets/controls",
          "model_name": "FloatProgressModel",
          "model_module_version": "1.5.0",
          "state": {
            "_dom_classes": [],
            "_model_module": "@jupyter-widgets/controls",
            "_model_module_version": "1.5.0",
            "_model_name": "FloatProgressModel",
            "_view_count": null,
            "_view_module": "@jupyter-widgets/controls",
            "_view_module_version": "1.5.0",
            "_view_name": "ProgressView",
            "bar_style": "success",
            "description": "",
            "description_tooltip": null,
            "layout": "IPY_MODEL_ca49d5e1a4d54bd09a737aeddd6b658a",
            "max": 483,
            "min": 0,
            "orientation": "horizontal",
            "style": "IPY_MODEL_b782cb23fe2646bbbcaaf50dc120e887",
            "value": 483
          }
        },
        "284eaaf25b954d9cbd3a34fc791e0118": {
          "model_module": "@jupyter-widgets/controls",
          "model_name": "HTMLModel",
          "model_module_version": "1.5.0",
          "state": {
            "_dom_classes": [],
            "_model_module": "@jupyter-widgets/controls",
            "_model_module_version": "1.5.0",
            "_model_name": "HTMLModel",
            "_view_count": null,
            "_view_module": "@jupyter-widgets/controls",
            "_view_module_version": "1.5.0",
            "_view_name": "HTMLView",
            "description": "",
            "description_tooltip": null,
            "layout": "IPY_MODEL_7f1eda53f17448d285b53cc5d1b0a2ba",
            "placeholder": "​",
            "style": "IPY_MODEL_c5359397f1104bf58514025d7f24d594",
            "value": " 483/483 [00:00&lt;00:00, 39.7kB/s]"
          }
        },
        "f626b812679743539118a5ae1d4dc8a1": {
          "model_module": "@jupyter-widgets/base",
          "model_name": "LayoutModel",
          "model_module_version": "1.2.0",
          "state": {
            "_model_module": "@jupyter-widgets/base",
            "_model_module_version": "1.2.0",
            "_model_name": "LayoutModel",
            "_view_count": null,
            "_view_module": "@jupyter-widgets/base",
            "_view_module_version": "1.2.0",
            "_view_name": "LayoutView",
            "align_content": null,
            "align_items": null,
            "align_self": null,
            "border": null,
            "bottom": null,
            "display": null,
            "flex": null,
            "flex_flow": null,
            "grid_area": null,
            "grid_auto_columns": null,
            "grid_auto_flow": null,
            "grid_auto_rows": null,
            "grid_column": null,
            "grid_gap": null,
            "grid_row": null,
            "grid_template_areas": null,
            "grid_template_columns": null,
            "grid_template_rows": null,
            "height": null,
            "justify_content": null,
            "justify_items": null,
            "left": null,
            "margin": null,
            "max_height": null,
            "max_width": null,
            "min_height": null,
            "min_width": null,
            "object_fit": null,
            "object_position": null,
            "order": null,
            "overflow": null,
            "overflow_x": null,
            "overflow_y": null,
            "padding": null,
            "right": null,
            "top": null,
            "visibility": null,
            "width": null
          }
        },
        "84ddadd3fefe44b78452eae2d94cfe95": {
          "model_module": "@jupyter-widgets/base",
          "model_name": "LayoutModel",
          "model_module_version": "1.2.0",
          "state": {
            "_model_module": "@jupyter-widgets/base",
            "_model_module_version": "1.2.0",
            "_model_name": "LayoutModel",
            "_view_count": null,
            "_view_module": "@jupyter-widgets/base",
            "_view_module_version": "1.2.0",
            "_view_name": "LayoutView",
            "align_content": null,
            "align_items": null,
            "align_self": null,
            "border": null,
            "bottom": null,
            "display": null,
            "flex": null,
            "flex_flow": null,
            "grid_area": null,
            "grid_auto_columns": null,
            "grid_auto_flow": null,
            "grid_auto_rows": null,
            "grid_column": null,
            "grid_gap": null,
            "grid_row": null,
            "grid_template_areas": null,
            "grid_template_columns": null,
            "grid_template_rows": null,
            "height": null,
            "justify_content": null,
            "justify_items": null,
            "left": null,
            "margin": null,
            "max_height": null,
            "max_width": null,
            "min_height": null,
            "min_width": null,
            "object_fit": null,
            "object_position": null,
            "order": null,
            "overflow": null,
            "overflow_x": null,
            "overflow_y": null,
            "padding": null,
            "right": null,
            "top": null,
            "visibility": null,
            "width": null
          }
        },
        "7a452188e8534184814afc1f2e286ef6": {
          "model_module": "@jupyter-widgets/controls",
          "model_name": "DescriptionStyleModel",
          "model_module_version": "1.5.0",
          "state": {
            "_model_module": "@jupyter-widgets/controls",
            "_model_module_version": "1.5.0",
            "_model_name": "DescriptionStyleModel",
            "_view_count": null,
            "_view_module": "@jupyter-widgets/base",
            "_view_module_version": "1.2.0",
            "_view_name": "StyleView",
            "description_width": ""
          }
        },
        "ca49d5e1a4d54bd09a737aeddd6b658a": {
          "model_module": "@jupyter-widgets/base",
          "model_name": "LayoutModel",
          "model_module_version": "1.2.0",
          "state": {
            "_model_module": "@jupyter-widgets/base",
            "_model_module_version": "1.2.0",
            "_model_name": "LayoutModel",
            "_view_count": null,
            "_view_module": "@jupyter-widgets/base",
            "_view_module_version": "1.2.0",
            "_view_name": "LayoutView",
            "align_content": null,
            "align_items": null,
            "align_self": null,
            "border": null,
            "bottom": null,
            "display": null,
            "flex": null,
            "flex_flow": null,
            "grid_area": null,
            "grid_auto_columns": null,
            "grid_auto_flow": null,
            "grid_auto_rows": null,
            "grid_column": null,
            "grid_gap": null,
            "grid_row": null,
            "grid_template_areas": null,
            "grid_template_columns": null,
            "grid_template_rows": null,
            "height": null,
            "justify_content": null,
            "justify_items": null,
            "left": null,
            "margin": null,
            "max_height": null,
            "max_width": null,
            "min_height": null,
            "min_width": null,
            "object_fit": null,
            "object_position": null,
            "order": null,
            "overflow": null,
            "overflow_x": null,
            "overflow_y": null,
            "padding": null,
            "right": null,
            "top": null,
            "visibility": null,
            "width": null
          }
        },
        "b782cb23fe2646bbbcaaf50dc120e887": {
          "model_module": "@jupyter-widgets/controls",
          "model_name": "ProgressStyleModel",
          "model_module_version": "1.5.0",
          "state": {
            "_model_module": "@jupyter-widgets/controls",
            "_model_module_version": "1.5.0",
            "_model_name": "ProgressStyleModel",
            "_view_count": null,
            "_view_module": "@jupyter-widgets/base",
            "_view_module_version": "1.2.0",
            "_view_name": "StyleView",
            "bar_color": null,
            "description_width": ""
          }
        },
        "7f1eda53f17448d285b53cc5d1b0a2ba": {
          "model_module": "@jupyter-widgets/base",
          "model_name": "LayoutModel",
          "model_module_version": "1.2.0",
          "state": {
            "_model_module": "@jupyter-widgets/base",
            "_model_module_version": "1.2.0",
            "_model_name": "LayoutModel",
            "_view_count": null,
            "_view_module": "@jupyter-widgets/base",
            "_view_module_version": "1.2.0",
            "_view_name": "LayoutView",
            "align_content": null,
            "align_items": null,
            "align_self": null,
            "border": null,
            "bottom": null,
            "display": null,
            "flex": null,
            "flex_flow": null,
            "grid_area": null,
            "grid_auto_columns": null,
            "grid_auto_flow": null,
            "grid_auto_rows": null,
            "grid_column": null,
            "grid_gap": null,
            "grid_row": null,
            "grid_template_areas": null,
            "grid_template_columns": null,
            "grid_template_rows": null,
            "height": null,
            "justify_content": null,
            "justify_items": null,
            "left": null,
            "margin": null,
            "max_height": null,
            "max_width": null,
            "min_height": null,
            "min_width": null,
            "object_fit": null,
            "object_position": null,
            "order": null,
            "overflow": null,
            "overflow_x": null,
            "overflow_y": null,
            "padding": null,
            "right": null,
            "top": null,
            "visibility": null,
            "width": null
          }
        },
        "c5359397f1104bf58514025d7f24d594": {
          "model_module": "@jupyter-widgets/controls",
          "model_name": "DescriptionStyleModel",
          "model_module_version": "1.5.0",
          "state": {
            "_model_module": "@jupyter-widgets/controls",
            "_model_module_version": "1.5.0",
            "_model_name": "DescriptionStyleModel",
            "_view_count": null,
            "_view_module": "@jupyter-widgets/base",
            "_view_module_version": "1.2.0",
            "_view_name": "StyleView",
            "description_width": ""
          }
        },
        "217606ce0134468486c83e2030071ae6": {
          "model_module": "@jupyter-widgets/controls",
          "model_name": "HBoxModel",
          "model_module_version": "1.5.0",
          "state": {
            "_dom_classes": [],
            "_model_module": "@jupyter-widgets/controls",
            "_model_module_version": "1.5.0",
            "_model_name": "HBoxModel",
            "_view_count": null,
            "_view_module": "@jupyter-widgets/controls",
            "_view_module_version": "1.5.0",
            "_view_name": "HBoxView",
            "box_style": "",
            "children": [
              "IPY_MODEL_b48d3ee99b9347cd9050e95756193e80",
              "IPY_MODEL_e157af5e80a5414cb8de6d80b0e21448",
              "IPY_MODEL_12ec075d047a4ac4aa19157c2bf62869"
            ],
            "layout": "IPY_MODEL_27f6db4d7737467fa7b3ef009481a51f"
          }
        },
        "b48d3ee99b9347cd9050e95756193e80": {
          "model_module": "@jupyter-widgets/controls",
          "model_name": "HTMLModel",
          "model_module_version": "1.5.0",
          "state": {
            "_dom_classes": [],
            "_model_module": "@jupyter-widgets/controls",
            "_model_module_version": "1.5.0",
            "_model_name": "HTMLModel",
            "_view_count": null,
            "_view_module": "@jupyter-widgets/controls",
            "_view_module_version": "1.5.0",
            "_view_name": "HTMLView",
            "description": "",
            "description_tooltip": null,
            "layout": "IPY_MODEL_09ca1a9d2b8f41b693b401c9fed05a3e",
            "placeholder": "​",
            "style": "IPY_MODEL_898e5de34b74463ba33ed555e32de4f3",
            "value": "tokenizer.json: 100%"
          }
        },
        "e157af5e80a5414cb8de6d80b0e21448": {
          "model_module": "@jupyter-widgets/controls",
          "model_name": "FloatProgressModel",
          "model_module_version": "1.5.0",
          "state": {
            "_dom_classes": [],
            "_model_module": "@jupyter-widgets/controls",
            "_model_module_version": "1.5.0",
            "_model_name": "FloatProgressModel",
            "_view_count": null,
            "_view_module": "@jupyter-widgets/controls",
            "_view_module_version": "1.5.0",
            "_view_name": "ProgressView",
            "bar_style": "success",
            "description": "",
            "description_tooltip": null,
            "layout": "IPY_MODEL_f4f3d9ec78a34682b5bb9ddfae3d0eec",
            "max": 17209530,
            "min": 0,
            "orientation": "horizontal",
            "style": "IPY_MODEL_267a0146ec974a93aa68791bce2906fa",
            "value": 17209530
          }
        },
        "12ec075d047a4ac4aa19157c2bf62869": {
          "model_module": "@jupyter-widgets/controls",
          "model_name": "HTMLModel",
          "model_module_version": "1.5.0",
          "state": {
            "_dom_classes": [],
            "_model_module": "@jupyter-widgets/controls",
            "_model_module_version": "1.5.0",
            "_model_name": "HTMLModel",
            "_view_count": null,
            "_view_module": "@jupyter-widgets/controls",
            "_view_module_version": "1.5.0",
            "_view_name": "HTMLView",
            "description": "",
            "description_tooltip": null,
            "layout": "IPY_MODEL_f6b1d8e9a3294d30ac58aa228cc639d6",
            "placeholder": "​",
            "style": "IPY_MODEL_aab93b8765ab496582925aecee1d1bf2",
            "value": " 17.2M/17.2M [00:00&lt;00:00, 32.2MB/s]"
          }
        },
        "27f6db4d7737467fa7b3ef009481a51f": {
          "model_module": "@jupyter-widgets/base",
          "model_name": "LayoutModel",
          "model_module_version": "1.2.0",
          "state": {
            "_model_module": "@jupyter-widgets/base",
            "_model_module_version": "1.2.0",
            "_model_name": "LayoutModel",
            "_view_count": null,
            "_view_module": "@jupyter-widgets/base",
            "_view_module_version": "1.2.0",
            "_view_name": "LayoutView",
            "align_content": null,
            "align_items": null,
            "align_self": null,
            "border": null,
            "bottom": null,
            "display": null,
            "flex": null,
            "flex_flow": null,
            "grid_area": null,
            "grid_auto_columns": null,
            "grid_auto_flow": null,
            "grid_auto_rows": null,
            "grid_column": null,
            "grid_gap": null,
            "grid_row": null,
            "grid_template_areas": null,
            "grid_template_columns": null,
            "grid_template_rows": null,
            "height": null,
            "justify_content": null,
            "justify_items": null,
            "left": null,
            "margin": null,
            "max_height": null,
            "max_width": null,
            "min_height": null,
            "min_width": null,
            "object_fit": null,
            "object_position": null,
            "order": null,
            "overflow": null,
            "overflow_x": null,
            "overflow_y": null,
            "padding": null,
            "right": null,
            "top": null,
            "visibility": null,
            "width": null
          }
        },
        "09ca1a9d2b8f41b693b401c9fed05a3e": {
          "model_module": "@jupyter-widgets/base",
          "model_name": "LayoutModel",
          "model_module_version": "1.2.0",
          "state": {
            "_model_module": "@jupyter-widgets/base",
            "_model_module_version": "1.2.0",
            "_model_name": "LayoutModel",
            "_view_count": null,
            "_view_module": "@jupyter-widgets/base",
            "_view_module_version": "1.2.0",
            "_view_name": "LayoutView",
            "align_content": null,
            "align_items": null,
            "align_self": null,
            "border": null,
            "bottom": null,
            "display": null,
            "flex": null,
            "flex_flow": null,
            "grid_area": null,
            "grid_auto_columns": null,
            "grid_auto_flow": null,
            "grid_auto_rows": null,
            "grid_column": null,
            "grid_gap": null,
            "grid_row": null,
            "grid_template_areas": null,
            "grid_template_columns": null,
            "grid_template_rows": null,
            "height": null,
            "justify_content": null,
            "justify_items": null,
            "left": null,
            "margin": null,
            "max_height": null,
            "max_width": null,
            "min_height": null,
            "min_width": null,
            "object_fit": null,
            "object_position": null,
            "order": null,
            "overflow": null,
            "overflow_x": null,
            "overflow_y": null,
            "padding": null,
            "right": null,
            "top": null,
            "visibility": null,
            "width": null
          }
        },
        "898e5de34b74463ba33ed555e32de4f3": {
          "model_module": "@jupyter-widgets/controls",
          "model_name": "DescriptionStyleModel",
          "model_module_version": "1.5.0",
          "state": {
            "_model_module": "@jupyter-widgets/controls",
            "_model_module_version": "1.5.0",
            "_model_name": "DescriptionStyleModel",
            "_view_count": null,
            "_view_module": "@jupyter-widgets/base",
            "_view_module_version": "1.2.0",
            "_view_name": "StyleView",
            "description_width": ""
          }
        },
        "f4f3d9ec78a34682b5bb9ddfae3d0eec": {
          "model_module": "@jupyter-widgets/base",
          "model_name": "LayoutModel",
          "model_module_version": "1.2.0",
          "state": {
            "_model_module": "@jupyter-widgets/base",
            "_model_module_version": "1.2.0",
            "_model_name": "LayoutModel",
            "_view_count": null,
            "_view_module": "@jupyter-widgets/base",
            "_view_module_version": "1.2.0",
            "_view_name": "LayoutView",
            "align_content": null,
            "align_items": null,
            "align_self": null,
            "border": null,
            "bottom": null,
            "display": null,
            "flex": null,
            "flex_flow": null,
            "grid_area": null,
            "grid_auto_columns": null,
            "grid_auto_flow": null,
            "grid_auto_rows": null,
            "grid_column": null,
            "grid_gap": null,
            "grid_row": null,
            "grid_template_areas": null,
            "grid_template_columns": null,
            "grid_template_rows": null,
            "height": null,
            "justify_content": null,
            "justify_items": null,
            "left": null,
            "margin": null,
            "max_height": null,
            "max_width": null,
            "min_height": null,
            "min_width": null,
            "object_fit": null,
            "object_position": null,
            "order": null,
            "overflow": null,
            "overflow_x": null,
            "overflow_y": null,
            "padding": null,
            "right": null,
            "top": null,
            "visibility": null,
            "width": null
          }
        },
        "267a0146ec974a93aa68791bce2906fa": {
          "model_module": "@jupyter-widgets/controls",
          "model_name": "ProgressStyleModel",
          "model_module_version": "1.5.0",
          "state": {
            "_model_module": "@jupyter-widgets/controls",
            "_model_module_version": "1.5.0",
            "_model_name": "ProgressStyleModel",
            "_view_count": null,
            "_view_module": "@jupyter-widgets/base",
            "_view_module_version": "1.2.0",
            "_view_name": "StyleView",
            "bar_color": null,
            "description_width": ""
          }
        },
        "f6b1d8e9a3294d30ac58aa228cc639d6": {
          "model_module": "@jupyter-widgets/base",
          "model_name": "LayoutModel",
          "model_module_version": "1.2.0",
          "state": {
            "_model_module": "@jupyter-widgets/base",
            "_model_module_version": "1.2.0",
            "_model_name": "LayoutModel",
            "_view_count": null,
            "_view_module": "@jupyter-widgets/base",
            "_view_module_version": "1.2.0",
            "_view_name": "LayoutView",
            "align_content": null,
            "align_items": null,
            "align_self": null,
            "border": null,
            "bottom": null,
            "display": null,
            "flex": null,
            "flex_flow": null,
            "grid_area": null,
            "grid_auto_columns": null,
            "grid_auto_flow": null,
            "grid_auto_rows": null,
            "grid_column": null,
            "grid_gap": null,
            "grid_row": null,
            "grid_template_areas": null,
            "grid_template_columns": null,
            "grid_template_rows": null,
            "height": null,
            "justify_content": null,
            "justify_items": null,
            "left": null,
            "margin": null,
            "max_height": null,
            "max_width": null,
            "min_height": null,
            "min_width": null,
            "object_fit": null,
            "object_position": null,
            "order": null,
            "overflow": null,
            "overflow_x": null,
            "overflow_y": null,
            "padding": null,
            "right": null,
            "top": null,
            "visibility": null,
            "width": null
          }
        },
        "aab93b8765ab496582925aecee1d1bf2": {
          "model_module": "@jupyter-widgets/controls",
          "model_name": "DescriptionStyleModel",
          "model_module_version": "1.5.0",
          "state": {
            "_model_module": "@jupyter-widgets/controls",
            "_model_module_version": "1.5.0",
            "_model_name": "DescriptionStyleModel",
            "_view_count": null,
            "_view_module": "@jupyter-widgets/base",
            "_view_module_version": "1.2.0",
            "_view_name": "StyleView",
            "description_width": ""
          }
        },
        "7d1c2c9abbd54b34bfe8885fa8bfdeb5": {
          "model_module": "@jupyter-widgets/controls",
          "model_name": "HBoxModel",
          "model_module_version": "1.5.0",
          "state": {
            "_dom_classes": [],
            "_model_module": "@jupyter-widgets/controls",
            "_model_module_version": "1.5.0",
            "_model_name": "HBoxModel",
            "_view_count": null,
            "_view_module": "@jupyter-widgets/controls",
            "_view_module_version": "1.5.0",
            "_view_name": "HBoxView",
            "box_style": "",
            "children": [
              "IPY_MODEL_eabc87df2ea245348e1cc21896d64ddd",
              "IPY_MODEL_8eb4fe1d9d344cbc949e0d02ec832970",
              "IPY_MODEL_f3c78754456d4a16b6892280119765a1"
            ],
            "layout": "IPY_MODEL_15887e5b12ed4e0ca36c35c5853c92ee"
          }
        },
        "eabc87df2ea245348e1cc21896d64ddd": {
          "model_module": "@jupyter-widgets/controls",
          "model_name": "HTMLModel",
          "model_module_version": "1.5.0",
          "state": {
            "_dom_classes": [],
            "_model_module": "@jupyter-widgets/controls",
            "_model_module_version": "1.5.0",
            "_model_name": "HTMLModel",
            "_view_count": null,
            "_view_module": "@jupyter-widgets/controls",
            "_view_module_version": "1.5.0",
            "_view_name": "HTMLView",
            "description": "",
            "description_tooltip": null,
            "layout": "IPY_MODEL_8969a0ece3814cf2984c4fb0a3fd47d7",
            "placeholder": "​",
            "style": "IPY_MODEL_552dd85b6c1f4835bbac004822173c32",
            "value": "README.md: 100%"
          }
        },
        "8eb4fe1d9d344cbc949e0d02ec832970": {
          "model_module": "@jupyter-widgets/controls",
          "model_name": "FloatProgressModel",
          "model_module_version": "1.5.0",
          "state": {
            "_dom_classes": [],
            "_model_module": "@jupyter-widgets/controls",
            "_model_module_version": "1.5.0",
            "_model_name": "FloatProgressModel",
            "_view_count": null,
            "_view_module": "@jupyter-widgets/controls",
            "_view_module_version": "1.5.0",
            "_view_name": "ProgressView",
            "bar_style": "success",
            "description": "",
            "description_tooltip": null,
            "layout": "IPY_MODEL_229071d76cb143a0aa7a1bafab1452ca",
            "max": 1248,
            "min": 0,
            "orientation": "horizontal",
            "style": "IPY_MODEL_c95d102c70404c418de15b3a4f48999d",
            "value": 1248
          }
        },
        "f3c78754456d4a16b6892280119765a1": {
          "model_module": "@jupyter-widgets/controls",
          "model_name": "HTMLModel",
          "model_module_version": "1.5.0",
          "state": {
            "_dom_classes": [],
            "_model_module": "@jupyter-widgets/controls",
            "_model_module_version": "1.5.0",
            "_model_name": "HTMLModel",
            "_view_count": null,
            "_view_module": "@jupyter-widgets/controls",
            "_view_module_version": "1.5.0",
            "_view_name": "HTMLView",
            "description": "",
            "description_tooltip": null,
            "layout": "IPY_MODEL_c3e7aa26ec564de688c2b31ffab7e0cb",
            "placeholder": "​",
            "style": "IPY_MODEL_8bf6942d4c8b4e5d9a80fae0f47d99dc",
            "value": " 1.25k/1.25k [00:00&lt;00:00, 83.8kB/s]"
          }
        },
        "15887e5b12ed4e0ca36c35c5853c92ee": {
          "model_module": "@jupyter-widgets/base",
          "model_name": "LayoutModel",
          "model_module_version": "1.2.0",
          "state": {
            "_model_module": "@jupyter-widgets/base",
            "_model_module_version": "1.2.0",
            "_model_name": "LayoutModel",
            "_view_count": null,
            "_view_module": "@jupyter-widgets/base",
            "_view_module_version": "1.2.0",
            "_view_name": "LayoutView",
            "align_content": null,
            "align_items": null,
            "align_self": null,
            "border": null,
            "bottom": null,
            "display": null,
            "flex": null,
            "flex_flow": null,
            "grid_area": null,
            "grid_auto_columns": null,
            "grid_auto_flow": null,
            "grid_auto_rows": null,
            "grid_column": null,
            "grid_gap": null,
            "grid_row": null,
            "grid_template_areas": null,
            "grid_template_columns": null,
            "grid_template_rows": null,
            "height": null,
            "justify_content": null,
            "justify_items": null,
            "left": null,
            "margin": null,
            "max_height": null,
            "max_width": null,
            "min_height": null,
            "min_width": null,
            "object_fit": null,
            "object_position": null,
            "order": null,
            "overflow": null,
            "overflow_x": null,
            "overflow_y": null,
            "padding": null,
            "right": null,
            "top": null,
            "visibility": null,
            "width": null
          }
        },
        "8969a0ece3814cf2984c4fb0a3fd47d7": {
          "model_module": "@jupyter-widgets/base",
          "model_name": "LayoutModel",
          "model_module_version": "1.2.0",
          "state": {
            "_model_module": "@jupyter-widgets/base",
            "_model_module_version": "1.2.0",
            "_model_name": "LayoutModel",
            "_view_count": null,
            "_view_module": "@jupyter-widgets/base",
            "_view_module_version": "1.2.0",
            "_view_name": "LayoutView",
            "align_content": null,
            "align_items": null,
            "align_self": null,
            "border": null,
            "bottom": null,
            "display": null,
            "flex": null,
            "flex_flow": null,
            "grid_area": null,
            "grid_auto_columns": null,
            "grid_auto_flow": null,
            "grid_auto_rows": null,
            "grid_column": null,
            "grid_gap": null,
            "grid_row": null,
            "grid_template_areas": null,
            "grid_template_columns": null,
            "grid_template_rows": null,
            "height": null,
            "justify_content": null,
            "justify_items": null,
            "left": null,
            "margin": null,
            "max_height": null,
            "max_width": null,
            "min_height": null,
            "min_width": null,
            "object_fit": null,
            "object_position": null,
            "order": null,
            "overflow": null,
            "overflow_x": null,
            "overflow_y": null,
            "padding": null,
            "right": null,
            "top": null,
            "visibility": null,
            "width": null
          }
        },
        "552dd85b6c1f4835bbac004822173c32": {
          "model_module": "@jupyter-widgets/controls",
          "model_name": "DescriptionStyleModel",
          "model_module_version": "1.5.0",
          "state": {
            "_model_module": "@jupyter-widgets/controls",
            "_model_module_version": "1.5.0",
            "_model_name": "DescriptionStyleModel",
            "_view_count": null,
            "_view_module": "@jupyter-widgets/base",
            "_view_module_version": "1.2.0",
            "_view_name": "StyleView",
            "description_width": ""
          }
        },
        "229071d76cb143a0aa7a1bafab1452ca": {
          "model_module": "@jupyter-widgets/base",
          "model_name": "LayoutModel",
          "model_module_version": "1.2.0",
          "state": {
            "_model_module": "@jupyter-widgets/base",
            "_model_module_version": "1.2.0",
            "_model_name": "LayoutModel",
            "_view_count": null,
            "_view_module": "@jupyter-widgets/base",
            "_view_module_version": "1.2.0",
            "_view_name": "LayoutView",
            "align_content": null,
            "align_items": null,
            "align_self": null,
            "border": null,
            "bottom": null,
            "display": null,
            "flex": null,
            "flex_flow": null,
            "grid_area": null,
            "grid_auto_columns": null,
            "grid_auto_flow": null,
            "grid_auto_rows": null,
            "grid_column": null,
            "grid_gap": null,
            "grid_row": null,
            "grid_template_areas": null,
            "grid_template_columns": null,
            "grid_template_rows": null,
            "height": null,
            "justify_content": null,
            "justify_items": null,
            "left": null,
            "margin": null,
            "max_height": null,
            "max_width": null,
            "min_height": null,
            "min_width": null,
            "object_fit": null,
            "object_position": null,
            "order": null,
            "overflow": null,
            "overflow_x": null,
            "overflow_y": null,
            "padding": null,
            "right": null,
            "top": null,
            "visibility": null,
            "width": null
          }
        },
        "c95d102c70404c418de15b3a4f48999d": {
          "model_module": "@jupyter-widgets/controls",
          "model_name": "ProgressStyleModel",
          "model_module_version": "1.5.0",
          "state": {
            "_model_module": "@jupyter-widgets/controls",
            "_model_module_version": "1.5.0",
            "_model_name": "ProgressStyleModel",
            "_view_count": null,
            "_view_module": "@jupyter-widgets/base",
            "_view_module_version": "1.2.0",
            "_view_name": "StyleView",
            "bar_color": null,
            "description_width": ""
          }
        },
        "c3e7aa26ec564de688c2b31ffab7e0cb": {
          "model_module": "@jupyter-widgets/base",
          "model_name": "LayoutModel",
          "model_module_version": "1.2.0",
          "state": {
            "_model_module": "@jupyter-widgets/base",
            "_model_module_version": "1.2.0",
            "_model_name": "LayoutModel",
            "_view_count": null,
            "_view_module": "@jupyter-widgets/base",
            "_view_module_version": "1.2.0",
            "_view_name": "LayoutView",
            "align_content": null,
            "align_items": null,
            "align_self": null,
            "border": null,
            "bottom": null,
            "display": null,
            "flex": null,
            "flex_flow": null,
            "grid_area": null,
            "grid_auto_columns": null,
            "grid_auto_flow": null,
            "grid_auto_rows": null,
            "grid_column": null,
            "grid_gap": null,
            "grid_row": null,
            "grid_template_areas": null,
            "grid_template_columns": null,
            "grid_template_rows": null,
            "height": null,
            "justify_content": null,
            "justify_items": null,
            "left": null,
            "margin": null,
            "max_height": null,
            "max_width": null,
            "min_height": null,
            "min_width": null,
            "object_fit": null,
            "object_position": null,
            "order": null,
            "overflow": null,
            "overflow_x": null,
            "overflow_y": null,
            "padding": null,
            "right": null,
            "top": null,
            "visibility": null,
            "width": null
          }
        },
        "8bf6942d4c8b4e5d9a80fae0f47d99dc": {
          "model_module": "@jupyter-widgets/controls",
          "model_name": "DescriptionStyleModel",
          "model_module_version": "1.5.0",
          "state": {
            "_model_module": "@jupyter-widgets/controls",
            "_model_module_version": "1.5.0",
            "_model_name": "DescriptionStyleModel",
            "_view_count": null,
            "_view_module": "@jupyter-widgets/base",
            "_view_module_version": "1.2.0",
            "_view_name": "StyleView",
            "description_width": ""
          }
        },
        "39677a0dc1e04ca6a18ff7bf24558be1": {
          "model_module": "@jupyter-widgets/controls",
          "model_name": "HBoxModel",
          "model_module_version": "1.5.0",
          "state": {
            "_dom_classes": [],
            "_model_module": "@jupyter-widgets/controls",
            "_model_module_version": "1.5.0",
            "_model_name": "HBoxModel",
            "_view_count": null,
            "_view_module": "@jupyter-widgets/controls",
            "_view_module_version": "1.5.0",
            "_view_name": "HBoxView",
            "box_style": "",
            "children": [
              "IPY_MODEL_c7579204eccc4fc5869c52e03646835e",
              "IPY_MODEL_1f210a3af3b84211b30581ac2094d5d1",
              "IPY_MODEL_b0cf7b6ef23d4cb3a0e240f660a84f1c"
            ],
            "layout": "IPY_MODEL_c2c98e89a71346b2921ea45d21aff1c8"
          }
        },
        "c7579204eccc4fc5869c52e03646835e": {
          "model_module": "@jupyter-widgets/controls",
          "model_name": "HTMLModel",
          "model_module_version": "1.5.0",
          "state": {
            "_dom_classes": [],
            "_model_module": "@jupyter-widgets/controls",
            "_model_module_version": "1.5.0",
            "_model_name": "HTMLModel",
            "_view_count": null,
            "_view_module": "@jupyter-widgets/controls",
            "_view_module_version": "1.5.0",
            "_view_name": "HTMLView",
            "description": "",
            "description_tooltip": null,
            "layout": "IPY_MODEL_e328f7e1fae14c9583cbb05adcfc8aea",
            "placeholder": "​",
            "style": "IPY_MODEL_c3f88afbd370417780256bf12a128f61",
            "value": "medical_o1_sft.json: 100%"
          }
        },
        "1f210a3af3b84211b30581ac2094d5d1": {
          "model_module": "@jupyter-widgets/controls",
          "model_name": "FloatProgressModel",
          "model_module_version": "1.5.0",
          "state": {
            "_dom_classes": [],
            "_model_module": "@jupyter-widgets/controls",
            "_model_module_version": "1.5.0",
            "_model_name": "FloatProgressModel",
            "_view_count": null,
            "_view_module": "@jupyter-widgets/controls",
            "_view_module_version": "1.5.0",
            "_view_name": "ProgressView",
            "bar_style": "success",
            "description": "",
            "description_tooltip": null,
            "layout": "IPY_MODEL_3a1ad5bf31834e92a7e7933d876451de",
            "max": 74078226,
            "min": 0,
            "orientation": "horizontal",
            "style": "IPY_MODEL_fbe2e777ae8d443ab682b0d937dd92cf",
            "value": 74078226
          }
        },
        "b0cf7b6ef23d4cb3a0e240f660a84f1c": {
          "model_module": "@jupyter-widgets/controls",
          "model_name": "HTMLModel",
          "model_module_version": "1.5.0",
          "state": {
            "_dom_classes": [],
            "_model_module": "@jupyter-widgets/controls",
            "_model_module_version": "1.5.0",
            "_model_name": "HTMLModel",
            "_view_count": null,
            "_view_module": "@jupyter-widgets/controls",
            "_view_module_version": "1.5.0",
            "_view_name": "HTMLView",
            "description": "",
            "description_tooltip": null,
            "layout": "IPY_MODEL_a6e3c02755214aaa8b0af5348b66b2e1",
            "placeholder": "​",
            "style": "IPY_MODEL_df0727a5697844c7be3bce88545e1d8c",
            "value": " 74.1M/74.1M [00:01&lt;00:00, 41.6MB/s]"
          }
        },
        "c2c98e89a71346b2921ea45d21aff1c8": {
          "model_module": "@jupyter-widgets/base",
          "model_name": "LayoutModel",
          "model_module_version": "1.2.0",
          "state": {
            "_model_module": "@jupyter-widgets/base",
            "_model_module_version": "1.2.0",
            "_model_name": "LayoutModel",
            "_view_count": null,
            "_view_module": "@jupyter-widgets/base",
            "_view_module_version": "1.2.0",
            "_view_name": "LayoutView",
            "align_content": null,
            "align_items": null,
            "align_self": null,
            "border": null,
            "bottom": null,
            "display": null,
            "flex": null,
            "flex_flow": null,
            "grid_area": null,
            "grid_auto_columns": null,
            "grid_auto_flow": null,
            "grid_auto_rows": null,
            "grid_column": null,
            "grid_gap": null,
            "grid_row": null,
            "grid_template_areas": null,
            "grid_template_columns": null,
            "grid_template_rows": null,
            "height": null,
            "justify_content": null,
            "justify_items": null,
            "left": null,
            "margin": null,
            "max_height": null,
            "max_width": null,
            "min_height": null,
            "min_width": null,
            "object_fit": null,
            "object_position": null,
            "order": null,
            "overflow": null,
            "overflow_x": null,
            "overflow_y": null,
            "padding": null,
            "right": null,
            "top": null,
            "visibility": null,
            "width": null
          }
        },
        "e328f7e1fae14c9583cbb05adcfc8aea": {
          "model_module": "@jupyter-widgets/base",
          "model_name": "LayoutModel",
          "model_module_version": "1.2.0",
          "state": {
            "_model_module": "@jupyter-widgets/base",
            "_model_module_version": "1.2.0",
            "_model_name": "LayoutModel",
            "_view_count": null,
            "_view_module": "@jupyter-widgets/base",
            "_view_module_version": "1.2.0",
            "_view_name": "LayoutView",
            "align_content": null,
            "align_items": null,
            "align_self": null,
            "border": null,
            "bottom": null,
            "display": null,
            "flex": null,
            "flex_flow": null,
            "grid_area": null,
            "grid_auto_columns": null,
            "grid_auto_flow": null,
            "grid_auto_rows": null,
            "grid_column": null,
            "grid_gap": null,
            "grid_row": null,
            "grid_template_areas": null,
            "grid_template_columns": null,
            "grid_template_rows": null,
            "height": null,
            "justify_content": null,
            "justify_items": null,
            "left": null,
            "margin": null,
            "max_height": null,
            "max_width": null,
            "min_height": null,
            "min_width": null,
            "object_fit": null,
            "object_position": null,
            "order": null,
            "overflow": null,
            "overflow_x": null,
            "overflow_y": null,
            "padding": null,
            "right": null,
            "top": null,
            "visibility": null,
            "width": null
          }
        },
        "c3f88afbd370417780256bf12a128f61": {
          "model_module": "@jupyter-widgets/controls",
          "model_name": "DescriptionStyleModel",
          "model_module_version": "1.5.0",
          "state": {
            "_model_module": "@jupyter-widgets/controls",
            "_model_module_version": "1.5.0",
            "_model_name": "DescriptionStyleModel",
            "_view_count": null,
            "_view_module": "@jupyter-widgets/base",
            "_view_module_version": "1.2.0",
            "_view_name": "StyleView",
            "description_width": ""
          }
        },
        "3a1ad5bf31834e92a7e7933d876451de": {
          "model_module": "@jupyter-widgets/base",
          "model_name": "LayoutModel",
          "model_module_version": "1.2.0",
          "state": {
            "_model_module": "@jupyter-widgets/base",
            "_model_module_version": "1.2.0",
            "_model_name": "LayoutModel",
            "_view_count": null,
            "_view_module": "@jupyter-widgets/base",
            "_view_module_version": "1.2.0",
            "_view_name": "LayoutView",
            "align_content": null,
            "align_items": null,
            "align_self": null,
            "border": null,
            "bottom": null,
            "display": null,
            "flex": null,
            "flex_flow": null,
            "grid_area": null,
            "grid_auto_columns": null,
            "grid_auto_flow": null,
            "grid_auto_rows": null,
            "grid_column": null,
            "grid_gap": null,
            "grid_row": null,
            "grid_template_areas": null,
            "grid_template_columns": null,
            "grid_template_rows": null,
            "height": null,
            "justify_content": null,
            "justify_items": null,
            "left": null,
            "margin": null,
            "max_height": null,
            "max_width": null,
            "min_height": null,
            "min_width": null,
            "object_fit": null,
            "object_position": null,
            "order": null,
            "overflow": null,
            "overflow_x": null,
            "overflow_y": null,
            "padding": null,
            "right": null,
            "top": null,
            "visibility": null,
            "width": null
          }
        },
        "fbe2e777ae8d443ab682b0d937dd92cf": {
          "model_module": "@jupyter-widgets/controls",
          "model_name": "ProgressStyleModel",
          "model_module_version": "1.5.0",
          "state": {
            "_model_module": "@jupyter-widgets/controls",
            "_model_module_version": "1.5.0",
            "_model_name": "ProgressStyleModel",
            "_view_count": null,
            "_view_module": "@jupyter-widgets/base",
            "_view_module_version": "1.2.0",
            "_view_name": "StyleView",
            "bar_color": null,
            "description_width": ""
          }
        },
        "a6e3c02755214aaa8b0af5348b66b2e1": {
          "model_module": "@jupyter-widgets/base",
          "model_name": "LayoutModel",
          "model_module_version": "1.2.0",
          "state": {
            "_model_module": "@jupyter-widgets/base",
            "_model_module_version": "1.2.0",
            "_model_name": "LayoutModel",
            "_view_count": null,
            "_view_module": "@jupyter-widgets/base",
            "_view_module_version": "1.2.0",
            "_view_name": "LayoutView",
            "align_content": null,
            "align_items": null,
            "align_self": null,
            "border": null,
            "bottom": null,
            "display": null,
            "flex": null,
            "flex_flow": null,
            "grid_area": null,
            "grid_auto_columns": null,
            "grid_auto_flow": null,
            "grid_auto_rows": null,
            "grid_column": null,
            "grid_gap": null,
            "grid_row": null,
            "grid_template_areas": null,
            "grid_template_columns": null,
            "grid_template_rows": null,
            "height": null,
            "justify_content": null,
            "justify_items": null,
            "left": null,
            "margin": null,
            "max_height": null,
            "max_width": null,
            "min_height": null,
            "min_width": null,
            "object_fit": null,
            "object_position": null,
            "order": null,
            "overflow": null,
            "overflow_x": null,
            "overflow_y": null,
            "padding": null,
            "right": null,
            "top": null,
            "visibility": null,
            "width": null
          }
        },
        "df0727a5697844c7be3bce88545e1d8c": {
          "model_module": "@jupyter-widgets/controls",
          "model_name": "DescriptionStyleModel",
          "model_module_version": "1.5.0",
          "state": {
            "_model_module": "@jupyter-widgets/controls",
            "_model_module_version": "1.5.0",
            "_model_name": "DescriptionStyleModel",
            "_view_count": null,
            "_view_module": "@jupyter-widgets/base",
            "_view_module_version": "1.2.0",
            "_view_name": "StyleView",
            "description_width": ""
          }
        },
        "4e9842746b894d938d21efffadee2c9e": {
          "model_module": "@jupyter-widgets/controls",
          "model_name": "HBoxModel",
          "model_module_version": "1.5.0",
          "state": {
            "_dom_classes": [],
            "_model_module": "@jupyter-widgets/controls",
            "_model_module_version": "1.5.0",
            "_model_name": "HBoxModel",
            "_view_count": null,
            "_view_module": "@jupyter-widgets/controls",
            "_view_module_version": "1.5.0",
            "_view_name": "HBoxView",
            "box_style": "",
            "children": [
              "IPY_MODEL_52c86e77f1a648fc8a7963dfc999c03e",
              "IPY_MODEL_ce84afda4755468785cd1b2498e535db",
              "IPY_MODEL_cf379ee8bbb146729acdb3238a3e08c8"
            ],
            "layout": "IPY_MODEL_add8e0a94a1a40eca994729bdcb75b1a"
          }
        },
        "52c86e77f1a648fc8a7963dfc999c03e": {
          "model_module": "@jupyter-widgets/controls",
          "model_name": "HTMLModel",
          "model_module_version": "1.5.0",
          "state": {
            "_dom_classes": [],
            "_model_module": "@jupyter-widgets/controls",
            "_model_module_version": "1.5.0",
            "_model_name": "HTMLModel",
            "_view_count": null,
            "_view_module": "@jupyter-widgets/controls",
            "_view_module_version": "1.5.0",
            "_view_name": "HTMLView",
            "description": "",
            "description_tooltip": null,
            "layout": "IPY_MODEL_d1c323538540440c83523926fe3c0fcb",
            "placeholder": "​",
            "style": "IPY_MODEL_09ca3b4ca85a4340aab5571c00474af2",
            "value": "Generating train split: 100%"
          }
        },
        "ce84afda4755468785cd1b2498e535db": {
          "model_module": "@jupyter-widgets/controls",
          "model_name": "FloatProgressModel",
          "model_module_version": "1.5.0",
          "state": {
            "_dom_classes": [],
            "_model_module": "@jupyter-widgets/controls",
            "_model_module_version": "1.5.0",
            "_model_name": "FloatProgressModel",
            "_view_count": null,
            "_view_module": "@jupyter-widgets/controls",
            "_view_module_version": "1.5.0",
            "_view_name": "ProgressView",
            "bar_style": "success",
            "description": "",
            "description_tooltip": null,
            "layout": "IPY_MODEL_950d969fe6e04fdebdb4d55ee7b47a5c",
            "max": 25371,
            "min": 0,
            "orientation": "horizontal",
            "style": "IPY_MODEL_4f43be2ea199486ca899331caeb4f73a",
            "value": 25371
          }
        },
        "cf379ee8bbb146729acdb3238a3e08c8": {
          "model_module": "@jupyter-widgets/controls",
          "model_name": "HTMLModel",
          "model_module_version": "1.5.0",
          "state": {
            "_dom_classes": [],
            "_model_module": "@jupyter-widgets/controls",
            "_model_module_version": "1.5.0",
            "_model_name": "HTMLModel",
            "_view_count": null,
            "_view_module": "@jupyter-widgets/controls",
            "_view_module_version": "1.5.0",
            "_view_name": "HTMLView",
            "description": "",
            "description_tooltip": null,
            "layout": "IPY_MODEL_5b6305cb0e1e4b37a7f185712225b63a",
            "placeholder": "​",
            "style": "IPY_MODEL_fe97cde805334f2ab33374c8c3204c32",
            "value": " 25371/25371 [00:01&lt;00:00, 13467.04 examples/s]"
          }
        },
        "add8e0a94a1a40eca994729bdcb75b1a": {
          "model_module": "@jupyter-widgets/base",
          "model_name": "LayoutModel",
          "model_module_version": "1.2.0",
          "state": {
            "_model_module": "@jupyter-widgets/base",
            "_model_module_version": "1.2.0",
            "_model_name": "LayoutModel",
            "_view_count": null,
            "_view_module": "@jupyter-widgets/base",
            "_view_module_version": "1.2.0",
            "_view_name": "LayoutView",
            "align_content": null,
            "align_items": null,
            "align_self": null,
            "border": null,
            "bottom": null,
            "display": null,
            "flex": null,
            "flex_flow": null,
            "grid_area": null,
            "grid_auto_columns": null,
            "grid_auto_flow": null,
            "grid_auto_rows": null,
            "grid_column": null,
            "grid_gap": null,
            "grid_row": null,
            "grid_template_areas": null,
            "grid_template_columns": null,
            "grid_template_rows": null,
            "height": null,
            "justify_content": null,
            "justify_items": null,
            "left": null,
            "margin": null,
            "max_height": null,
            "max_width": null,
            "min_height": null,
            "min_width": null,
            "object_fit": null,
            "object_position": null,
            "order": null,
            "overflow": null,
            "overflow_x": null,
            "overflow_y": null,
            "padding": null,
            "right": null,
            "top": null,
            "visibility": null,
            "width": null
          }
        },
        "d1c323538540440c83523926fe3c0fcb": {
          "model_module": "@jupyter-widgets/base",
          "model_name": "LayoutModel",
          "model_module_version": "1.2.0",
          "state": {
            "_model_module": "@jupyter-widgets/base",
            "_model_module_version": "1.2.0",
            "_model_name": "LayoutModel",
            "_view_count": null,
            "_view_module": "@jupyter-widgets/base",
            "_view_module_version": "1.2.0",
            "_view_name": "LayoutView",
            "align_content": null,
            "align_items": null,
            "align_self": null,
            "border": null,
            "bottom": null,
            "display": null,
            "flex": null,
            "flex_flow": null,
            "grid_area": null,
            "grid_auto_columns": null,
            "grid_auto_flow": null,
            "grid_auto_rows": null,
            "grid_column": null,
            "grid_gap": null,
            "grid_row": null,
            "grid_template_areas": null,
            "grid_template_columns": null,
            "grid_template_rows": null,
            "height": null,
            "justify_content": null,
            "justify_items": null,
            "left": null,
            "margin": null,
            "max_height": null,
            "max_width": null,
            "min_height": null,
            "min_width": null,
            "object_fit": null,
            "object_position": null,
            "order": null,
            "overflow": null,
            "overflow_x": null,
            "overflow_y": null,
            "padding": null,
            "right": null,
            "top": null,
            "visibility": null,
            "width": null
          }
        },
        "09ca3b4ca85a4340aab5571c00474af2": {
          "model_module": "@jupyter-widgets/controls",
          "model_name": "DescriptionStyleModel",
          "model_module_version": "1.5.0",
          "state": {
            "_model_module": "@jupyter-widgets/controls",
            "_model_module_version": "1.5.0",
            "_model_name": "DescriptionStyleModel",
            "_view_count": null,
            "_view_module": "@jupyter-widgets/base",
            "_view_module_version": "1.2.0",
            "_view_name": "StyleView",
            "description_width": ""
          }
        },
        "950d969fe6e04fdebdb4d55ee7b47a5c": {
          "model_module": "@jupyter-widgets/base",
          "model_name": "LayoutModel",
          "model_module_version": "1.2.0",
          "state": {
            "_model_module": "@jupyter-widgets/base",
            "_model_module_version": "1.2.0",
            "_model_name": "LayoutModel",
            "_view_count": null,
            "_view_module": "@jupyter-widgets/base",
            "_view_module_version": "1.2.0",
            "_view_name": "LayoutView",
            "align_content": null,
            "align_items": null,
            "align_self": null,
            "border": null,
            "bottom": null,
            "display": null,
            "flex": null,
            "flex_flow": null,
            "grid_area": null,
            "grid_auto_columns": null,
            "grid_auto_flow": null,
            "grid_auto_rows": null,
            "grid_column": null,
            "grid_gap": null,
            "grid_row": null,
            "grid_template_areas": null,
            "grid_template_columns": null,
            "grid_template_rows": null,
            "height": null,
            "justify_content": null,
            "justify_items": null,
            "left": null,
            "margin": null,
            "max_height": null,
            "max_width": null,
            "min_height": null,
            "min_width": null,
            "object_fit": null,
            "object_position": null,
            "order": null,
            "overflow": null,
            "overflow_x": null,
            "overflow_y": null,
            "padding": null,
            "right": null,
            "top": null,
            "visibility": null,
            "width": null
          }
        },
        "4f43be2ea199486ca899331caeb4f73a": {
          "model_module": "@jupyter-widgets/controls",
          "model_name": "ProgressStyleModel",
          "model_module_version": "1.5.0",
          "state": {
            "_model_module": "@jupyter-widgets/controls",
            "_model_module_version": "1.5.0",
            "_model_name": "ProgressStyleModel",
            "_view_count": null,
            "_view_module": "@jupyter-widgets/base",
            "_view_module_version": "1.2.0",
            "_view_name": "StyleView",
            "bar_color": null,
            "description_width": ""
          }
        },
        "5b6305cb0e1e4b37a7f185712225b63a": {
          "model_module": "@jupyter-widgets/base",
          "model_name": "LayoutModel",
          "model_module_version": "1.2.0",
          "state": {
            "_model_module": "@jupyter-widgets/base",
            "_model_module_version": "1.2.0",
            "_model_name": "LayoutModel",
            "_view_count": null,
            "_view_module": "@jupyter-widgets/base",
            "_view_module_version": "1.2.0",
            "_view_name": "LayoutView",
            "align_content": null,
            "align_items": null,
            "align_self": null,
            "border": null,
            "bottom": null,
            "display": null,
            "flex": null,
            "flex_flow": null,
            "grid_area": null,
            "grid_auto_columns": null,
            "grid_auto_flow": null,
            "grid_auto_rows": null,
            "grid_column": null,
            "grid_gap": null,
            "grid_row": null,
            "grid_template_areas": null,
            "grid_template_columns": null,
            "grid_template_rows": null,
            "height": null,
            "justify_content": null,
            "justify_items": null,
            "left": null,
            "margin": null,
            "max_height": null,
            "max_width": null,
            "min_height": null,
            "min_width": null,
            "object_fit": null,
            "object_position": null,
            "order": null,
            "overflow": null,
            "overflow_x": null,
            "overflow_y": null,
            "padding": null,
            "right": null,
            "top": null,
            "visibility": null,
            "width": null
          }
        },
        "fe97cde805334f2ab33374c8c3204c32": {
          "model_module": "@jupyter-widgets/controls",
          "model_name": "DescriptionStyleModel",
          "model_module_version": "1.5.0",
          "state": {
            "_model_module": "@jupyter-widgets/controls",
            "_model_module_version": "1.5.0",
            "_model_name": "DescriptionStyleModel",
            "_view_count": null,
            "_view_module": "@jupyter-widgets/base",
            "_view_module_version": "1.2.0",
            "_view_name": "StyleView",
            "description_width": ""
          }
        },
        "94358a34a7054deab7ad5046d0d85370": {
          "model_module": "@jupyter-widgets/controls",
          "model_name": "HBoxModel",
          "model_module_version": "1.5.0",
          "state": {
            "_dom_classes": [],
            "_model_module": "@jupyter-widgets/controls",
            "_model_module_version": "1.5.0",
            "_model_name": "HBoxModel",
            "_view_count": null,
            "_view_module": "@jupyter-widgets/controls",
            "_view_module_version": "1.5.0",
            "_view_name": "HBoxView",
            "box_style": "",
            "children": [
              "IPY_MODEL_4b567a86db364c5991c0fbc180b595dd",
              "IPY_MODEL_b467a58eb9084e398c0d89a49f361379",
              "IPY_MODEL_149ccc2f62574ac08305442c03944daf"
            ],
            "layout": "IPY_MODEL_78bd3fc5823e4064a7780077fc4fca99"
          }
        },
        "4b567a86db364c5991c0fbc180b595dd": {
          "model_module": "@jupyter-widgets/controls",
          "model_name": "HTMLModel",
          "model_module_version": "1.5.0",
          "state": {
            "_dom_classes": [],
            "_model_module": "@jupyter-widgets/controls",
            "_model_module_version": "1.5.0",
            "_model_name": "HTMLModel",
            "_view_count": null,
            "_view_module": "@jupyter-widgets/controls",
            "_view_module_version": "1.5.0",
            "_view_name": "HTMLView",
            "description": "",
            "description_tooltip": null,
            "layout": "IPY_MODEL_de673681ffee492ca7e0233e98d1d950",
            "placeholder": "​",
            "style": "IPY_MODEL_2c38b49716334073976186fd24776edc",
            "value": "Map: 100%"
          }
        },
        "b467a58eb9084e398c0d89a49f361379": {
          "model_module": "@jupyter-widgets/controls",
          "model_name": "FloatProgressModel",
          "model_module_version": "1.5.0",
          "state": {
            "_dom_classes": [],
            "_model_module": "@jupyter-widgets/controls",
            "_model_module_version": "1.5.0",
            "_model_name": "FloatProgressModel",
            "_view_count": null,
            "_view_module": "@jupyter-widgets/controls",
            "_view_module_version": "1.5.0",
            "_view_name": "ProgressView",
            "bar_style": "success",
            "description": "",
            "description_tooltip": null,
            "layout": "IPY_MODEL_a3562d4e5e054d13a01468a1e72a1738",
            "max": 500,
            "min": 0,
            "orientation": "horizontal",
            "style": "IPY_MODEL_9d1a27028cf14e0ea6d14378363a0f67",
            "value": 500
          }
        },
        "149ccc2f62574ac08305442c03944daf": {
          "model_module": "@jupyter-widgets/controls",
          "model_name": "HTMLModel",
          "model_module_version": "1.5.0",
          "state": {
            "_dom_classes": [],
            "_model_module": "@jupyter-widgets/controls",
            "_model_module_version": "1.5.0",
            "_model_name": "HTMLModel",
            "_view_count": null,
            "_view_module": "@jupyter-widgets/controls",
            "_view_module_version": "1.5.0",
            "_view_name": "HTMLView",
            "description": "",
            "description_tooltip": null,
            "layout": "IPY_MODEL_1be3008d2b124b6a94ef87ff21b1acd2",
            "placeholder": "​",
            "style": "IPY_MODEL_6c122e6f2ba34ecbadd0d748fa5c3383",
            "value": " 500/500 [00:00&lt;00:00, 6478.37 examples/s]"
          }
        },
        "78bd3fc5823e4064a7780077fc4fca99": {
          "model_module": "@jupyter-widgets/base",
          "model_name": "LayoutModel",
          "model_module_version": "1.2.0",
          "state": {
            "_model_module": "@jupyter-widgets/base",
            "_model_module_version": "1.2.0",
            "_model_name": "LayoutModel",
            "_view_count": null,
            "_view_module": "@jupyter-widgets/base",
            "_view_module_version": "1.2.0",
            "_view_name": "LayoutView",
            "align_content": null,
            "align_items": null,
            "align_self": null,
            "border": null,
            "bottom": null,
            "display": null,
            "flex": null,
            "flex_flow": null,
            "grid_area": null,
            "grid_auto_columns": null,
            "grid_auto_flow": null,
            "grid_auto_rows": null,
            "grid_column": null,
            "grid_gap": null,
            "grid_row": null,
            "grid_template_areas": null,
            "grid_template_columns": null,
            "grid_template_rows": null,
            "height": null,
            "justify_content": null,
            "justify_items": null,
            "left": null,
            "margin": null,
            "max_height": null,
            "max_width": null,
            "min_height": null,
            "min_width": null,
            "object_fit": null,
            "object_position": null,
            "order": null,
            "overflow": null,
            "overflow_x": null,
            "overflow_y": null,
            "padding": null,
            "right": null,
            "top": null,
            "visibility": null,
            "width": null
          }
        },
        "de673681ffee492ca7e0233e98d1d950": {
          "model_module": "@jupyter-widgets/base",
          "model_name": "LayoutModel",
          "model_module_version": "1.2.0",
          "state": {
            "_model_module": "@jupyter-widgets/base",
            "_model_module_version": "1.2.0",
            "_model_name": "LayoutModel",
            "_view_count": null,
            "_view_module": "@jupyter-widgets/base",
            "_view_module_version": "1.2.0",
            "_view_name": "LayoutView",
            "align_content": null,
            "align_items": null,
            "align_self": null,
            "border": null,
            "bottom": null,
            "display": null,
            "flex": null,
            "flex_flow": null,
            "grid_area": null,
            "grid_auto_columns": null,
            "grid_auto_flow": null,
            "grid_auto_rows": null,
            "grid_column": null,
            "grid_gap": null,
            "grid_row": null,
            "grid_template_areas": null,
            "grid_template_columns": null,
            "grid_template_rows": null,
            "height": null,
            "justify_content": null,
            "justify_items": null,
            "left": null,
            "margin": null,
            "max_height": null,
            "max_width": null,
            "min_height": null,
            "min_width": null,
            "object_fit": null,
            "object_position": null,
            "order": null,
            "overflow": null,
            "overflow_x": null,
            "overflow_y": null,
            "padding": null,
            "right": null,
            "top": null,
            "visibility": null,
            "width": null
          }
        },
        "2c38b49716334073976186fd24776edc": {
          "model_module": "@jupyter-widgets/controls",
          "model_name": "DescriptionStyleModel",
          "model_module_version": "1.5.0",
          "state": {
            "_model_module": "@jupyter-widgets/controls",
            "_model_module_version": "1.5.0",
            "_model_name": "DescriptionStyleModel",
            "_view_count": null,
            "_view_module": "@jupyter-widgets/base",
            "_view_module_version": "1.2.0",
            "_view_name": "StyleView",
            "description_width": ""
          }
        },
        "a3562d4e5e054d13a01468a1e72a1738": {
          "model_module": "@jupyter-widgets/base",
          "model_name": "LayoutModel",
          "model_module_version": "1.2.0",
          "state": {
            "_model_module": "@jupyter-widgets/base",
            "_model_module_version": "1.2.0",
            "_model_name": "LayoutModel",
            "_view_count": null,
            "_view_module": "@jupyter-widgets/base",
            "_view_module_version": "1.2.0",
            "_view_name": "LayoutView",
            "align_content": null,
            "align_items": null,
            "align_self": null,
            "border": null,
            "bottom": null,
            "display": null,
            "flex": null,
            "flex_flow": null,
            "grid_area": null,
            "grid_auto_columns": null,
            "grid_auto_flow": null,
            "grid_auto_rows": null,
            "grid_column": null,
            "grid_gap": null,
            "grid_row": null,
            "grid_template_areas": null,
            "grid_template_columns": null,
            "grid_template_rows": null,
            "height": null,
            "justify_content": null,
            "justify_items": null,
            "left": null,
            "margin": null,
            "max_height": null,
            "max_width": null,
            "min_height": null,
            "min_width": null,
            "object_fit": null,
            "object_position": null,
            "order": null,
            "overflow": null,
            "overflow_x": null,
            "overflow_y": null,
            "padding": null,
            "right": null,
            "top": null,
            "visibility": null,
            "width": null
          }
        },
        "9d1a27028cf14e0ea6d14378363a0f67": {
          "model_module": "@jupyter-widgets/controls",
          "model_name": "ProgressStyleModel",
          "model_module_version": "1.5.0",
          "state": {
            "_model_module": "@jupyter-widgets/controls",
            "_model_module_version": "1.5.0",
            "_model_name": "ProgressStyleModel",
            "_view_count": null,
            "_view_module": "@jupyter-widgets/base",
            "_view_module_version": "1.2.0",
            "_view_name": "StyleView",
            "bar_color": null,
            "description_width": ""
          }
        },
        "1be3008d2b124b6a94ef87ff21b1acd2": {
          "model_module": "@jupyter-widgets/base",
          "model_name": "LayoutModel",
          "model_module_version": "1.2.0",
          "state": {
            "_model_module": "@jupyter-widgets/base",
            "_model_module_version": "1.2.0",
            "_model_name": "LayoutModel",
            "_view_count": null,
            "_view_module": "@jupyter-widgets/base",
            "_view_module_version": "1.2.0",
            "_view_name": "LayoutView",
            "align_content": null,
            "align_items": null,
            "align_self": null,
            "border": null,
            "bottom": null,
            "display": null,
            "flex": null,
            "flex_flow": null,
            "grid_area": null,
            "grid_auto_columns": null,
            "grid_auto_flow": null,
            "grid_auto_rows": null,
            "grid_column": null,
            "grid_gap": null,
            "grid_row": null,
            "grid_template_areas": null,
            "grid_template_columns": null,
            "grid_template_rows": null,
            "height": null,
            "justify_content": null,
            "justify_items": null,
            "left": null,
            "margin": null,
            "max_height": null,
            "max_width": null,
            "min_height": null,
            "min_width": null,
            "object_fit": null,
            "object_position": null,
            "order": null,
            "overflow": null,
            "overflow_x": null,
            "overflow_y": null,
            "padding": null,
            "right": null,
            "top": null,
            "visibility": null,
            "width": null
          }
        },
        "6c122e6f2ba34ecbadd0d748fa5c3383": {
          "model_module": "@jupyter-widgets/controls",
          "model_name": "DescriptionStyleModel",
          "model_module_version": "1.5.0",
          "state": {
            "_model_module": "@jupyter-widgets/controls",
            "_model_module_version": "1.5.0",
            "_model_name": "DescriptionStyleModel",
            "_view_count": null,
            "_view_module": "@jupyter-widgets/base",
            "_view_module_version": "1.2.0",
            "_view_name": "StyleView",
            "description_width": ""
          }
        },
        "4decab3c04b549f98eaacd32c8aae94c": {
          "model_module": "@jupyter-widgets/controls",
          "model_name": "HBoxModel",
          "model_module_version": "1.5.0",
          "state": {
            "_dom_classes": [],
            "_model_module": "@jupyter-widgets/controls",
            "_model_module_version": "1.5.0",
            "_model_name": "HBoxModel",
            "_view_count": null,
            "_view_module": "@jupyter-widgets/controls",
            "_view_module_version": "1.5.0",
            "_view_name": "HBoxView",
            "box_style": "",
            "children": [
              "IPY_MODEL_3715fcfa027f4d25952a21cada6761aa",
              "IPY_MODEL_0efea14aa89047b39fe7e87a3461a408",
              "IPY_MODEL_3c53ebbd61844d1c9f32413c11f310ef"
            ],
            "layout": "IPY_MODEL_01a9dafbb65c44d584263fce80bbae7e"
          }
        },
        "3715fcfa027f4d25952a21cada6761aa": {
          "model_module": "@jupyter-widgets/controls",
          "model_name": "HTMLModel",
          "model_module_version": "1.5.0",
          "state": {
            "_dom_classes": [],
            "_model_module": "@jupyter-widgets/controls",
            "_model_module_version": "1.5.0",
            "_model_name": "HTMLModel",
            "_view_count": null,
            "_view_module": "@jupyter-widgets/controls",
            "_view_module_version": "1.5.0",
            "_view_name": "HTMLView",
            "description": "",
            "description_tooltip": null,
            "layout": "IPY_MODEL_10ae7181cca74e5dbdb7c287fb4aaca7",
            "placeholder": "​",
            "style": "IPY_MODEL_792e02b8fbe141c9a1fd2d51c6938724",
            "value": "Map: 100%"
          }
        },
        "0efea14aa89047b39fe7e87a3461a408": {
          "model_module": "@jupyter-widgets/controls",
          "model_name": "FloatProgressModel",
          "model_module_version": "1.5.0",
          "state": {
            "_dom_classes": [],
            "_model_module": "@jupyter-widgets/controls",
            "_model_module_version": "1.5.0",
            "_model_name": "FloatProgressModel",
            "_view_count": null,
            "_view_module": "@jupyter-widgets/controls",
            "_view_module_version": "1.5.0",
            "_view_name": "ProgressView",
            "bar_style": "success",
            "description": "",
            "description_tooltip": null,
            "layout": "IPY_MODEL_0323e33edd6a4e039486b9673a07c826",
            "max": 500,
            "min": 0,
            "orientation": "horizontal",
            "style": "IPY_MODEL_a2047444a59b42d0a6b1afd04f1ff0cb",
            "value": 500
          }
        },
        "3c53ebbd61844d1c9f32413c11f310ef": {
          "model_module": "@jupyter-widgets/controls",
          "model_name": "HTMLModel",
          "model_module_version": "1.5.0",
          "state": {
            "_dom_classes": [],
            "_model_module": "@jupyter-widgets/controls",
            "_model_module_version": "1.5.0",
            "_model_name": "HTMLModel",
            "_view_count": null,
            "_view_module": "@jupyter-widgets/controls",
            "_view_module_version": "1.5.0",
            "_view_name": "HTMLView",
            "description": "",
            "description_tooltip": null,
            "layout": "IPY_MODEL_6de73e2376bd4c43bb3b9aae985f1383",
            "placeholder": "​",
            "style": "IPY_MODEL_7d9a6b7b1b814ddc90870a8cf2032e33",
            "value": " 500/500 [00:03&lt;00:00, 156.87 examples/s]"
          }
        },
        "01a9dafbb65c44d584263fce80bbae7e": {
          "model_module": "@jupyter-widgets/base",
          "model_name": "LayoutModel",
          "model_module_version": "1.2.0",
          "state": {
            "_model_module": "@jupyter-widgets/base",
            "_model_module_version": "1.2.0",
            "_model_name": "LayoutModel",
            "_view_count": null,
            "_view_module": "@jupyter-widgets/base",
            "_view_module_version": "1.2.0",
            "_view_name": "LayoutView",
            "align_content": null,
            "align_items": null,
            "align_self": null,
            "border": null,
            "bottom": null,
            "display": null,
            "flex": null,
            "flex_flow": null,
            "grid_area": null,
            "grid_auto_columns": null,
            "grid_auto_flow": null,
            "grid_auto_rows": null,
            "grid_column": null,
            "grid_gap": null,
            "grid_row": null,
            "grid_template_areas": null,
            "grid_template_columns": null,
            "grid_template_rows": null,
            "height": null,
            "justify_content": null,
            "justify_items": null,
            "left": null,
            "margin": null,
            "max_height": null,
            "max_width": null,
            "min_height": null,
            "min_width": null,
            "object_fit": null,
            "object_position": null,
            "order": null,
            "overflow": null,
            "overflow_x": null,
            "overflow_y": null,
            "padding": null,
            "right": null,
            "top": null,
            "visibility": null,
            "width": null
          }
        },
        "10ae7181cca74e5dbdb7c287fb4aaca7": {
          "model_module": "@jupyter-widgets/base",
          "model_name": "LayoutModel",
          "model_module_version": "1.2.0",
          "state": {
            "_model_module": "@jupyter-widgets/base",
            "_model_module_version": "1.2.0",
            "_model_name": "LayoutModel",
            "_view_count": null,
            "_view_module": "@jupyter-widgets/base",
            "_view_module_version": "1.2.0",
            "_view_name": "LayoutView",
            "align_content": null,
            "align_items": null,
            "align_self": null,
            "border": null,
            "bottom": null,
            "display": null,
            "flex": null,
            "flex_flow": null,
            "grid_area": null,
            "grid_auto_columns": null,
            "grid_auto_flow": null,
            "grid_auto_rows": null,
            "grid_column": null,
            "grid_gap": null,
            "grid_row": null,
            "grid_template_areas": null,
            "grid_template_columns": null,
            "grid_template_rows": null,
            "height": null,
            "justify_content": null,
            "justify_items": null,
            "left": null,
            "margin": null,
            "max_height": null,
            "max_width": null,
            "min_height": null,
            "min_width": null,
            "object_fit": null,
            "object_position": null,
            "order": null,
            "overflow": null,
            "overflow_x": null,
            "overflow_y": null,
            "padding": null,
            "right": null,
            "top": null,
            "visibility": null,
            "width": null
          }
        },
        "792e02b8fbe141c9a1fd2d51c6938724": {
          "model_module": "@jupyter-widgets/controls",
          "model_name": "DescriptionStyleModel",
          "model_module_version": "1.5.0",
          "state": {
            "_model_module": "@jupyter-widgets/controls",
            "_model_module_version": "1.5.0",
            "_model_name": "DescriptionStyleModel",
            "_view_count": null,
            "_view_module": "@jupyter-widgets/base",
            "_view_module_version": "1.2.0",
            "_view_name": "StyleView",
            "description_width": ""
          }
        },
        "0323e33edd6a4e039486b9673a07c826": {
          "model_module": "@jupyter-widgets/base",
          "model_name": "LayoutModel",
          "model_module_version": "1.2.0",
          "state": {
            "_model_module": "@jupyter-widgets/base",
            "_model_module_version": "1.2.0",
            "_model_name": "LayoutModel",
            "_view_count": null,
            "_view_module": "@jupyter-widgets/base",
            "_view_module_version": "1.2.0",
            "_view_name": "LayoutView",
            "align_content": null,
            "align_items": null,
            "align_self": null,
            "border": null,
            "bottom": null,
            "display": null,
            "flex": null,
            "flex_flow": null,
            "grid_area": null,
            "grid_auto_columns": null,
            "grid_auto_flow": null,
            "grid_auto_rows": null,
            "grid_column": null,
            "grid_gap": null,
            "grid_row": null,
            "grid_template_areas": null,
            "grid_template_columns": null,
            "grid_template_rows": null,
            "height": null,
            "justify_content": null,
            "justify_items": null,
            "left": null,
            "margin": null,
            "max_height": null,
            "max_width": null,
            "min_height": null,
            "min_width": null,
            "object_fit": null,
            "object_position": null,
            "order": null,
            "overflow": null,
            "overflow_x": null,
            "overflow_y": null,
            "padding": null,
            "right": null,
            "top": null,
            "visibility": null,
            "width": null
          }
        },
        "a2047444a59b42d0a6b1afd04f1ff0cb": {
          "model_module": "@jupyter-widgets/controls",
          "model_name": "ProgressStyleModel",
          "model_module_version": "1.5.0",
          "state": {
            "_model_module": "@jupyter-widgets/controls",
            "_model_module_version": "1.5.0",
            "_model_name": "ProgressStyleModel",
            "_view_count": null,
            "_view_module": "@jupyter-widgets/base",
            "_view_module_version": "1.2.0",
            "_view_name": "StyleView",
            "bar_color": null,
            "description_width": ""
          }
        },
        "6de73e2376bd4c43bb3b9aae985f1383": {
          "model_module": "@jupyter-widgets/base",
          "model_name": "LayoutModel",
          "model_module_version": "1.2.0",
          "state": {
            "_model_module": "@jupyter-widgets/base",
            "_model_module_version": "1.2.0",
            "_model_name": "LayoutModel",
            "_view_count": null,
            "_view_module": "@jupyter-widgets/base",
            "_view_module_version": "1.2.0",
            "_view_name": "LayoutView",
            "align_content": null,
            "align_items": null,
            "align_self": null,
            "border": null,
            "bottom": null,
            "display": null,
            "flex": null,
            "flex_flow": null,
            "grid_area": null,
            "grid_auto_columns": null,
            "grid_auto_flow": null,
            "grid_auto_rows": null,
            "grid_column": null,
            "grid_gap": null,
            "grid_row": null,
            "grid_template_areas": null,
            "grid_template_columns": null,
            "grid_template_rows": null,
            "height": null,
            "justify_content": null,
            "justify_items": null,
            "left": null,
            "margin": null,
            "max_height": null,
            "max_width": null,
            "min_height": null,
            "min_width": null,
            "object_fit": null,
            "object_position": null,
            "order": null,
            "overflow": null,
            "overflow_x": null,
            "overflow_y": null,
            "padding": null,
            "right": null,
            "top": null,
            "visibility": null,
            "width": null
          }
        },
        "7d9a6b7b1b814ddc90870a8cf2032e33": {
          "model_module": "@jupyter-widgets/controls",
          "model_name": "DescriptionStyleModel",
          "model_module_version": "1.5.0",
          "state": {
            "_model_module": "@jupyter-widgets/controls",
            "_model_module_version": "1.5.0",
            "_model_name": "DescriptionStyleModel",
            "_view_count": null,
            "_view_module": "@jupyter-widgets/base",
            "_view_module_version": "1.2.0",
            "_view_name": "StyleView",
            "description_width": ""
          }
        }
      }
    }
  },
  "cells": [
    {
      "cell_type": "markdown",
      "metadata": {
        "id": "view-in-github",
        "colab_type": "text"
      },
      "source": [
        "<a href=\"https://colab.research.google.com/github/NewCodeLearner/LLM-finetunning/blob/main/2_Fine_tuning_DeepSeek_R1(Reasoning_Model).ipynb\" target=\"_parent\"><img src=\"https://colab.research.google.com/assets/colab-badge.svg\" alt=\"Open In Colab\"/></a>"
      ]
    },
    {
      "cell_type": "markdown",
      "source": [
        "# About DeepSeek R1\n",
        "\n",
        "**DeepSeek-R1-Zero**\n",
        "DeepSeek-R1-Zero is the first open-source model trained solely with large-scale reinforcement learning (RL) instead of supervised fine-tuning (SFT) as an initial step. This approach enables the model to independently explore chain-of-thought (CoT) reasoning, solve complex problems, and iteratively refine its outputs. However, it comes with challenges such as repetitive reasoning steps, poor readability, and language mixing that can impact its clarity and usability.\n",
        "\n",
        "**DeepSeek-R1**\n",
        "DeepSeek-R1 was introduced to overcome the limitations of DeepSeek-R1-Zero by incorporating cold-start data before reinforcement learning, providing a strong foundation for reasoning and non-reasoning tasks.\n",
        "\n",
        "This multi-stage training enables the model to achieve state-of-the-art performance, comparable to OpenAI-o1, across math, code, and reasoning benchmarks while improving its output's readability and coherence.\n",
        "\n",
        "\n"
      ],
      "metadata": {
        "id": "HwlZyX00oS4c"
      }
    },
    {
      "cell_type": "markdown",
      "source": [
        "# 1. Setting up"
      ],
      "metadata": {
        "id": "gzr7vzQsoi2b"
      }
    },
    {
      "cell_type": "markdown",
      "source": [
        "For this project, we are using Google Colab as our Cloud IDE because it provides free access to GPUs, To get started, launch a new Colab notebook and add your Hugging Face token and Weights & Biases token as secrets.  \n",
        "\n",
        "After setting up the secrets, install the unsloth Python package. Unsloth is an open-source framework designed to make fine-tuning large language models (LLMs) 2X faster and more memory-efficient."
      ],
      "metadata": {
        "id": "bMngXu6PosOv"
      }
    },
    {
      "cell_type": "code",
      "source": [
        "%%capture\n",
        "!pip install unsloth\n",
        "!pip install --force-reinstall --no-cache-dir --no-deps git+https://github.com/unslothai/unsloth.git"
      ],
      "metadata": {
        "id": "gZ19oDHxozxd"
      },
      "execution_count": 1,
      "outputs": []
    },
    {
      "cell_type": "markdown",
      "source": [
        "Log in to the Hugging Face CLI using the Hugging Face API that we securely extracted from Colab Secrets."
      ],
      "metadata": {
        "id": "AEG584ZxsGuJ"
      }
    },
    {
      "cell_type": "code",
      "source": [
        "from huggingface_hub import login\n",
        "from google.colab import userdata\n",
        "\n",
        "\n",
        "hf_token = userdata.get('HF_TOKEN')\n",
        "login(hf_token)"
      ],
      "metadata": {
        "id": "RtaU_Ghbo7Qm"
      },
      "execution_count": 2,
      "outputs": []
    },
    {
      "cell_type": "markdown",
      "source": [
        "Log in to Weights & Biases (wandb) using your API key and create a new project to track the experiments and fine-tuning progress."
      ],
      "metadata": {
        "id": "V2ctV_1jsL2N"
      }
    },
    {
      "cell_type": "code",
      "source": [
        "import wandb\n",
        "\n",
        "wb_token = userdata.get('WANDB_KEY')\n",
        "\n",
        "wandb.login(key=wb_token)\n",
        "run = wandb.init(\n",
        "    project='Fine-tune-DeepSeek-R1-Distill-Llama-8B on Medical COT Dataset',\n",
        "    job_type=\"training\",\n",
        "    anonymous=\"allow\"\n",
        ")"
      ],
      "metadata": {
        "colab": {
          "base_uri": "https://localhost:8080/",
          "height": 266
        },
        "id": "rzo_av--sMjg",
        "outputId": "69f1c5ba-58ba-4c5a-e412-9c47841b960b"
      },
      "execution_count": 3,
      "outputs": [
        {
          "output_type": "stream",
          "name": "stderr",
          "text": [
            "\u001b[34m\u001b[1mwandb\u001b[0m: \u001b[33mWARNING\u001b[0m If you're specifying your api key in code, ensure this code is not shared publicly.\n",
            "\u001b[34m\u001b[1mwandb\u001b[0m: \u001b[33mWARNING\u001b[0m Consider setting the WANDB_API_KEY environment variable, or running `wandb login` from the command line.\n",
            "\u001b[34m\u001b[1mwandb\u001b[0m: Appending key for api.wandb.ai to your netrc file: /root/.netrc\n",
            "\u001b[34m\u001b[1mwandb\u001b[0m: Currently logged in as: \u001b[33mgirish-barhate\u001b[0m (\u001b[33mgirish-barhate-student\u001b[0m) to \u001b[32mhttps://api.wandb.ai\u001b[0m. Use \u001b[1m`wandb login --relogin`\u001b[0m to force relogin\n",
            "\u001b[34m\u001b[1mwandb\u001b[0m: Using wandb-core as the SDK backend.  Please refer to https://wandb.me/wandb-core for more information.\n"
          ]
        },
        {
          "output_type": "display_data",
          "data": {
            "text/plain": [
              "<IPython.core.display.HTML object>"
            ],
            "text/html": [
              "Tracking run with wandb version 0.19.5"
            ]
          },
          "metadata": {}
        },
        {
          "output_type": "display_data",
          "data": {
            "text/plain": [
              "<IPython.core.display.HTML object>"
            ],
            "text/html": [
              "Run data is saved locally in <code>/content/wandb/run-20250203_185629-wbhct3ob</code>"
            ]
          },
          "metadata": {}
        },
        {
          "output_type": "display_data",
          "data": {
            "text/plain": [
              "<IPython.core.display.HTML object>"
            ],
            "text/html": [
              "Syncing run <strong><a href='https://wandb.ai/girish-barhate-student/Fine-tune-DeepSeek-R1-Distill-Llama-8B%20on%20Medical%20COT%20Dataset/runs/wbhct3ob?apiKey=8ac09efd7bc45624a5b2d142a47b8106f985ac76' target=\"_blank\">prime-sponge-2</a></strong> to <a href='https://wandb.ai/girish-barhate-student/Fine-tune-DeepSeek-R1-Distill-Llama-8B%20on%20Medical%20COT%20Dataset?apiKey=8ac09efd7bc45624a5b2d142a47b8106f985ac76' target=\"_blank\">Weights & Biases</a> (<a href='https://wandb.me/developer-guide' target=\"_blank\">docs</a>)<br>"
            ]
          },
          "metadata": {}
        },
        {
          "output_type": "display_data",
          "data": {
            "text/plain": [
              "<IPython.core.display.HTML object>"
            ],
            "text/html": [
              " View project at <a href='https://wandb.ai/girish-barhate-student/Fine-tune-DeepSeek-R1-Distill-Llama-8B%20on%20Medical%20COT%20Dataset?apiKey=8ac09efd7bc45624a5b2d142a47b8106f985ac76' target=\"_blank\">https://wandb.ai/girish-barhate-student/Fine-tune-DeepSeek-R1-Distill-Llama-8B%20on%20Medical%20COT%20Dataset?apiKey=8ac09efd7bc45624a5b2d142a47b8106f985ac76</a>"
            ]
          },
          "metadata": {}
        },
        {
          "output_type": "display_data",
          "data": {
            "text/plain": [
              "<IPython.core.display.HTML object>"
            ],
            "text/html": [
              " View run at <a href='https://wandb.ai/girish-barhate-student/Fine-tune-DeepSeek-R1-Distill-Llama-8B%20on%20Medical%20COT%20Dataset/runs/wbhct3ob?apiKey=8ac09efd7bc45624a5b2d142a47b8106f985ac76' target=\"_blank\">https://wandb.ai/girish-barhate-student/Fine-tune-DeepSeek-R1-Distill-Llama-8B%20on%20Medical%20COT%20Dataset/runs/wbhct3ob?apiKey=8ac09efd7bc45624a5b2d142a47b8106f985ac76</a>"
            ]
          },
          "metadata": {}
        },
        {
          "output_type": "display_data",
          "data": {
            "text/plain": [
              "<IPython.core.display.HTML object>"
            ],
            "text/html": [
              "Do NOT share these links with anyone. They can be used to claim your runs."
            ]
          },
          "metadata": {}
        }
      ]
    },
    {
      "cell_type": "markdown",
      "source": [
        "# 2. Loading the model and tokenizer"
      ],
      "metadata": {
        "id": "-_-TmANPubt1"
      }
    },
    {
      "cell_type": "markdown",
      "source": [
        "For this project, we are loading the Unsloth version of DeepSeek-R1-Distill-Llama-8B.  Additionally, we will load the model in 4-bit quantization to optimize memory usage and performance."
      ],
      "metadata": {
        "id": "dcwDTg5bummF"
      }
    },
    {
      "cell_type": "code",
      "source": [
        "from unsloth import FastLanguageModel\n",
        "\n",
        "max_seq_length = 2048\n",
        "dtype = None\n",
        "load_in_4bit =True\n",
        "\n",
        "model,tokenizer = FastLanguageModel.from_pretrained(\n",
        "    model_name = \"unsloth/DeepSeek-R1-Distill-Llama-8B\",\n",
        "    max_seq_length = max_seq_length,\n",
        "    dtype = dtype,\n",
        "    load_in_4bit = load_in_4bit,\n",
        "    token = hf_token\n",
        ")"
      ],
      "metadata": {
        "colab": {
          "base_uri": "https://localhost:8080/",
          "height": 320,
          "referenced_widgets": [
            "471c61ba36514486941ba140df36fbfa",
            "5bc52a21acc54a589cdeb22e3deee3bb",
            "b31e9c195c794fc2a9d9b2c29e70b5ca",
            "6866d6cd118d4462bb8518ef7f7d93dd",
            "38ed8fd42d5640858bb74527424bfac5",
            "870344af2c4b42db8fabdebdf84bd85e",
            "4c20e42524c749eb8274e320fed40e4b",
            "fa7ef6315da746cab02f074ee9e9043a",
            "cdd01b22c3844a6782696b21cfea2f4d",
            "b9d5bb38a8e64e7787a6083970dbc3c1",
            "c4cd52fe18b841b9afd2eef117aeab99",
            "21ea2d36f9434c65a34e9e3b2e20073a",
            "e0f226d9bb2942efb19ef612c3c40376",
            "f6085340b6474734a8602678b15c9d66",
            "e033c15cd01748d290761e4225d6d3fa",
            "de70fc93357147229419f54ff1c5f78c",
            "35ef4c18f67e4fa581638fe8fac60cf8",
            "90233343ed214d3bbad99f376f2d57c8",
            "8e4cc866500a48ddab9803953dd8ab72",
            "408e9591d89540caa6f7c6aae8a90775",
            "5154997056424d61b8cd0b2b5376984b",
            "649a3acf11f744caa7838ce9ea72a364",
            "0e930e24b6e14cf2b3c7c760a02b9e96",
            "4dc71798e95c44debaafb2ea008486ca",
            "72ee54eebffc4dd2b6282fe10e57a866",
            "c5287713bb464217a4bce20ad3ac357b",
            "54adf39086484820a8b038b9d0766903",
            "9cdeca9832fa41bb8861e16f1c44eea7",
            "bb9ddbb6ecc54f5498c777f95cf02060",
            "e82b12a266f0448a996f81ae28e74627",
            "0804d6ec29524e039ea279a14af29b62",
            "152ed6a0651b48b6bf2b2cc4235dfe6c",
            "5c06177fcb744d62836f41eafba10a48",
            "fb32528e4cd341b782a8801bad39beb2",
            "8cd9be70332843589935631eeecb22e2",
            "baac56f325e9469eb9159d4f0d8a9786",
            "284eaaf25b954d9cbd3a34fc791e0118",
            "f626b812679743539118a5ae1d4dc8a1",
            "84ddadd3fefe44b78452eae2d94cfe95",
            "7a452188e8534184814afc1f2e286ef6",
            "ca49d5e1a4d54bd09a737aeddd6b658a",
            "b782cb23fe2646bbbcaaf50dc120e887",
            "7f1eda53f17448d285b53cc5d1b0a2ba",
            "c5359397f1104bf58514025d7f24d594",
            "217606ce0134468486c83e2030071ae6",
            "b48d3ee99b9347cd9050e95756193e80",
            "e157af5e80a5414cb8de6d80b0e21448",
            "12ec075d047a4ac4aa19157c2bf62869",
            "27f6db4d7737467fa7b3ef009481a51f",
            "09ca1a9d2b8f41b693b401c9fed05a3e",
            "898e5de34b74463ba33ed555e32de4f3",
            "f4f3d9ec78a34682b5bb9ddfae3d0eec",
            "267a0146ec974a93aa68791bce2906fa",
            "f6b1d8e9a3294d30ac58aa228cc639d6",
            "aab93b8765ab496582925aecee1d1bf2"
          ]
        },
        "id": "GYJ7riq5un0T",
        "outputId": "071b406c-fa04-498f-a287-462511d8df82"
      },
      "execution_count": 4,
      "outputs": [
        {
          "output_type": "stream",
          "name": "stdout",
          "text": [
            "🦥 Unsloth: Will patch your computer to enable 2x faster free finetuning.\n",
            "🦥 Unsloth Zoo will now patch everything to make training faster!\n",
            "==((====))==  Unsloth 2025.1.8: Fast Llama patching. Transformers: 4.47.1.\n",
            "   \\\\   /|    GPU: Tesla T4. Max memory: 14.741 GB. Platform: Linux.\n",
            "O^O/ \\_/ \\    Torch: 2.5.1+cu124. CUDA: 7.5. CUDA Toolkit: 12.4. Triton: 3.1.0\n",
            "\\        /    Bfloat16 = FALSE. FA [Xformers = 0.0.29.post1. FA2 = False]\n",
            " \"-____-\"     Free Apache license: http://github.com/unslothai/unsloth\n",
            "Unsloth: Fast downloading is enabled - ignore downloading bars which are red colored!\n"
          ]
        },
        {
          "output_type": "display_data",
          "data": {
            "text/plain": [
              "model.safetensors:   0%|          | 0.00/5.96G [00:00<?, ?B/s]"
            ],
            "application/vnd.jupyter.widget-view+json": {
              "version_major": 2,
              "version_minor": 0,
              "model_id": "471c61ba36514486941ba140df36fbfa"
            }
          },
          "metadata": {}
        },
        {
          "output_type": "display_data",
          "data": {
            "text/plain": [
              "generation_config.json:   0%|          | 0.00/236 [00:00<?, ?B/s]"
            ],
            "application/vnd.jupyter.widget-view+json": {
              "version_major": 2,
              "version_minor": 0,
              "model_id": "21ea2d36f9434c65a34e9e3b2e20073a"
            }
          },
          "metadata": {}
        },
        {
          "output_type": "display_data",
          "data": {
            "text/plain": [
              "tokenizer_config.json:   0%|          | 0.00/52.9k [00:00<?, ?B/s]"
            ],
            "application/vnd.jupyter.widget-view+json": {
              "version_major": 2,
              "version_minor": 0,
              "model_id": "0e930e24b6e14cf2b3c7c760a02b9e96"
            }
          },
          "metadata": {}
        },
        {
          "output_type": "display_data",
          "data": {
            "text/plain": [
              "special_tokens_map.json:   0%|          | 0.00/483 [00:00<?, ?B/s]"
            ],
            "application/vnd.jupyter.widget-view+json": {
              "version_major": 2,
              "version_minor": 0,
              "model_id": "fb32528e4cd341b782a8801bad39beb2"
            }
          },
          "metadata": {}
        },
        {
          "output_type": "display_data",
          "data": {
            "text/plain": [
              "tokenizer.json:   0%|          | 0.00/17.2M [00:00<?, ?B/s]"
            ],
            "application/vnd.jupyter.widget-view+json": {
              "version_major": 2,
              "version_minor": 0,
              "model_id": "217606ce0134468486c83e2030071ae6"
            }
          },
          "metadata": {}
        }
      ]
    },
    {
      "cell_type": "markdown",
      "source": [
        "# 3. Model inference before fine-tuning"
      ],
      "metadata": {
        "id": "SDVrXtkUxlWU"
      }
    },
    {
      "cell_type": "markdown",
      "source": [
        "To create a prompt style for the model, we will define a system prompt and include placeholders for the question and response generation. The prompt will guide the model to think step-by-step and provide a logical, accurate response."
      ],
      "metadata": {
        "id": "e0qbNwEOxtIp"
      }
    },
    {
      "cell_type": "code",
      "source": [
        "prompt_style = \"\"\"Below is an instruction that describes a task, paired with an input that provides further context.\n",
        "Write a response that appropriately completes the request.\n",
        "Before answering, think carefully about the question and create a step-by-step chain of thoughts to ensure a logical and accurate response.\n",
        "\n",
        "### Instruction:\n",
        "You are a medical expert with advanced knowledge in clinical reasoning, diagnostics, and treatment planning.\n",
        "Please answer the following medical question.\n",
        "\n",
        "### Question:\n",
        "{}\n",
        "\n",
        "### Response:\n",
        "<think>{}\"\"\""
      ],
      "metadata": {
        "id": "b3C9fNeyxpCV"
      },
      "execution_count": 5,
      "outputs": []
    },
    {
      "cell_type": "markdown",
      "source": [
        "we will provide a medical question to the prompt_style, convert it into tokens, and then pass the tokens to the model for response generation."
      ],
      "metadata": {
        "id": "hz7fl_bExzet"
      }
    },
    {
      "cell_type": "code",
      "source": [
        "question = \"A 61-year-old woman with a long history of involuntary urine loss during activities like coughing or sneezing but no leakage at night undergoes a gynecological exam and Q-tip test. Based on these findings, what would cystometry most likely reveal about her residual volume and detrusor contractions?\"\n",
        "\n",
        "\n",
        "FastLanguageModel.for_inference(model)\n",
        "inputs = tokenizer([prompt_style.format(question, \"\")], return_tensors=\"pt\").to(\"cuda\")\n",
        "\n",
        "outputs = model.generate(\n",
        "    input_ids=inputs.input_ids,\n",
        "    attention_mask=inputs.attention_mask,\n",
        "    max_new_tokens=1200,\n",
        "    use_cache=True,\n",
        ")\n",
        "response = tokenizer.batch_decode(outputs)\n",
        "print(response[0].split(\"### Response:\")[1])"
      ],
      "metadata": {
        "colab": {
          "base_uri": "https://localhost:8080/"
        },
        "id": "pLmfejZkx0B5",
        "outputId": "4d320895-dd70-42bf-bbc8-fe4896f9f3bb"
      },
      "execution_count": 6,
      "outputs": [
        {
          "output_type": "stream",
          "name": "stdout",
          "text": [
            "\n",
            "<think>\n",
            "Alright, so I'm trying to figure out what the cystometry would show for this 61-year-old woman. Let me break this down step by step.\n",
            "\n",
            "First, the patient has a history of involuntary urine loss when she coughs or sneezes. That makes me think of stress urinary incontinence. I remember that stress incontinence is usually due to uretal sphincter weakness, especially when it happens during activities that increase intra-abdominal pressure, like coughing.\n",
            "\n",
            "She's been diagnosed with this issue for a long time, so it's likely a long-standing problem. The fact that she doesn't leak at night suggests that it's not a predominant issue of nocturnal enuresis, which is more common in younger people or due to other conditions like diabetes or neurological issues.\n",
            "\n",
            "She underwent a gynecological exam and a Q-tip test. I'm a bit fuzzy on the Q-tip test specifics, but I think it's used to assess urethral function. The Q-tip is a small catheter with a balloon that's filled with water and then removed to see how far it can be pulled out. If the patient can pull it out easily, it suggests urethral sphincter deficiency.\n",
            "\n",
            "So, assuming the Q-tip test showed some degree of urethral incompetence, that would support the diagnosis of stress urinary incontinence. Now, moving on to what cystometry would show.\n",
            "\n",
            "Cystometry, or urodynamic studies, are used to evaluate how the bladder and urethral muscles function. They measure things like bladder capacity, compliance, and the pressure generated by the detrusor muscle (the muscle layer of the bladder) during filling and emptying.\n",
            "\n",
            "The question is specifically about residual volume and detrusor contractions. Residual volume is the amount of urine left in the bladder after emptying. If the patient has a significant residual volume, it might indicate that the bladder isn't emptying completely, which could contribute to urinary leakage.\n",
            "\n",
            "Detrusor contractions refer to the contractions of the detrusor muscle. In a normal situation, the detrusor contracts to push urine out of the bladder. In some cases, especially with overactive bladder or neurogenic bladder, these contractions might be too strong or frequent, leading to urinary urgency or incontinence.\n",
            "\n",
            "In this patient's case, since she has stress incontinence and not nocturnal enuresis, her detrusor contractions are likely normal in terms of frequency and strength. The primary issue is the inability to prevent urine leakage during activities that increase abdominal pressure, which is more related to urethral sphincter function rather than detrusor muscle activity.\n",
            "\n",
            "So, putting it all together, the cystometry would likely show normal detrusor contractions. The residual volume might be normal or slightly increased if there's some residual urine, but the main issue is with the urethral sphincter's ability to prevent leakage.\n",
            "\n",
            "I think I've covered all the points. The key takeaway is that the detrusor contractions are normal, and the issue lies elsewhere, specifically the urethral sphincter.\n",
            "</think>\n",
            "\n",
            "Based on the analysis of the 61-year-old woman's presentation and diagnostic findings, the cystometry is expected to reveal the following:\n",
            "\n",
            "1. **Residual Volume**: Likely normal or slightly elevated, indicating some residual urine, but not a primary concern.\n",
            "2. **Detrusor Contractions**: Normal in frequency and strength, as the primary issue lies with the urethral sphincter rather than bladder muscle function.\n",
            "\n",
            "**Conclusion**: The cystometry would show normal detrusor contractions, with residual volume being within normal limits or slightly increased. The primary issue is related to urethral sphincter function, contributing to stress urinary incontinence.<｜end▁of▁sentence｜>\n"
          ]
        }
      ]
    },
    {
      "cell_type": "markdown",
      "source": [
        "Even without fine-tuning, our model successfully generated a chain of thought and provided reasoning before delivering the final answer. The reasoning process is encapsulated within the <think></think> tags.\n",
        "\n",
        "So, why do we still need fine-tuning? The reasoning process, while detailed, was long-winded and not concise. Additionally, the final answer was presented in a bullet-point format, which deviates from the structure and style of the dataset that we want to fine-tune on."
      ],
      "metadata": {
        "id": "WvxZvUcMyRlU"
      }
    },
    {
      "cell_type": "markdown",
      "source": [
        "# 4. Loading and processing the dataset"
      ],
      "metadata": {
        "id": "NH_8Xk5e0mQG"
      }
    },
    {
      "cell_type": "markdown",
      "source": [
        "We will slightly change the prompt style for processing the dataset by adding the third placeholder for the complex chain of thought column."
      ],
      "metadata": {
        "id": "1fSFeH8M0poA"
      }
    },
    {
      "cell_type": "code",
      "source": [
        "train_prompt_style = \"\"\"Below is an instruction that describes a task, paired with an input that provides further context.\n",
        "Write a response that appropriately completes the request.\n",
        "Before answering, think carefully about the question and create a step-by-step chain of thoughts to ensure a logical and accurate response.\n",
        "\n",
        "### Instruction:\n",
        "You are a medical expert with advanced knowledge in clinical reasoning, diagnostics, and treatment planning.\n",
        "Please answer the following medical question.\n",
        "\n",
        "### Question:\n",
        "{}\n",
        "\n",
        "### Response:\n",
        "<think>\n",
        "{}\n",
        "</think>\n",
        "{}\"\"\""
      ],
      "metadata": {
        "id": "SsDZipG60qWZ"
      },
      "execution_count": 7,
      "outputs": []
    },
    {
      "cell_type": "markdown",
      "source": [
        "Write the Python function that will create a \"text\" column in the dataset, which consists of the train prompt style. Fill the placeholders with questions, chains of text, and answers."
      ],
      "metadata": {
        "id": "M-6ZwfdK04kW"
      }
    },
    {
      "cell_type": "code",
      "source": [
        "EOS_TOKEN = tokenizer.eos_token  # Must add EOS_TOKEN\n",
        "\n",
        "def formatting_prompts_func(examples):\n",
        "    inputs = examples[\"Question\"]\n",
        "    cots = examples[\"Complex_CoT\"]\n",
        "    outputs = examples[\"Response\"]\n",
        "    texts = []\n",
        "    for input, cot, output in zip(inputs, cots, outputs):\n",
        "        text = train_prompt_style.format(input, cot, output) + EOS_TOKEN\n",
        "        texts.append(text)\n",
        "    return {\n",
        "        \"text\": texts,\n",
        "    }"
      ],
      "metadata": {
        "id": "bZUAP8cv05Pe"
      },
      "execution_count": 8,
      "outputs": []
    },
    {
      "cell_type": "markdown",
      "source": [
        "We will load the first 500 samples from the FreedomIntelligence/medical-o1-reasoning-SFT dataset, which is available on the Hugging Face hub. After that, we will map the text column using the formatting_prompts_func function."
      ],
      "metadata": {
        "id": "kc0t5dR-2tjO"
      }
    },
    {
      "cell_type": "code",
      "source": [
        "from datasets import load_dataset\n",
        "dataset = load_dataset(\"FreedomIntelligence/medical-o1-reasoning-SFT\",\"en\", split = \"train[0:500]\",trust_remote_code=True)\n",
        "dataset = dataset.map(formatting_prompts_func, batched = True,)\n",
        "dataset[\"text\"][0]"
      ],
      "metadata": {
        "colab": {
          "base_uri": "https://localhost:8080/",
          "height": 307,
          "referenced_widgets": [
            "7d1c2c9abbd54b34bfe8885fa8bfdeb5",
            "eabc87df2ea245348e1cc21896d64ddd",
            "8eb4fe1d9d344cbc949e0d02ec832970",
            "f3c78754456d4a16b6892280119765a1",
            "15887e5b12ed4e0ca36c35c5853c92ee",
            "8969a0ece3814cf2984c4fb0a3fd47d7",
            "552dd85b6c1f4835bbac004822173c32",
            "229071d76cb143a0aa7a1bafab1452ca",
            "c95d102c70404c418de15b3a4f48999d",
            "c3e7aa26ec564de688c2b31ffab7e0cb",
            "8bf6942d4c8b4e5d9a80fae0f47d99dc",
            "39677a0dc1e04ca6a18ff7bf24558be1",
            "c7579204eccc4fc5869c52e03646835e",
            "1f210a3af3b84211b30581ac2094d5d1",
            "b0cf7b6ef23d4cb3a0e240f660a84f1c",
            "c2c98e89a71346b2921ea45d21aff1c8",
            "e328f7e1fae14c9583cbb05adcfc8aea",
            "c3f88afbd370417780256bf12a128f61",
            "3a1ad5bf31834e92a7e7933d876451de",
            "fbe2e777ae8d443ab682b0d937dd92cf",
            "a6e3c02755214aaa8b0af5348b66b2e1",
            "df0727a5697844c7be3bce88545e1d8c",
            "4e9842746b894d938d21efffadee2c9e",
            "52c86e77f1a648fc8a7963dfc999c03e",
            "ce84afda4755468785cd1b2498e535db",
            "cf379ee8bbb146729acdb3238a3e08c8",
            "add8e0a94a1a40eca994729bdcb75b1a",
            "d1c323538540440c83523926fe3c0fcb",
            "09ca3b4ca85a4340aab5571c00474af2",
            "950d969fe6e04fdebdb4d55ee7b47a5c",
            "4f43be2ea199486ca899331caeb4f73a",
            "5b6305cb0e1e4b37a7f185712225b63a",
            "fe97cde805334f2ab33374c8c3204c32",
            "94358a34a7054deab7ad5046d0d85370",
            "4b567a86db364c5991c0fbc180b595dd",
            "b467a58eb9084e398c0d89a49f361379",
            "149ccc2f62574ac08305442c03944daf",
            "78bd3fc5823e4064a7780077fc4fca99",
            "de673681ffee492ca7e0233e98d1d950",
            "2c38b49716334073976186fd24776edc",
            "a3562d4e5e054d13a01468a1e72a1738",
            "9d1a27028cf14e0ea6d14378363a0f67",
            "1be3008d2b124b6a94ef87ff21b1acd2",
            "6c122e6f2ba34ecbadd0d748fa5c3383"
          ]
        },
        "id": "LQoc1n1X2xS4",
        "outputId": "5478006d-2483-4f29-d575-48157a7a49ff"
      },
      "execution_count": 9,
      "outputs": [
        {
          "output_type": "display_data",
          "data": {
            "text/plain": [
              "README.md:   0%|          | 0.00/1.25k [00:00<?, ?B/s]"
            ],
            "application/vnd.jupyter.widget-view+json": {
              "version_major": 2,
              "version_minor": 0,
              "model_id": "7d1c2c9abbd54b34bfe8885fa8bfdeb5"
            }
          },
          "metadata": {}
        },
        {
          "output_type": "display_data",
          "data": {
            "text/plain": [
              "medical_o1_sft.json:   0%|          | 0.00/74.1M [00:00<?, ?B/s]"
            ],
            "application/vnd.jupyter.widget-view+json": {
              "version_major": 2,
              "version_minor": 0,
              "model_id": "39677a0dc1e04ca6a18ff7bf24558be1"
            }
          },
          "metadata": {}
        },
        {
          "output_type": "display_data",
          "data": {
            "text/plain": [
              "Generating train split:   0%|          | 0/25371 [00:00<?, ? examples/s]"
            ],
            "application/vnd.jupyter.widget-view+json": {
              "version_major": 2,
              "version_minor": 0,
              "model_id": "4e9842746b894d938d21efffadee2c9e"
            }
          },
          "metadata": {}
        },
        {
          "output_type": "display_data",
          "data": {
            "text/plain": [
              "Map:   0%|          | 0/500 [00:00<?, ? examples/s]"
            ],
            "application/vnd.jupyter.widget-view+json": {
              "version_major": 2,
              "version_minor": 0,
              "model_id": "94358a34a7054deab7ad5046d0d85370"
            }
          },
          "metadata": {}
        },
        {
          "output_type": "execute_result",
          "data": {
            "text/plain": [
              "\"Below is an instruction that describes a task, paired with an input that provides further context. \\nWrite a response that appropriately completes the request. \\nBefore answering, think carefully about the question and create a step-by-step chain of thoughts to ensure a logical and accurate response.\\n\\n### Instruction:\\nYou are a medical expert with advanced knowledge in clinical reasoning, diagnostics, and treatment planning. \\nPlease answer the following medical question. \\n\\n### Question:\\nA 61-year-old woman with a long history of involuntary urine loss during activities like coughing or sneezing but no leakage at night undergoes a gynecological exam and Q-tip test. Based on these findings, what would cystometry most likely reveal about her residual volume and detrusor contractions?\\n\\n### Response:\\n<think>\\nOkay, let's think about this step by step. There's a 61-year-old woman here who's been dealing with involuntary urine leakages whenever she's doing something that ups her abdominal pressure like coughing or sneezing. This sounds a lot like stress urinary incontinence to me. Now, it's interesting that she doesn't have any issues at night; she isn't experiencing leakage while sleeping. This likely means her bladder's ability to hold urine is fine when she isn't under physical stress. Hmm, that's a clue that we're dealing with something related to pressure rather than a bladder muscle problem. \\n\\nThe fact that she underwent a Q-tip test is intriguing too. This test is usually done to assess urethral mobility. In stress incontinence, a Q-tip might move significantly, showing urethral hypermobility. This kind of movement often means there's a weakness in the support structures that should help keep the urethra closed during increases in abdominal pressure. So, that's aligning well with stress incontinence.\\n\\nNow, let's think about what would happen during cystometry. Since stress incontinence isn't usually about sudden bladder contractions, I wouldn't expect to see involuntary detrusor contractions during this test. Her bladder isn't spasming or anything; it's more about the support structure failing under stress. Plus, she likely empties her bladder completely because stress incontinence doesn't typically involve incomplete emptying. So, her residual volume should be pretty normal. \\n\\nAll in all, it seems like if they do a cystometry on her, it will likely show a normal residual volume and no involuntary contractions. Yup, I think that makes sense given her symptoms and the typical presentations of stress urinary incontinence.\\n</think>\\nCystometry in this case of stress urinary incontinence would most likely reveal a normal post-void residual volume, as stress incontinence typically does not involve issues with bladder emptying. Additionally, since stress urinary incontinence is primarily related to physical exertion and not an overactive bladder, you would not expect to see any involuntary detrusor contractions during the test.<｜end▁of▁sentence｜>\""
            ],
            "application/vnd.google.colaboratory.intrinsic+json": {
              "type": "string"
            }
          },
          "metadata": {},
          "execution_count": 9
        }
      ]
    },
    {
      "cell_type": "markdown",
      "source": [
        "As we can see, the text column has a system prompt, instructions, chain of thought, and the answer."
      ],
      "metadata": {
        "id": "Bk_r6Ppu2_Ql"
      }
    },
    {
      "cell_type": "markdown",
      "source": [
        "# 5. Setting up the model"
      ],
      "metadata": {
        "id": "sfoC4Q7Q5XXQ"
      }
    },
    {
      "cell_type": "markdown",
      "source": [
        "Using the target modules, we will set up the model by adding the low-rank adopter to the model"
      ],
      "metadata": {
        "id": "6RZc72T-7Iil"
      }
    },
    {
      "cell_type": "code",
      "source": [
        "model = FastLanguageModel.get_peft_model(\n",
        "    model,\n",
        "    r=16,\n",
        "    target_modules=[\n",
        "        \"q_proj\",\n",
        "        \"k_proj\",\n",
        "        \"v_proj\",\n",
        "        \"o_proj\",\n",
        "        \"gate_proj\",\n",
        "        \"up_proj\",\n",
        "        \"down_proj\",\n",
        "    ],\n",
        "    lora_alpha=16,\n",
        "    lora_dropout=0,\n",
        "    bias=\"none\",\n",
        "    use_gradient_checkpointing=\"unsloth\",  # True or \"unsloth\" for very long context\n",
        "    random_state=3407,\n",
        "    use_rslora=False,\n",
        "    loftq_config=None,\n",
        ")"
      ],
      "metadata": {
        "colab": {
          "base_uri": "https://localhost:8080/"
        },
        "id": "yNjx4u5H7JIp",
        "outputId": "946fc77f-60c1-4a6e-f5fe-0db6c541a7bd"
      },
      "execution_count": 10,
      "outputs": [
        {
          "output_type": "stream",
          "name": "stderr",
          "text": [
            "Unsloth 2025.1.8 patched 32 layers with 32 QKV layers, 32 O layers and 32 MLP layers.\n"
          ]
        }
      ]
    },
    {
      "cell_type": "markdown",
      "source": [
        "Next, we will set up the training arguments and the trainer by providing the model, tokenizers, dataset, and other important training parameters that will optimize our fine-tuning process."
      ],
      "metadata": {
        "id": "QAKZcmP57Ott"
      }
    },
    {
      "cell_type": "code",
      "source": [
        "from trl import SFTTrainer\n",
        "from transformers import TrainingArguments\n",
        "from unsloth import is_bfloat16_supported\n",
        "\n",
        "trainer = SFTTrainer(\n",
        "    model=model,\n",
        "    train_dataset=dataset,\n",
        "    tokenizer=tokenizer,\n",
        "    max_seq_length=max_seq_length,\n",
        "    dataset_text_field=\"text\",\n",
        "    args=TrainingArguments(\n",
        "        per_device_train_batch_size=2,\n",
        "        gradient_accumulation_steps=4,\n",
        "        # Use num_train_epochs = 1, warmup_ratio for full training runs!\n",
        "        warmup_steps=5,\n",
        "        max_steps=60,\n",
        "        learning_rate=2e-4,\n",
        "        fp16=not is_bfloat16_supported(),\n",
        "        bf16=is_bfloat16_supported(),\n",
        "        logging_steps=10,\n",
        "        optim=\"adamw_8bit\",\n",
        "        weight_decay=0.01,\n",
        "        lr_scheduler_type=\"linear\",\n",
        "        seed=3407,\n",
        "        output_dir=\"outputs\",\n",
        "    ),\n",
        ")"
      ],
      "metadata": {
        "colab": {
          "base_uri": "https://localhost:8080/",
          "height": 49,
          "referenced_widgets": [
            "4decab3c04b549f98eaacd32c8aae94c",
            "3715fcfa027f4d25952a21cada6761aa",
            "0efea14aa89047b39fe7e87a3461a408",
            "3c53ebbd61844d1c9f32413c11f310ef",
            "01a9dafbb65c44d584263fce80bbae7e",
            "10ae7181cca74e5dbdb7c287fb4aaca7",
            "792e02b8fbe141c9a1fd2d51c6938724",
            "0323e33edd6a4e039486b9673a07c826",
            "a2047444a59b42d0a6b1afd04f1ff0cb",
            "6de73e2376bd4c43bb3b9aae985f1383",
            "7d9a6b7b1b814ddc90870a8cf2032e33"
          ]
        },
        "id": "7zeoODoK7Pg5",
        "outputId": "7bb4d57f-ffb2-4544-a2e0-4968d54193ad"
      },
      "execution_count": 12,
      "outputs": [
        {
          "output_type": "display_data",
          "data": {
            "text/plain": [
              "Map:   0%|          | 0/500 [00:00<?, ? examples/s]"
            ],
            "application/vnd.jupyter.widget-view+json": {
              "version_major": 2,
              "version_minor": 0,
              "model_id": "4decab3c04b549f98eaacd32c8aae94c"
            }
          },
          "metadata": {}
        }
      ]
    },
    {
      "cell_type": "markdown",
      "source": [
        "# 6. Model training"
      ],
      "metadata": {
        "id": "EGBo_fb3KL4c"
      }
    },
    {
      "cell_type": "markdown",
      "source": [
        "Run the following command to start training."
      ],
      "metadata": {
        "id": "UM9Vy-2XKPg5"
      }
    },
    {
      "cell_type": "code",
      "source": [
        "trainer_stats = trainer.train()"
      ],
      "metadata": {
        "colab": {
          "base_uri": "https://localhost:8080/",
          "height": 480
        },
        "id": "oVq757AxKM_D",
        "outputId": "cd951aa6-249f-4952-83f6-5dea7c5660bb"
      },
      "execution_count": 13,
      "outputs": [
        {
          "metadata": {
            "tags": null
          },
          "name": "stderr",
          "output_type": "stream",
          "text": [
            "==((====))==  Unsloth - 2x faster free finetuning | Num GPUs = 1\n",
            "   \\\\   /|    Num examples = 500 | Num Epochs = 1\n",
            "O^O/ \\_/ \\    Batch size per device = 2 | Gradient Accumulation steps = 4\n",
            "\\        /    Total batch size = 8 | Total steps = 60\n",
            " \"-____-\"     Number of trainable parameters = 41,943,040\n",
            "\u001b[34m\u001b[1mwandb\u001b[0m: \u001b[33mWARNING\u001b[0m The `run_name` is currently set to the same value as `TrainingArguments.output_dir`. If this was not intended, please specify a different run name by setting the `TrainingArguments.run_name` parameter.\n"
          ]
        },
        {
          "data": {
            "text/html": [
              "\n",
              "    <div>\n",
              "      \n",
              "      <progress value='19' max='60' style='width:300px; height:20px; vertical-align: middle;'></progress>\n",
              "      [19/60 05:57 < 14:22, 0.05 it/s, Epoch 0.29/1]\n",
              "    </div>\n",
              "    <table border=\"1\" class=\"dataframe\">\n",
              "  <thead>\n",
              " <tr style=\"text-align: left;\">\n",
              "      <th>Step</th>\n",
              "      <th>Training Loss</th>\n",
              "    </tr>\n",
              "  </thead>\n",
              "  <tbody>\n",
              "    <tr>\n",
              "      <td>10</td>\n",
              "      <td>1.918800</td>\n",
              "    </tr>\n",
              "  </tbody>\n",
              "</table><p>"
            ],
            "text/plain": [
              "<IPython.core.display.HTML object>"
            ]
          },
          "metadata": {},
          "output_type": "display_data"
        },
        {
          "output_type": "display_data",
          "data": {
            "text/plain": [
              "<IPython.core.display.HTML object>"
            ],
            "text/html": [
              "\n",
              "    <div>\n",
              "      \n",
              "      <progress value='60' max='60' style='width:300px; height:20px; vertical-align: middle;'></progress>\n",
              "      [60/60 20:44, Epoch 0/1]\n",
              "    </div>\n",
              "    <table border=\"1\" class=\"dataframe\">\n",
              "  <thead>\n",
              " <tr style=\"text-align: left;\">\n",
              "      <th>Step</th>\n",
              "      <th>Training Loss</th>\n",
              "    </tr>\n",
              "  </thead>\n",
              "  <tbody>\n",
              "    <tr>\n",
              "      <td>10</td>\n",
              "      <td>1.918800</td>\n",
              "    </tr>\n",
              "    <tr>\n",
              "      <td>20</td>\n",
              "      <td>1.461500</td>\n",
              "    </tr>\n",
              "    <tr>\n",
              "      <td>30</td>\n",
              "      <td>1.402300</td>\n",
              "    </tr>\n",
              "    <tr>\n",
              "      <td>40</td>\n",
              "      <td>1.308800</td>\n",
              "    </tr>\n",
              "    <tr>\n",
              "      <td>50</td>\n",
              "      <td>1.344300</td>\n",
              "    </tr>\n",
              "    <tr>\n",
              "      <td>60</td>\n",
              "      <td>1.314000</td>\n",
              "    </tr>\n",
              "  </tbody>\n",
              "</table><p>"
            ]
          },
          "metadata": {}
        }
      ]
    },
    {
      "cell_type": "markdown",
      "source": [
        "You can view the fill model evaluation report on the Weights and bais dash board by loging into theo the website and viewin the project."
      ],
      "metadata": {
        "id": "HQqon092KbUC"
      }
    },
    {
      "cell_type": "markdown",
      "source": [
        "![image.png](data:image/png;base64,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)"
      ],
      "metadata": {
        "id": "Iq36IkDmOrg4"
      }
    },
    {
      "cell_type": "markdown",
      "source": [
        "![image.png](data:image/png;base64,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)"
      ],
      "metadata": {
        "id": "IWPG0YRsT_jt"
      }
    }
  ]
}