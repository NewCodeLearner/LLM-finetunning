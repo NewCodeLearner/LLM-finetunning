{
  "nbformat": 4,
  "nbformat_minor": 0,
  "metadata": {
    "colab": {
      "provenance": [],
      "gpuType": "T4",
      "authorship_tag": "ABX9TyMnxR5DGny8RAl0Aa4z+UQN",
      "include_colab_link": true
    },
    "kernelspec": {
      "name": "python3",
      "display_name": "Python 3"
    },
    "language_info": {
      "name": "python"
    },
    "accelerator": "GPU",
    "widgets": {
      "application/vnd.jupyter.widget-state+json": {
        "471c61ba36514486941ba140df36fbfa": {
          "model_module": "@jupyter-widgets/controls",
          "model_name": "HBoxModel",
          "model_module_version": "1.5.0",
          "state": {
            "_dom_classes": [],
            "_model_module": "@jupyter-widgets/controls",
            "_model_module_version": "1.5.0",
            "_model_name": "HBoxModel",
            "_view_count": null,
            "_view_module": "@jupyter-widgets/controls",
            "_view_module_version": "1.5.0",
            "_view_name": "HBoxView",
            "box_style": "",
            "children": [
              "IPY_MODEL_5bc52a21acc54a589cdeb22e3deee3bb",
              "IPY_MODEL_b31e9c195c794fc2a9d9b2c29e70b5ca",
              "IPY_MODEL_6866d6cd118d4462bb8518ef7f7d93dd"
            ],
            "layout": "IPY_MODEL_38ed8fd42d5640858bb74527424bfac5"
          }
        },
        "5bc52a21acc54a589cdeb22e3deee3bb": {
          "model_module": "@jupyter-widgets/controls",
          "model_name": "HTMLModel",
          "model_module_version": "1.5.0",
          "state": {
            "_dom_classes": [],
            "_model_module": "@jupyter-widgets/controls",
            "_model_module_version": "1.5.0",
            "_model_name": "HTMLModel",
            "_view_count": null,
            "_view_module": "@jupyter-widgets/controls",
            "_view_module_version": "1.5.0",
            "_view_name": "HTMLView",
            "description": "",
            "description_tooltip": null,
            "layout": "IPY_MODEL_870344af2c4b42db8fabdebdf84bd85e",
            "placeholder": "​",
            "style": "IPY_MODEL_4c20e42524c749eb8274e320fed40e4b",
            "value": "model.safetensors: 100%"
          }
        },
        "b31e9c195c794fc2a9d9b2c29e70b5ca": {
          "model_module": "@jupyter-widgets/controls",
          "model_name": "FloatProgressModel",
          "model_module_version": "1.5.0",
          "state": {
            "_dom_classes": [],
            "_model_module": "@jupyter-widgets/controls",
            "_model_module_version": "1.5.0",
            "_model_name": "FloatProgressModel",
            "_view_count": null,
            "_view_module": "@jupyter-widgets/controls",
            "_view_module_version": "1.5.0",
            "_view_name": "ProgressView",
            "bar_style": "success",
            "description": "",
            "description_tooltip": null,
            "layout": "IPY_MODEL_fa7ef6315da746cab02f074ee9e9043a",
            "max": 5964186418,
            "min": 0,
            "orientation": "horizontal",
            "style": "IPY_MODEL_cdd01b22c3844a6782696b21cfea2f4d",
            "value": 5964186418
          }
        },
        "6866d6cd118d4462bb8518ef7f7d93dd": {
          "model_module": "@jupyter-widgets/controls",
          "model_name": "HTMLModel",
          "model_module_version": "1.5.0",
          "state": {
            "_dom_classes": [],
            "_model_module": "@jupyter-widgets/controls",
            "_model_module_version": "1.5.0",
            "_model_name": "HTMLModel",
            "_view_count": null,
            "_view_module": "@jupyter-widgets/controls",
            "_view_module_version": "1.5.0",
            "_view_name": "HTMLView",
            "description": "",
            "description_tooltip": null,
            "layout": "IPY_MODEL_b9d5bb38a8e64e7787a6083970dbc3c1",
            "placeholder": "​",
            "style": "IPY_MODEL_c4cd52fe18b841b9afd2eef117aeab99",
            "value": " 5.96G/5.96G [02:22&lt;00:00, 42.0MB/s]"
          }
        },
        "38ed8fd42d5640858bb74527424bfac5": {
          "model_module": "@jupyter-widgets/base",
          "model_name": "LayoutModel",
          "model_module_version": "1.2.0",
          "state": {
            "_model_module": "@jupyter-widgets/base",
            "_model_module_version": "1.2.0",
            "_model_name": "LayoutModel",
            "_view_count": null,
            "_view_module": "@jupyter-widgets/base",
            "_view_module_version": "1.2.0",
            "_view_name": "LayoutView",
            "align_content": null,
            "align_items": null,
            "align_self": null,
            "border": null,
            "bottom": null,
            "display": null,
            "flex": null,
            "flex_flow": null,
            "grid_area": null,
            "grid_auto_columns": null,
            "grid_auto_flow": null,
            "grid_auto_rows": null,
            "grid_column": null,
            "grid_gap": null,
            "grid_row": null,
            "grid_template_areas": null,
            "grid_template_columns": null,
            "grid_template_rows": null,
            "height": null,
            "justify_content": null,
            "justify_items": null,
            "left": null,
            "margin": null,
            "max_height": null,
            "max_width": null,
            "min_height": null,
            "min_width": null,
            "object_fit": null,
            "object_position": null,
            "order": null,
            "overflow": null,
            "overflow_x": null,
            "overflow_y": null,
            "padding": null,
            "right": null,
            "top": null,
            "visibility": null,
            "width": null
          }
        },
        "870344af2c4b42db8fabdebdf84bd85e": {
          "model_module": "@jupyter-widgets/base",
          "model_name": "LayoutModel",
          "model_module_version": "1.2.0",
          "state": {
            "_model_module": "@jupyter-widgets/base",
            "_model_module_version": "1.2.0",
            "_model_name": "LayoutModel",
            "_view_count": null,
            "_view_module": "@jupyter-widgets/base",
            "_view_module_version": "1.2.0",
            "_view_name": "LayoutView",
            "align_content": null,
            "align_items": null,
            "align_self": null,
            "border": null,
            "bottom": null,
            "display": null,
            "flex": null,
            "flex_flow": null,
            "grid_area": null,
            "grid_auto_columns": null,
            "grid_auto_flow": null,
            "grid_auto_rows": null,
            "grid_column": null,
            "grid_gap": null,
            "grid_row": null,
            "grid_template_areas": null,
            "grid_template_columns": null,
            "grid_template_rows": null,
            "height": null,
            "justify_content": null,
            "justify_items": null,
            "left": null,
            "margin": null,
            "max_height": null,
            "max_width": null,
            "min_height": null,
            "min_width": null,
            "object_fit": null,
            "object_position": null,
            "order": null,
            "overflow": null,
            "overflow_x": null,
            "overflow_y": null,
            "padding": null,
            "right": null,
            "top": null,
            "visibility": null,
            "width": null
          }
        },
        "4c20e42524c749eb8274e320fed40e4b": {
          "model_module": "@jupyter-widgets/controls",
          "model_name": "DescriptionStyleModel",
          "model_module_version": "1.5.0",
          "state": {
            "_model_module": "@jupyter-widgets/controls",
            "_model_module_version": "1.5.0",
            "_model_name": "DescriptionStyleModel",
            "_view_count": null,
            "_view_module": "@jupyter-widgets/base",
            "_view_module_version": "1.2.0",
            "_view_name": "StyleView",
            "description_width": ""
          }
        },
        "fa7ef6315da746cab02f074ee9e9043a": {
          "model_module": "@jupyter-widgets/base",
          "model_name": "LayoutModel",
          "model_module_version": "1.2.0",
          "state": {
            "_model_module": "@jupyter-widgets/base",
            "_model_module_version": "1.2.0",
            "_model_name": "LayoutModel",
            "_view_count": null,
            "_view_module": "@jupyter-widgets/base",
            "_view_module_version": "1.2.0",
            "_view_name": "LayoutView",
            "align_content": null,
            "align_items": null,
            "align_self": null,
            "border": null,
            "bottom": null,
            "display": null,
            "flex": null,
            "flex_flow": null,
            "grid_area": null,
            "grid_auto_columns": null,
            "grid_auto_flow": null,
            "grid_auto_rows": null,
            "grid_column": null,
            "grid_gap": null,
            "grid_row": null,
            "grid_template_areas": null,
            "grid_template_columns": null,
            "grid_template_rows": null,
            "height": null,
            "justify_content": null,
            "justify_items": null,
            "left": null,
            "margin": null,
            "max_height": null,
            "max_width": null,
            "min_height": null,
            "min_width": null,
            "object_fit": null,
            "object_position": null,
            "order": null,
            "overflow": null,
            "overflow_x": null,
            "overflow_y": null,
            "padding": null,
            "right": null,
            "top": null,
            "visibility": null,
            "width": null
          }
        },
        "cdd01b22c3844a6782696b21cfea2f4d": {
          "model_module": "@jupyter-widgets/controls",
          "model_name": "ProgressStyleModel",
          "model_module_version": "1.5.0",
          "state": {
            "_model_module": "@jupyter-widgets/controls",
            "_model_module_version": "1.5.0",
            "_model_name": "ProgressStyleModel",
            "_view_count": null,
            "_view_module": "@jupyter-widgets/base",
            "_view_module_version": "1.2.0",
            "_view_name": "StyleView",
            "bar_color": null,
            "description_width": ""
          }
        },
        "b9d5bb38a8e64e7787a6083970dbc3c1": {
          "model_module": "@jupyter-widgets/base",
          "model_name": "LayoutModel",
          "model_module_version": "1.2.0",
          "state": {
            "_model_module": "@jupyter-widgets/base",
            "_model_module_version": "1.2.0",
            "_model_name": "LayoutModel",
            "_view_count": null,
            "_view_module": "@jupyter-widgets/base",
            "_view_module_version": "1.2.0",
            "_view_name": "LayoutView",
            "align_content": null,
            "align_items": null,
            "align_self": null,
            "border": null,
            "bottom": null,
            "display": null,
            "flex": null,
            "flex_flow": null,
            "grid_area": null,
            "grid_auto_columns": null,
            "grid_auto_flow": null,
            "grid_auto_rows": null,
            "grid_column": null,
            "grid_gap": null,
            "grid_row": null,
            "grid_template_areas": null,
            "grid_template_columns": null,
            "grid_template_rows": null,
            "height": null,
            "justify_content": null,
            "justify_items": null,
            "left": null,
            "margin": null,
            "max_height": null,
            "max_width": null,
            "min_height": null,
            "min_width": null,
            "object_fit": null,
            "object_position": null,
            "order": null,
            "overflow": null,
            "overflow_x": null,
            "overflow_y": null,
            "padding": null,
            "right": null,
            "top": null,
            "visibility": null,
            "width": null
          }
        },
        "c4cd52fe18b841b9afd2eef117aeab99": {
          "model_module": "@jupyter-widgets/controls",
          "model_name": "DescriptionStyleModel",
          "model_module_version": "1.5.0",
          "state": {
            "_model_module": "@jupyter-widgets/controls",
            "_model_module_version": "1.5.0",
            "_model_name": "DescriptionStyleModel",
            "_view_count": null,
            "_view_module": "@jupyter-widgets/base",
            "_view_module_version": "1.2.0",
            "_view_name": "StyleView",
            "description_width": ""
          }
        },
        "21ea2d36f9434c65a34e9e3b2e20073a": {
          "model_module": "@jupyter-widgets/controls",
          "model_name": "HBoxModel",
          "model_module_version": "1.5.0",
          "state": {
            "_dom_classes": [],
            "_model_module": "@jupyter-widgets/controls",
            "_model_module_version": "1.5.0",
            "_model_name": "HBoxModel",
            "_view_count": null,
            "_view_module": "@jupyter-widgets/controls",
            "_view_module_version": "1.5.0",
            "_view_name": "HBoxView",
            "box_style": "",
            "children": [
              "IPY_MODEL_e0f226d9bb2942efb19ef612c3c40376",
              "IPY_MODEL_f6085340b6474734a8602678b15c9d66",
              "IPY_MODEL_e033c15cd01748d290761e4225d6d3fa"
            ],
            "layout": "IPY_MODEL_de70fc93357147229419f54ff1c5f78c"
          }
        },
        "e0f226d9bb2942efb19ef612c3c40376": {
          "model_module": "@jupyter-widgets/controls",
          "model_name": "HTMLModel",
          "model_module_version": "1.5.0",
          "state": {
            "_dom_classes": [],
            "_model_module": "@jupyter-widgets/controls",
            "_model_module_version": "1.5.0",
            "_model_name": "HTMLModel",
            "_view_count": null,
            "_view_module": "@jupyter-widgets/controls",
            "_view_module_version": "1.5.0",
            "_view_name": "HTMLView",
            "description": "",
            "description_tooltip": null,
            "layout": "IPY_MODEL_35ef4c18f67e4fa581638fe8fac60cf8",
            "placeholder": "​",
            "style": "IPY_MODEL_90233343ed214d3bbad99f376f2d57c8",
            "value": "generation_config.json: 100%"
          }
        },
        "f6085340b6474734a8602678b15c9d66": {
          "model_module": "@jupyter-widgets/controls",
          "model_name": "FloatProgressModel",
          "model_module_version": "1.5.0",
          "state": {
            "_dom_classes": [],
            "_model_module": "@jupyter-widgets/controls",
            "_model_module_version": "1.5.0",
            "_model_name": "FloatProgressModel",
            "_view_count": null,
            "_view_module": "@jupyter-widgets/controls",
            "_view_module_version": "1.5.0",
            "_view_name": "ProgressView",
            "bar_style": "success",
            "description": "",
            "description_tooltip": null,
            "layout": "IPY_MODEL_8e4cc866500a48ddab9803953dd8ab72",
            "max": 236,
            "min": 0,
            "orientation": "horizontal",
            "style": "IPY_MODEL_408e9591d89540caa6f7c6aae8a90775",
            "value": 236
          }
        },
        "e033c15cd01748d290761e4225d6d3fa": {
          "model_module": "@jupyter-widgets/controls",
          "model_name": "HTMLModel",
          "model_module_version": "1.5.0",
          "state": {
            "_dom_classes": [],
            "_model_module": "@jupyter-widgets/controls",
            "_model_module_version": "1.5.0",
            "_model_name": "HTMLModel",
            "_view_count": null,
            "_view_module": "@jupyter-widgets/controls",
            "_view_module_version": "1.5.0",
            "_view_name": "HTMLView",
            "description": "",
            "description_tooltip": null,
            "layout": "IPY_MODEL_5154997056424d61b8cd0b2b5376984b",
            "placeholder": "​",
            "style": "IPY_MODEL_649a3acf11f744caa7838ce9ea72a364",
            "value": " 236/236 [00:00&lt;00:00, 18.4kB/s]"
          }
        },
        "de70fc93357147229419f54ff1c5f78c": {
          "model_module": "@jupyter-widgets/base",
          "model_name": "LayoutModel",
          "model_module_version": "1.2.0",
          "state": {
            "_model_module": "@jupyter-widgets/base",
            "_model_module_version": "1.2.0",
            "_model_name": "LayoutModel",
            "_view_count": null,
            "_view_module": "@jupyter-widgets/base",
            "_view_module_version": "1.2.0",
            "_view_name": "LayoutView",
            "align_content": null,
            "align_items": null,
            "align_self": null,
            "border": null,
            "bottom": null,
            "display": null,
            "flex": null,
            "flex_flow": null,
            "grid_area": null,
            "grid_auto_columns": null,
            "grid_auto_flow": null,
            "grid_auto_rows": null,
            "grid_column": null,
            "grid_gap": null,
            "grid_row": null,
            "grid_template_areas": null,
            "grid_template_columns": null,
            "grid_template_rows": null,
            "height": null,
            "justify_content": null,
            "justify_items": null,
            "left": null,
            "margin": null,
            "max_height": null,
            "max_width": null,
            "min_height": null,
            "min_width": null,
            "object_fit": null,
            "object_position": null,
            "order": null,
            "overflow": null,
            "overflow_x": null,
            "overflow_y": null,
            "padding": null,
            "right": null,
            "top": null,
            "visibility": null,
            "width": null
          }
        },
        "35ef4c18f67e4fa581638fe8fac60cf8": {
          "model_module": "@jupyter-widgets/base",
          "model_name": "LayoutModel",
          "model_module_version": "1.2.0",
          "state": {
            "_model_module": "@jupyter-widgets/base",
            "_model_module_version": "1.2.0",
            "_model_name": "LayoutModel",
            "_view_count": null,
            "_view_module": "@jupyter-widgets/base",
            "_view_module_version": "1.2.0",
            "_view_name": "LayoutView",
            "align_content": null,
            "align_items": null,
            "align_self": null,
            "border": null,
            "bottom": null,
            "display": null,
            "flex": null,
            "flex_flow": null,
            "grid_area": null,
            "grid_auto_columns": null,
            "grid_auto_flow": null,
            "grid_auto_rows": null,
            "grid_column": null,
            "grid_gap": null,
            "grid_row": null,
            "grid_template_areas": null,
            "grid_template_columns": null,
            "grid_template_rows": null,
            "height": null,
            "justify_content": null,
            "justify_items": null,
            "left": null,
            "margin": null,
            "max_height": null,
            "max_width": null,
            "min_height": null,
            "min_width": null,
            "object_fit": null,
            "object_position": null,
            "order": null,
            "overflow": null,
            "overflow_x": null,
            "overflow_y": null,
            "padding": null,
            "right": null,
            "top": null,
            "visibility": null,
            "width": null
          }
        },
        "90233343ed214d3bbad99f376f2d57c8": {
          "model_module": "@jupyter-widgets/controls",
          "model_name": "DescriptionStyleModel",
          "model_module_version": "1.5.0",
          "state": {
            "_model_module": "@jupyter-widgets/controls",
            "_model_module_version": "1.5.0",
            "_model_name": "DescriptionStyleModel",
            "_view_count": null,
            "_view_module": "@jupyter-widgets/base",
            "_view_module_version": "1.2.0",
            "_view_name": "StyleView",
            "description_width": ""
          }
        },
        "8e4cc866500a48ddab9803953dd8ab72": {
          "model_module": "@jupyter-widgets/base",
          "model_name": "LayoutModel",
          "model_module_version": "1.2.0",
          "state": {
            "_model_module": "@jupyter-widgets/base",
            "_model_module_version": "1.2.0",
            "_model_name": "LayoutModel",
            "_view_count": null,
            "_view_module": "@jupyter-widgets/base",
            "_view_module_version": "1.2.0",
            "_view_name": "LayoutView",
            "align_content": null,
            "align_items": null,
            "align_self": null,
            "border": null,
            "bottom": null,
            "display": null,
            "flex": null,
            "flex_flow": null,
            "grid_area": null,
            "grid_auto_columns": null,
            "grid_auto_flow": null,
            "grid_auto_rows": null,
            "grid_column": null,
            "grid_gap": null,
            "grid_row": null,
            "grid_template_areas": null,
            "grid_template_columns": null,
            "grid_template_rows": null,
            "height": null,
            "justify_content": null,
            "justify_items": null,
            "left": null,
            "margin": null,
            "max_height": null,
            "max_width": null,
            "min_height": null,
            "min_width": null,
            "object_fit": null,
            "object_position": null,
            "order": null,
            "overflow": null,
            "overflow_x": null,
            "overflow_y": null,
            "padding": null,
            "right": null,
            "top": null,
            "visibility": null,
            "width": null
          }
        },
        "408e9591d89540caa6f7c6aae8a90775": {
          "model_module": "@jupyter-widgets/controls",
          "model_name": "ProgressStyleModel",
          "model_module_version": "1.5.0",
          "state": {
            "_model_module": "@jupyter-widgets/controls",
            "_model_module_version": "1.5.0",
            "_model_name": "ProgressStyleModel",
            "_view_count": null,
            "_view_module": "@jupyter-widgets/base",
            "_view_module_version": "1.2.0",
            "_view_name": "StyleView",
            "bar_color": null,
            "description_width": ""
          }
        },
        "5154997056424d61b8cd0b2b5376984b": {
          "model_module": "@jupyter-widgets/base",
          "model_name": "LayoutModel",
          "model_module_version": "1.2.0",
          "state": {
            "_model_module": "@jupyter-widgets/base",
            "_model_module_version": "1.2.0",
            "_model_name": "LayoutModel",
            "_view_count": null,
            "_view_module": "@jupyter-widgets/base",
            "_view_module_version": "1.2.0",
            "_view_name": "LayoutView",
            "align_content": null,
            "align_items": null,
            "align_self": null,
            "border": null,
            "bottom": null,
            "display": null,
            "flex": null,
            "flex_flow": null,
            "grid_area": null,
            "grid_auto_columns": null,
            "grid_auto_flow": null,
            "grid_auto_rows": null,
            "grid_column": null,
            "grid_gap": null,
            "grid_row": null,
            "grid_template_areas": null,
            "grid_template_columns": null,
            "grid_template_rows": null,
            "height": null,
            "justify_content": null,
            "justify_items": null,
            "left": null,
            "margin": null,
            "max_height": null,
            "max_width": null,
            "min_height": null,
            "min_width": null,
            "object_fit": null,
            "object_position": null,
            "order": null,
            "overflow": null,
            "overflow_x": null,
            "overflow_y": null,
            "padding": null,
            "right": null,
            "top": null,
            "visibility": null,
            "width": null
          }
        },
        "649a3acf11f744caa7838ce9ea72a364": {
          "model_module": "@jupyter-widgets/controls",
          "model_name": "DescriptionStyleModel",
          "model_module_version": "1.5.0",
          "state": {
            "_model_module": "@jupyter-widgets/controls",
            "_model_module_version": "1.5.0",
            "_model_name": "DescriptionStyleModel",
            "_view_count": null,
            "_view_module": "@jupyter-widgets/base",
            "_view_module_version": "1.2.0",
            "_view_name": "StyleView",
            "description_width": ""
          }
        },
        "0e930e24b6e14cf2b3c7c760a02b9e96": {
          "model_module": "@jupyter-widgets/controls",
          "model_name": "HBoxModel",
          "model_module_version": "1.5.0",
          "state": {
            "_dom_classes": [],
            "_model_module": "@jupyter-widgets/controls",
            "_model_module_version": "1.5.0",
            "_model_name": "HBoxModel",
            "_view_count": null,
            "_view_module": "@jupyter-widgets/controls",
            "_view_module_version": "1.5.0",
            "_view_name": "HBoxView",
            "box_style": "",
            "children": [
              "IPY_MODEL_4dc71798e95c44debaafb2ea008486ca",
              "IPY_MODEL_72ee54eebffc4dd2b6282fe10e57a866",
              "IPY_MODEL_c5287713bb464217a4bce20ad3ac357b"
            ],
            "layout": "IPY_MODEL_54adf39086484820a8b038b9d0766903"
          }
        },
        "4dc71798e95c44debaafb2ea008486ca": {
          "model_module": "@jupyter-widgets/controls",
          "model_name": "HTMLModel",
          "model_module_version": "1.5.0",
          "state": {
            "_dom_classes": [],
            "_model_module": "@jupyter-widgets/controls",
            "_model_module_version": "1.5.0",
            "_model_name": "HTMLModel",
            "_view_count": null,
            "_view_module": "@jupyter-widgets/controls",
            "_view_module_version": "1.5.0",
            "_view_name": "HTMLView",
            "description": "",
            "description_tooltip": null,
            "layout": "IPY_MODEL_9cdeca9832fa41bb8861e16f1c44eea7",
            "placeholder": "​",
            "style": "IPY_MODEL_bb9ddbb6ecc54f5498c777f95cf02060",
            "value": "tokenizer_config.json: 100%"
          }
        },
        "72ee54eebffc4dd2b6282fe10e57a866": {
          "model_module": "@jupyter-widgets/controls",
          "model_name": "FloatProgressModel",
          "model_module_version": "1.5.0",
          "state": {
            "_dom_classes": [],
            "_model_module": "@jupyter-widgets/controls",
            "_model_module_version": "1.5.0",
            "_model_name": "FloatProgressModel",
            "_view_count": null,
            "_view_module": "@jupyter-widgets/controls",
            "_view_module_version": "1.5.0",
            "_view_name": "ProgressView",
            "bar_style": "success",
            "description": "",
            "description_tooltip": null,
            "layout": "IPY_MODEL_e82b12a266f0448a996f81ae28e74627",
            "max": 52946,
            "min": 0,
            "orientation": "horizontal",
            "style": "IPY_MODEL_0804d6ec29524e039ea279a14af29b62",
            "value": 52946
          }
        },
        "c5287713bb464217a4bce20ad3ac357b": {
          "model_module": "@jupyter-widgets/controls",
          "model_name": "HTMLModel",
          "model_module_version": "1.5.0",
          "state": {
            "_dom_classes": [],
            "_model_module": "@jupyter-widgets/controls",
            "_model_module_version": "1.5.0",
            "_model_name": "HTMLModel",
            "_view_count": null,
            "_view_module": "@jupyter-widgets/controls",
            "_view_module_version": "1.5.0",
            "_view_name": "HTMLView",
            "description": "",
            "description_tooltip": null,
            "layout": "IPY_MODEL_152ed6a0651b48b6bf2b2cc4235dfe6c",
            "placeholder": "​",
            "style": "IPY_MODEL_5c06177fcb744d62836f41eafba10a48",
            "value": " 52.9k/52.9k [00:00&lt;00:00, 3.23MB/s]"
          }
        },
        "54adf39086484820a8b038b9d0766903": {
          "model_module": "@jupyter-widgets/base",
          "model_name": "LayoutModel",
          "model_module_version": "1.2.0",
          "state": {
            "_model_module": "@jupyter-widgets/base",
            "_model_module_version": "1.2.0",
            "_model_name": "LayoutModel",
            "_view_count": null,
            "_view_module": "@jupyter-widgets/base",
            "_view_module_version": "1.2.0",
            "_view_name": "LayoutView",
            "align_content": null,
            "align_items": null,
            "align_self": null,
            "border": null,
            "bottom": null,
            "display": null,
            "flex": null,
            "flex_flow": null,
            "grid_area": null,
            "grid_auto_columns": null,
            "grid_auto_flow": null,
            "grid_auto_rows": null,
            "grid_column": null,
            "grid_gap": null,
            "grid_row": null,
            "grid_template_areas": null,
            "grid_template_columns": null,
            "grid_template_rows": null,
            "height": null,
            "justify_content": null,
            "justify_items": null,
            "left": null,
            "margin": null,
            "max_height": null,
            "max_width": null,
            "min_height": null,
            "min_width": null,
            "object_fit": null,
            "object_position": null,
            "order": null,
            "overflow": null,
            "overflow_x": null,
            "overflow_y": null,
            "padding": null,
            "right": null,
            "top": null,
            "visibility": null,
            "width": null
          }
        },
        "9cdeca9832fa41bb8861e16f1c44eea7": {
          "model_module": "@jupyter-widgets/base",
          "model_name": "LayoutModel",
          "model_module_version": "1.2.0",
          "state": {
            "_model_module": "@jupyter-widgets/base",
            "_model_module_version": "1.2.0",
            "_model_name": "LayoutModel",
            "_view_count": null,
            "_view_module": "@jupyter-widgets/base",
            "_view_module_version": "1.2.0",
            "_view_name": "LayoutView",
            "align_content": null,
            "align_items": null,
            "align_self": null,
            "border": null,
            "bottom": null,
            "display": null,
            "flex": null,
            "flex_flow": null,
            "grid_area": null,
            "grid_auto_columns": null,
            "grid_auto_flow": null,
            "grid_auto_rows": null,
            "grid_column": null,
            "grid_gap": null,
            "grid_row": null,
            "grid_template_areas": null,
            "grid_template_columns": null,
            "grid_template_rows": null,
            "height": null,
            "justify_content": null,
            "justify_items": null,
            "left": null,
            "margin": null,
            "max_height": null,
            "max_width": null,
            "min_height": null,
            "min_width": null,
            "object_fit": null,
            "object_position": null,
            "order": null,
            "overflow": null,
            "overflow_x": null,
            "overflow_y": null,
            "padding": null,
            "right": null,
            "top": null,
            "visibility": null,
            "width": null
          }
        },
        "bb9ddbb6ecc54f5498c777f95cf02060": {
          "model_module": "@jupyter-widgets/controls",
          "model_name": "DescriptionStyleModel",
          "model_module_version": "1.5.0",
          "state": {
            "_model_module": "@jupyter-widgets/controls",
            "_model_module_version": "1.5.0",
            "_model_name": "DescriptionStyleModel",
            "_view_count": null,
            "_view_module": "@jupyter-widgets/base",
            "_view_module_version": "1.2.0",
            "_view_name": "StyleView",
            "description_width": ""
          }
        },
        "e82b12a266f0448a996f81ae28e74627": {
          "model_module": "@jupyter-widgets/base",
          "model_name": "LayoutModel",
          "model_module_version": "1.2.0",
          "state": {
            "_model_module": "@jupyter-widgets/base",
            "_model_module_version": "1.2.0",
            "_model_name": "LayoutModel",
            "_view_count": null,
            "_view_module": "@jupyter-widgets/base",
            "_view_module_version": "1.2.0",
            "_view_name": "LayoutView",
            "align_content": null,
            "align_items": null,
            "align_self": null,
            "border": null,
            "bottom": null,
            "display": null,
            "flex": null,
            "flex_flow": null,
            "grid_area": null,
            "grid_auto_columns": null,
            "grid_auto_flow": null,
            "grid_auto_rows": null,
            "grid_column": null,
            "grid_gap": null,
            "grid_row": null,
            "grid_template_areas": null,
            "grid_template_columns": null,
            "grid_template_rows": null,
            "height": null,
            "justify_content": null,
            "justify_items": null,
            "left": null,
            "margin": null,
            "max_height": null,
            "max_width": null,
            "min_height": null,
            "min_width": null,
            "object_fit": null,
            "object_position": null,
            "order": null,
            "overflow": null,
            "overflow_x": null,
            "overflow_y": null,
            "padding": null,
            "right": null,
            "top": null,
            "visibility": null,
            "width": null
          }
        },
        "0804d6ec29524e039ea279a14af29b62": {
          "model_module": "@jupyter-widgets/controls",
          "model_name": "ProgressStyleModel",
          "model_module_version": "1.5.0",
          "state": {
            "_model_module": "@jupyter-widgets/controls",
            "_model_module_version": "1.5.0",
            "_model_name": "ProgressStyleModel",
            "_view_count": null,
            "_view_module": "@jupyter-widgets/base",
            "_view_module_version": "1.2.0",
            "_view_name": "StyleView",
            "bar_color": null,
            "description_width": ""
          }
        },
        "152ed6a0651b48b6bf2b2cc4235dfe6c": {
          "model_module": "@jupyter-widgets/base",
          "model_name": "LayoutModel",
          "model_module_version": "1.2.0",
          "state": {
            "_model_module": "@jupyter-widgets/base",
            "_model_module_version": "1.2.0",
            "_model_name": "LayoutModel",
            "_view_count": null,
            "_view_module": "@jupyter-widgets/base",
            "_view_module_version": "1.2.0",
            "_view_name": "LayoutView",
            "align_content": null,
            "align_items": null,
            "align_self": null,
            "border": null,
            "bottom": null,
            "display": null,
            "flex": null,
            "flex_flow": null,
            "grid_area": null,
            "grid_auto_columns": null,
            "grid_auto_flow": null,
            "grid_auto_rows": null,
            "grid_column": null,
            "grid_gap": null,
            "grid_row": null,
            "grid_template_areas": null,
            "grid_template_columns": null,
            "grid_template_rows": null,
            "height": null,
            "justify_content": null,
            "justify_items": null,
            "left": null,
            "margin": null,
            "max_height": null,
            "max_width": null,
            "min_height": null,
            "min_width": null,
            "object_fit": null,
            "object_position": null,
            "order": null,
            "overflow": null,
            "overflow_x": null,
            "overflow_y": null,
            "padding": null,
            "right": null,
            "top": null,
            "visibility": null,
            "width": null
          }
        },
        "5c06177fcb744d62836f41eafba10a48": {
          "model_module": "@jupyter-widgets/controls",
          "model_name": "DescriptionStyleModel",
          "model_module_version": "1.5.0",
          "state": {
            "_model_module": "@jupyter-widgets/controls",
            "_model_module_version": "1.5.0",
            "_model_name": "DescriptionStyleModel",
            "_view_count": null,
            "_view_module": "@jupyter-widgets/base",
            "_view_module_version": "1.2.0",
            "_view_name": "StyleView",
            "description_width": ""
          }
        },
        "fb32528e4cd341b782a8801bad39beb2": {
          "model_module": "@jupyter-widgets/controls",
          "model_name": "HBoxModel",
          "model_module_version": "1.5.0",
          "state": {
            "_dom_classes": [],
            "_model_module": "@jupyter-widgets/controls",
            "_model_module_version": "1.5.0",
            "_model_name": "HBoxModel",
            "_view_count": null,
            "_view_module": "@jupyter-widgets/controls",
            "_view_module_version": "1.5.0",
            "_view_name": "HBoxView",
            "box_style": "",
            "children": [
              "IPY_MODEL_8cd9be70332843589935631eeecb22e2",
              "IPY_MODEL_baac56f325e9469eb9159d4f0d8a9786",
              "IPY_MODEL_284eaaf25b954d9cbd3a34fc791e0118"
            ],
            "layout": "IPY_MODEL_f626b812679743539118a5ae1d4dc8a1"
          }
        },
        "8cd9be70332843589935631eeecb22e2": {
          "model_module": "@jupyter-widgets/controls",
          "model_name": "HTMLModel",
          "model_module_version": "1.5.0",
          "state": {
            "_dom_classes": [],
            "_model_module": "@jupyter-widgets/controls",
            "_model_module_version": "1.5.0",
            "_model_name": "HTMLModel",
            "_view_count": null,
            "_view_module": "@jupyter-widgets/controls",
            "_view_module_version": "1.5.0",
            "_view_name": "HTMLView",
            "description": "",
            "description_tooltip": null,
            "layout": "IPY_MODEL_84ddadd3fefe44b78452eae2d94cfe95",
            "placeholder": "​",
            "style": "IPY_MODEL_7a452188e8534184814afc1f2e286ef6",
            "value": "special_tokens_map.json: 100%"
          }
        },
        "baac56f325e9469eb9159d4f0d8a9786": {
          "model_module": "@jupyter-widgets/controls",
          "model_name": "FloatProgressModel",
          "model_module_version": "1.5.0",
          "state": {
            "_dom_classes": [],
            "_model_module": "@jupyter-widgets/controls",
            "_model_module_version": "1.5.0",
            "_model_name": "FloatProgressModel",
            "_view_count": null,
            "_view_module": "@jupyter-widgets/controls",
            "_view_module_version": "1.5.0",
            "_view_name": "ProgressView",
            "bar_style": "success",
            "description": "",
            "description_tooltip": null,
            "layout": "IPY_MODEL_ca49d5e1a4d54bd09a737aeddd6b658a",
            "max": 483,
            "min": 0,
            "orientation": "horizontal",
            "style": "IPY_MODEL_b782cb23fe2646bbbcaaf50dc120e887",
            "value": 483
          }
        },
        "284eaaf25b954d9cbd3a34fc791e0118": {
          "model_module": "@jupyter-widgets/controls",
          "model_name": "HTMLModel",
          "model_module_version": "1.5.0",
          "state": {
            "_dom_classes": [],
            "_model_module": "@jupyter-widgets/controls",
            "_model_module_version": "1.5.0",
            "_model_name": "HTMLModel",
            "_view_count": null,
            "_view_module": "@jupyter-widgets/controls",
            "_view_module_version": "1.5.0",
            "_view_name": "HTMLView",
            "description": "",
            "description_tooltip": null,
            "layout": "IPY_MODEL_7f1eda53f17448d285b53cc5d1b0a2ba",
            "placeholder": "​",
            "style": "IPY_MODEL_c5359397f1104bf58514025d7f24d594",
            "value": " 483/483 [00:00&lt;00:00, 39.7kB/s]"
          }
        },
        "f626b812679743539118a5ae1d4dc8a1": {
          "model_module": "@jupyter-widgets/base",
          "model_name": "LayoutModel",
          "model_module_version": "1.2.0",
          "state": {
            "_model_module": "@jupyter-widgets/base",
            "_model_module_version": "1.2.0",
            "_model_name": "LayoutModel",
            "_view_count": null,
            "_view_module": "@jupyter-widgets/base",
            "_view_module_version": "1.2.0",
            "_view_name": "LayoutView",
            "align_content": null,
            "align_items": null,
            "align_self": null,
            "border": null,
            "bottom": null,
            "display": null,
            "flex": null,
            "flex_flow": null,
            "grid_area": null,
            "grid_auto_columns": null,
            "grid_auto_flow": null,
            "grid_auto_rows": null,
            "grid_column": null,
            "grid_gap": null,
            "grid_row": null,
            "grid_template_areas": null,
            "grid_template_columns": null,
            "grid_template_rows": null,
            "height": null,
            "justify_content": null,
            "justify_items": null,
            "left": null,
            "margin": null,
            "max_height": null,
            "max_width": null,
            "min_height": null,
            "min_width": null,
            "object_fit": null,
            "object_position": null,
            "order": null,
            "overflow": null,
            "overflow_x": null,
            "overflow_y": null,
            "padding": null,
            "right": null,
            "top": null,
            "visibility": null,
            "width": null
          }
        },
        "84ddadd3fefe44b78452eae2d94cfe95": {
          "model_module": "@jupyter-widgets/base",
          "model_name": "LayoutModel",
          "model_module_version": "1.2.0",
          "state": {
            "_model_module": "@jupyter-widgets/base",
            "_model_module_version": "1.2.0",
            "_model_name": "LayoutModel",
            "_view_count": null,
            "_view_module": "@jupyter-widgets/base",
            "_view_module_version": "1.2.0",
            "_view_name": "LayoutView",
            "align_content": null,
            "align_items": null,
            "align_self": null,
            "border": null,
            "bottom": null,
            "display": null,
            "flex": null,
            "flex_flow": null,
            "grid_area": null,
            "grid_auto_columns": null,
            "grid_auto_flow": null,
            "grid_auto_rows": null,
            "grid_column": null,
            "grid_gap": null,
            "grid_row": null,
            "grid_template_areas": null,
            "grid_template_columns": null,
            "grid_template_rows": null,
            "height": null,
            "justify_content": null,
            "justify_items": null,
            "left": null,
            "margin": null,
            "max_height": null,
            "max_width": null,
            "min_height": null,
            "min_width": null,
            "object_fit": null,
            "object_position": null,
            "order": null,
            "overflow": null,
            "overflow_x": null,
            "overflow_y": null,
            "padding": null,
            "right": null,
            "top": null,
            "visibility": null,
            "width": null
          }
        },
        "7a452188e8534184814afc1f2e286ef6": {
          "model_module": "@jupyter-widgets/controls",
          "model_name": "DescriptionStyleModel",
          "model_module_version": "1.5.0",
          "state": {
            "_model_module": "@jupyter-widgets/controls",
            "_model_module_version": "1.5.0",
            "_model_name": "DescriptionStyleModel",
            "_view_count": null,
            "_view_module": "@jupyter-widgets/base",
            "_view_module_version": "1.2.0",
            "_view_name": "StyleView",
            "description_width": ""
          }
        },
        "ca49d5e1a4d54bd09a737aeddd6b658a": {
          "model_module": "@jupyter-widgets/base",
          "model_name": "LayoutModel",
          "model_module_version": "1.2.0",
          "state": {
            "_model_module": "@jupyter-widgets/base",
            "_model_module_version": "1.2.0",
            "_model_name": "LayoutModel",
            "_view_count": null,
            "_view_module": "@jupyter-widgets/base",
            "_view_module_version": "1.2.0",
            "_view_name": "LayoutView",
            "align_content": null,
            "align_items": null,
            "align_self": null,
            "border": null,
            "bottom": null,
            "display": null,
            "flex": null,
            "flex_flow": null,
            "grid_area": null,
            "grid_auto_columns": null,
            "grid_auto_flow": null,
            "grid_auto_rows": null,
            "grid_column": null,
            "grid_gap": null,
            "grid_row": null,
            "grid_template_areas": null,
            "grid_template_columns": null,
            "grid_template_rows": null,
            "height": null,
            "justify_content": null,
            "justify_items": null,
            "left": null,
            "margin": null,
            "max_height": null,
            "max_width": null,
            "min_height": null,
            "min_width": null,
            "object_fit": null,
            "object_position": null,
            "order": null,
            "overflow": null,
            "overflow_x": null,
            "overflow_y": null,
            "padding": null,
            "right": null,
            "top": null,
            "visibility": null,
            "width": null
          }
        },
        "b782cb23fe2646bbbcaaf50dc120e887": {
          "model_module": "@jupyter-widgets/controls",
          "model_name": "ProgressStyleModel",
          "model_module_version": "1.5.0",
          "state": {
            "_model_module": "@jupyter-widgets/controls",
            "_model_module_version": "1.5.0",
            "_model_name": "ProgressStyleModel",
            "_view_count": null,
            "_view_module": "@jupyter-widgets/base",
            "_view_module_version": "1.2.0",
            "_view_name": "StyleView",
            "bar_color": null,
            "description_width": ""
          }
        },
        "7f1eda53f17448d285b53cc5d1b0a2ba": {
          "model_module": "@jupyter-widgets/base",
          "model_name": "LayoutModel",
          "model_module_version": "1.2.0",
          "state": {
            "_model_module": "@jupyter-widgets/base",
            "_model_module_version": "1.2.0",
            "_model_name": "LayoutModel",
            "_view_count": null,
            "_view_module": "@jupyter-widgets/base",
            "_view_module_version": "1.2.0",
            "_view_name": "LayoutView",
            "align_content": null,
            "align_items": null,
            "align_self": null,
            "border": null,
            "bottom": null,
            "display": null,
            "flex": null,
            "flex_flow": null,
            "grid_area": null,
            "grid_auto_columns": null,
            "grid_auto_flow": null,
            "grid_auto_rows": null,
            "grid_column": null,
            "grid_gap": null,
            "grid_row": null,
            "grid_template_areas": null,
            "grid_template_columns": null,
            "grid_template_rows": null,
            "height": null,
            "justify_content": null,
            "justify_items": null,
            "left": null,
            "margin": null,
            "max_height": null,
            "max_width": null,
            "min_height": null,
            "min_width": null,
            "object_fit": null,
            "object_position": null,
            "order": null,
            "overflow": null,
            "overflow_x": null,
            "overflow_y": null,
            "padding": null,
            "right": null,
            "top": null,
            "visibility": null,
            "width": null
          }
        },
        "c5359397f1104bf58514025d7f24d594": {
          "model_module": "@jupyter-widgets/controls",
          "model_name": "DescriptionStyleModel",
          "model_module_version": "1.5.0",
          "state": {
            "_model_module": "@jupyter-widgets/controls",
            "_model_module_version": "1.5.0",
            "_model_name": "DescriptionStyleModel",
            "_view_count": null,
            "_view_module": "@jupyter-widgets/base",
            "_view_module_version": "1.2.0",
            "_view_name": "StyleView",
            "description_width": ""
          }
        },
        "217606ce0134468486c83e2030071ae6": {
          "model_module": "@jupyter-widgets/controls",
          "model_name": "HBoxModel",
          "model_module_version": "1.5.0",
          "state": {
            "_dom_classes": [],
            "_model_module": "@jupyter-widgets/controls",
            "_model_module_version": "1.5.0",
            "_model_name": "HBoxModel",
            "_view_count": null,
            "_view_module": "@jupyter-widgets/controls",
            "_view_module_version": "1.5.0",
            "_view_name": "HBoxView",
            "box_style": "",
            "children": [
              "IPY_MODEL_b48d3ee99b9347cd9050e95756193e80",
              "IPY_MODEL_e157af5e80a5414cb8de6d80b0e21448",
              "IPY_MODEL_12ec075d047a4ac4aa19157c2bf62869"
            ],
            "layout": "IPY_MODEL_27f6db4d7737467fa7b3ef009481a51f"
          }
        },
        "b48d3ee99b9347cd9050e95756193e80": {
          "model_module": "@jupyter-widgets/controls",
          "model_name": "HTMLModel",
          "model_module_version": "1.5.0",
          "state": {
            "_dom_classes": [],
            "_model_module": "@jupyter-widgets/controls",
            "_model_module_version": "1.5.0",
            "_model_name": "HTMLModel",
            "_view_count": null,
            "_view_module": "@jupyter-widgets/controls",
            "_view_module_version": "1.5.0",
            "_view_name": "HTMLView",
            "description": "",
            "description_tooltip": null,
            "layout": "IPY_MODEL_09ca1a9d2b8f41b693b401c9fed05a3e",
            "placeholder": "​",
            "style": "IPY_MODEL_898e5de34b74463ba33ed555e32de4f3",
            "value": "tokenizer.json: 100%"
          }
        },
        "e157af5e80a5414cb8de6d80b0e21448": {
          "model_module": "@jupyter-widgets/controls",
          "model_name": "FloatProgressModel",
          "model_module_version": "1.5.0",
          "state": {
            "_dom_classes": [],
            "_model_module": "@jupyter-widgets/controls",
            "_model_module_version": "1.5.0",
            "_model_name": "FloatProgressModel",
            "_view_count": null,
            "_view_module": "@jupyter-widgets/controls",
            "_view_module_version": "1.5.0",
            "_view_name": "ProgressView",
            "bar_style": "success",
            "description": "",
            "description_tooltip": null,
            "layout": "IPY_MODEL_f4f3d9ec78a34682b5bb9ddfae3d0eec",
            "max": 17209530,
            "min": 0,
            "orientation": "horizontal",
            "style": "IPY_MODEL_267a0146ec974a93aa68791bce2906fa",
            "value": 17209530
          }
        },
        "12ec075d047a4ac4aa19157c2bf62869": {
          "model_module": "@jupyter-widgets/controls",
          "model_name": "HTMLModel",
          "model_module_version": "1.5.0",
          "state": {
            "_dom_classes": [],
            "_model_module": "@jupyter-widgets/controls",
            "_model_module_version": "1.5.0",
            "_model_name": "HTMLModel",
            "_view_count": null,
            "_view_module": "@jupyter-widgets/controls",
            "_view_module_version": "1.5.0",
            "_view_name": "HTMLView",
            "description": "",
            "description_tooltip": null,
            "layout": "IPY_MODEL_f6b1d8e9a3294d30ac58aa228cc639d6",
            "placeholder": "​",
            "style": "IPY_MODEL_aab93b8765ab496582925aecee1d1bf2",
            "value": " 17.2M/17.2M [00:00&lt;00:00, 32.2MB/s]"
          }
        },
        "27f6db4d7737467fa7b3ef009481a51f": {
          "model_module": "@jupyter-widgets/base",
          "model_name": "LayoutModel",
          "model_module_version": "1.2.0",
          "state": {
            "_model_module": "@jupyter-widgets/base",
            "_model_module_version": "1.2.0",
            "_model_name": "LayoutModel",
            "_view_count": null,
            "_view_module": "@jupyter-widgets/base",
            "_view_module_version": "1.2.0",
            "_view_name": "LayoutView",
            "align_content": null,
            "align_items": null,
            "align_self": null,
            "border": null,
            "bottom": null,
            "display": null,
            "flex": null,
            "flex_flow": null,
            "grid_area": null,
            "grid_auto_columns": null,
            "grid_auto_flow": null,
            "grid_auto_rows": null,
            "grid_column": null,
            "grid_gap": null,
            "grid_row": null,
            "grid_template_areas": null,
            "grid_template_columns": null,
            "grid_template_rows": null,
            "height": null,
            "justify_content": null,
            "justify_items": null,
            "left": null,
            "margin": null,
            "max_height": null,
            "max_width": null,
            "min_height": null,
            "min_width": null,
            "object_fit": null,
            "object_position": null,
            "order": null,
            "overflow": null,
            "overflow_x": null,
            "overflow_y": null,
            "padding": null,
            "right": null,
            "top": null,
            "visibility": null,
            "width": null
          }
        },
        "09ca1a9d2b8f41b693b401c9fed05a3e": {
          "model_module": "@jupyter-widgets/base",
          "model_name": "LayoutModel",
          "model_module_version": "1.2.0",
          "state": {
            "_model_module": "@jupyter-widgets/base",
            "_model_module_version": "1.2.0",
            "_model_name": "LayoutModel",
            "_view_count": null,
            "_view_module": "@jupyter-widgets/base",
            "_view_module_version": "1.2.0",
            "_view_name": "LayoutView",
            "align_content": null,
            "align_items": null,
            "align_self": null,
            "border": null,
            "bottom": null,
            "display": null,
            "flex": null,
            "flex_flow": null,
            "grid_area": null,
            "grid_auto_columns": null,
            "grid_auto_flow": null,
            "grid_auto_rows": null,
            "grid_column": null,
            "grid_gap": null,
            "grid_row": null,
            "grid_template_areas": null,
            "grid_template_columns": null,
            "grid_template_rows": null,
            "height": null,
            "justify_content": null,
            "justify_items": null,
            "left": null,
            "margin": null,
            "max_height": null,
            "max_width": null,
            "min_height": null,
            "min_width": null,
            "object_fit": null,
            "object_position": null,
            "order": null,
            "overflow": null,
            "overflow_x": null,
            "overflow_y": null,
            "padding": null,
            "right": null,
            "top": null,
            "visibility": null,
            "width": null
          }
        },
        "898e5de34b74463ba33ed555e32de4f3": {
          "model_module": "@jupyter-widgets/controls",
          "model_name": "DescriptionStyleModel",
          "model_module_version": "1.5.0",
          "state": {
            "_model_module": "@jupyter-widgets/controls",
            "_model_module_version": "1.5.0",
            "_model_name": "DescriptionStyleModel",
            "_view_count": null,
            "_view_module": "@jupyter-widgets/base",
            "_view_module_version": "1.2.0",
            "_view_name": "StyleView",
            "description_width": ""
          }
        },
        "f4f3d9ec78a34682b5bb9ddfae3d0eec": {
          "model_module": "@jupyter-widgets/base",
          "model_name": "LayoutModel",
          "model_module_version": "1.2.0",
          "state": {
            "_model_module": "@jupyter-widgets/base",
            "_model_module_version": "1.2.0",
            "_model_name": "LayoutModel",
            "_view_count": null,
            "_view_module": "@jupyter-widgets/base",
            "_view_module_version": "1.2.0",
            "_view_name": "LayoutView",
            "align_content": null,
            "align_items": null,
            "align_self": null,
            "border": null,
            "bottom": null,
            "display": null,
            "flex": null,
            "flex_flow": null,
            "grid_area": null,
            "grid_auto_columns": null,
            "grid_auto_flow": null,
            "grid_auto_rows": null,
            "grid_column": null,
            "grid_gap": null,
            "grid_row": null,
            "grid_template_areas": null,
            "grid_template_columns": null,
            "grid_template_rows": null,
            "height": null,
            "justify_content": null,
            "justify_items": null,
            "left": null,
            "margin": null,
            "max_height": null,
            "max_width": null,
            "min_height": null,
            "min_width": null,
            "object_fit": null,
            "object_position": null,
            "order": null,
            "overflow": null,
            "overflow_x": null,
            "overflow_y": null,
            "padding": null,
            "right": null,
            "top": null,
            "visibility": null,
            "width": null
          }
        },
        "267a0146ec974a93aa68791bce2906fa": {
          "model_module": "@jupyter-widgets/controls",
          "model_name": "ProgressStyleModel",
          "model_module_version": "1.5.0",
          "state": {
            "_model_module": "@jupyter-widgets/controls",
            "_model_module_version": "1.5.0",
            "_model_name": "ProgressStyleModel",
            "_view_count": null,
            "_view_module": "@jupyter-widgets/base",
            "_view_module_version": "1.2.0",
            "_view_name": "StyleView",
            "bar_color": null,
            "description_width": ""
          }
        },
        "f6b1d8e9a3294d30ac58aa228cc639d6": {
          "model_module": "@jupyter-widgets/base",
          "model_name": "LayoutModel",
          "model_module_version": "1.2.0",
          "state": {
            "_model_module": "@jupyter-widgets/base",
            "_model_module_version": "1.2.0",
            "_model_name": "LayoutModel",
            "_view_count": null,
            "_view_module": "@jupyter-widgets/base",
            "_view_module_version": "1.2.0",
            "_view_name": "LayoutView",
            "align_content": null,
            "align_items": null,
            "align_self": null,
            "border": null,
            "bottom": null,
            "display": null,
            "flex": null,
            "flex_flow": null,
            "grid_area": null,
            "grid_auto_columns": null,
            "grid_auto_flow": null,
            "grid_auto_rows": null,
            "grid_column": null,
            "grid_gap": null,
            "grid_row": null,
            "grid_template_areas": null,
            "grid_template_columns": null,
            "grid_template_rows": null,
            "height": null,
            "justify_content": null,
            "justify_items": null,
            "left": null,
            "margin": null,
            "max_height": null,
            "max_width": null,
            "min_height": null,
            "min_width": null,
            "object_fit": null,
            "object_position": null,
            "order": null,
            "overflow": null,
            "overflow_x": null,
            "overflow_y": null,
            "padding": null,
            "right": null,
            "top": null,
            "visibility": null,
            "width": null
          }
        },
        "aab93b8765ab496582925aecee1d1bf2": {
          "model_module": "@jupyter-widgets/controls",
          "model_name": "DescriptionStyleModel",
          "model_module_version": "1.5.0",
          "state": {
            "_model_module": "@jupyter-widgets/controls",
            "_model_module_version": "1.5.0",
            "_model_name": "DescriptionStyleModel",
            "_view_count": null,
            "_view_module": "@jupyter-widgets/base",
            "_view_module_version": "1.2.0",
            "_view_name": "StyleView",
            "description_width": ""
          }
        },
        "7d1c2c9abbd54b34bfe8885fa8bfdeb5": {
          "model_module": "@jupyter-widgets/controls",
          "model_name": "HBoxModel",
          "model_module_version": "1.5.0",
          "state": {
            "_dom_classes": [],
            "_model_module": "@jupyter-widgets/controls",
            "_model_module_version": "1.5.0",
            "_model_name": "HBoxModel",
            "_view_count": null,
            "_view_module": "@jupyter-widgets/controls",
            "_view_module_version": "1.5.0",
            "_view_name": "HBoxView",
            "box_style": "",
            "children": [
              "IPY_MODEL_eabc87df2ea245348e1cc21896d64ddd",
              "IPY_MODEL_8eb4fe1d9d344cbc949e0d02ec832970",
              "IPY_MODEL_f3c78754456d4a16b6892280119765a1"
            ],
            "layout": "IPY_MODEL_15887e5b12ed4e0ca36c35c5853c92ee"
          }
        },
        "eabc87df2ea245348e1cc21896d64ddd": {
          "model_module": "@jupyter-widgets/controls",
          "model_name": "HTMLModel",
          "model_module_version": "1.5.0",
          "state": {
            "_dom_classes": [],
            "_model_module": "@jupyter-widgets/controls",
            "_model_module_version": "1.5.0",
            "_model_name": "HTMLModel",
            "_view_count": null,
            "_view_module": "@jupyter-widgets/controls",
            "_view_module_version": "1.5.0",
            "_view_name": "HTMLView",
            "description": "",
            "description_tooltip": null,
            "layout": "IPY_MODEL_8969a0ece3814cf2984c4fb0a3fd47d7",
            "placeholder": "​",
            "style": "IPY_MODEL_552dd85b6c1f4835bbac004822173c32",
            "value": "README.md: 100%"
          }
        },
        "8eb4fe1d9d344cbc949e0d02ec832970": {
          "model_module": "@jupyter-widgets/controls",
          "model_name": "FloatProgressModel",
          "model_module_version": "1.5.0",
          "state": {
            "_dom_classes": [],
            "_model_module": "@jupyter-widgets/controls",
            "_model_module_version": "1.5.0",
            "_model_name": "FloatProgressModel",
            "_view_count": null,
            "_view_module": "@jupyter-widgets/controls",
            "_view_module_version": "1.5.0",
            "_view_name": "ProgressView",
            "bar_style": "success",
            "description": "",
            "description_tooltip": null,
            "layout": "IPY_MODEL_229071d76cb143a0aa7a1bafab1452ca",
            "max": 1248,
            "min": 0,
            "orientation": "horizontal",
            "style": "IPY_MODEL_c95d102c70404c418de15b3a4f48999d",
            "value": 1248
          }
        },
        "f3c78754456d4a16b6892280119765a1": {
          "model_module": "@jupyter-widgets/controls",
          "model_name": "HTMLModel",
          "model_module_version": "1.5.0",
          "state": {
            "_dom_classes": [],
            "_model_module": "@jupyter-widgets/controls",
            "_model_module_version": "1.5.0",
            "_model_name": "HTMLModel",
            "_view_count": null,
            "_view_module": "@jupyter-widgets/controls",
            "_view_module_version": "1.5.0",
            "_view_name": "HTMLView",
            "description": "",
            "description_tooltip": null,
            "layout": "IPY_MODEL_c3e7aa26ec564de688c2b31ffab7e0cb",
            "placeholder": "​",
            "style": "IPY_MODEL_8bf6942d4c8b4e5d9a80fae0f47d99dc",
            "value": " 1.25k/1.25k [00:00&lt;00:00, 83.8kB/s]"
          }
        },
        "15887e5b12ed4e0ca36c35c5853c92ee": {
          "model_module": "@jupyter-widgets/base",
          "model_name": "LayoutModel",
          "model_module_version": "1.2.0",
          "state": {
            "_model_module": "@jupyter-widgets/base",
            "_model_module_version": "1.2.0",
            "_model_name": "LayoutModel",
            "_view_count": null,
            "_view_module": "@jupyter-widgets/base",
            "_view_module_version": "1.2.0",
            "_view_name": "LayoutView",
            "align_content": null,
            "align_items": null,
            "align_self": null,
            "border": null,
            "bottom": null,
            "display": null,
            "flex": null,
            "flex_flow": null,
            "grid_area": null,
            "grid_auto_columns": null,
            "grid_auto_flow": null,
            "grid_auto_rows": null,
            "grid_column": null,
            "grid_gap": null,
            "grid_row": null,
            "grid_template_areas": null,
            "grid_template_columns": null,
            "grid_template_rows": null,
            "height": null,
            "justify_content": null,
            "justify_items": null,
            "left": null,
            "margin": null,
            "max_height": null,
            "max_width": null,
            "min_height": null,
            "min_width": null,
            "object_fit": null,
            "object_position": null,
            "order": null,
            "overflow": null,
            "overflow_x": null,
            "overflow_y": null,
            "padding": null,
            "right": null,
            "top": null,
            "visibility": null,
            "width": null
          }
        },
        "8969a0ece3814cf2984c4fb0a3fd47d7": {
          "model_module": "@jupyter-widgets/base",
          "model_name": "LayoutModel",
          "model_module_version": "1.2.0",
          "state": {
            "_model_module": "@jupyter-widgets/base",
            "_model_module_version": "1.2.0",
            "_model_name": "LayoutModel",
            "_view_count": null,
            "_view_module": "@jupyter-widgets/base",
            "_view_module_version": "1.2.0",
            "_view_name": "LayoutView",
            "align_content": null,
            "align_items": null,
            "align_self": null,
            "border": null,
            "bottom": null,
            "display": null,
            "flex": null,
            "flex_flow": null,
            "grid_area": null,
            "grid_auto_columns": null,
            "grid_auto_flow": null,
            "grid_auto_rows": null,
            "grid_column": null,
            "grid_gap": null,
            "grid_row": null,
            "grid_template_areas": null,
            "grid_template_columns": null,
            "grid_template_rows": null,
            "height": null,
            "justify_content": null,
            "justify_items": null,
            "left": null,
            "margin": null,
            "max_height": null,
            "max_width": null,
            "min_height": null,
            "min_width": null,
            "object_fit": null,
            "object_position": null,
            "order": null,
            "overflow": null,
            "overflow_x": null,
            "overflow_y": null,
            "padding": null,
            "right": null,
            "top": null,
            "visibility": null,
            "width": null
          }
        },
        "552dd85b6c1f4835bbac004822173c32": {
          "model_module": "@jupyter-widgets/controls",
          "model_name": "DescriptionStyleModel",
          "model_module_version": "1.5.0",
          "state": {
            "_model_module": "@jupyter-widgets/controls",
            "_model_module_version": "1.5.0",
            "_model_name": "DescriptionStyleModel",
            "_view_count": null,
            "_view_module": "@jupyter-widgets/base",
            "_view_module_version": "1.2.0",
            "_view_name": "StyleView",
            "description_width": ""
          }
        },
        "229071d76cb143a0aa7a1bafab1452ca": {
          "model_module": "@jupyter-widgets/base",
          "model_name": "LayoutModel",
          "model_module_version": "1.2.0",
          "state": {
            "_model_module": "@jupyter-widgets/base",
            "_model_module_version": "1.2.0",
            "_model_name": "LayoutModel",
            "_view_count": null,
            "_view_module": "@jupyter-widgets/base",
            "_view_module_version": "1.2.0",
            "_view_name": "LayoutView",
            "align_content": null,
            "align_items": null,
            "align_self": null,
            "border": null,
            "bottom": null,
            "display": null,
            "flex": null,
            "flex_flow": null,
            "grid_area": null,
            "grid_auto_columns": null,
            "grid_auto_flow": null,
            "grid_auto_rows": null,
            "grid_column": null,
            "grid_gap": null,
            "grid_row": null,
            "grid_template_areas": null,
            "grid_template_columns": null,
            "grid_template_rows": null,
            "height": null,
            "justify_content": null,
            "justify_items": null,
            "left": null,
            "margin": null,
            "max_height": null,
            "max_width": null,
            "min_height": null,
            "min_width": null,
            "object_fit": null,
            "object_position": null,
            "order": null,
            "overflow": null,
            "overflow_x": null,
            "overflow_y": null,
            "padding": null,
            "right": null,
            "top": null,
            "visibility": null,
            "width": null
          }
        },
        "c95d102c70404c418de15b3a4f48999d": {
          "model_module": "@jupyter-widgets/controls",
          "model_name": "ProgressStyleModel",
          "model_module_version": "1.5.0",
          "state": {
            "_model_module": "@jupyter-widgets/controls",
            "_model_module_version": "1.5.0",
            "_model_name": "ProgressStyleModel",
            "_view_count": null,
            "_view_module": "@jupyter-widgets/base",
            "_view_module_version": "1.2.0",
            "_view_name": "StyleView",
            "bar_color": null,
            "description_width": ""
          }
        },
        "c3e7aa26ec564de688c2b31ffab7e0cb": {
          "model_module": "@jupyter-widgets/base",
          "model_name": "LayoutModel",
          "model_module_version": "1.2.0",
          "state": {
            "_model_module": "@jupyter-widgets/base",
            "_model_module_version": "1.2.0",
            "_model_name": "LayoutModel",
            "_view_count": null,
            "_view_module": "@jupyter-widgets/base",
            "_view_module_version": "1.2.0",
            "_view_name": "LayoutView",
            "align_content": null,
            "align_items": null,
            "align_self": null,
            "border": null,
            "bottom": null,
            "display": null,
            "flex": null,
            "flex_flow": null,
            "grid_area": null,
            "grid_auto_columns": null,
            "grid_auto_flow": null,
            "grid_auto_rows": null,
            "grid_column": null,
            "grid_gap": null,
            "grid_row": null,
            "grid_template_areas": null,
            "grid_template_columns": null,
            "grid_template_rows": null,
            "height": null,
            "justify_content": null,
            "justify_items": null,
            "left": null,
            "margin": null,
            "max_height": null,
            "max_width": null,
            "min_height": null,
            "min_width": null,
            "object_fit": null,
            "object_position": null,
            "order": null,
            "overflow": null,
            "overflow_x": null,
            "overflow_y": null,
            "padding": null,
            "right": null,
            "top": null,
            "visibility": null,
            "width": null
          }
        },
        "8bf6942d4c8b4e5d9a80fae0f47d99dc": {
          "model_module": "@jupyter-widgets/controls",
          "model_name": "DescriptionStyleModel",
          "model_module_version": "1.5.0",
          "state": {
            "_model_module": "@jupyter-widgets/controls",
            "_model_module_version": "1.5.0",
            "_model_name": "DescriptionStyleModel",
            "_view_count": null,
            "_view_module": "@jupyter-widgets/base",
            "_view_module_version": "1.2.0",
            "_view_name": "StyleView",
            "description_width": ""
          }
        },
        "39677a0dc1e04ca6a18ff7bf24558be1": {
          "model_module": "@jupyter-widgets/controls",
          "model_name": "HBoxModel",
          "model_module_version": "1.5.0",
          "state": {
            "_dom_classes": [],
            "_model_module": "@jupyter-widgets/controls",
            "_model_module_version": "1.5.0",
            "_model_name": "HBoxModel",
            "_view_count": null,
            "_view_module": "@jupyter-widgets/controls",
            "_view_module_version": "1.5.0",
            "_view_name": "HBoxView",
            "box_style": "",
            "children": [
              "IPY_MODEL_c7579204eccc4fc5869c52e03646835e",
              "IPY_MODEL_1f210a3af3b84211b30581ac2094d5d1",
              "IPY_MODEL_b0cf7b6ef23d4cb3a0e240f660a84f1c"
            ],
            "layout": "IPY_MODEL_c2c98e89a71346b2921ea45d21aff1c8"
          }
        },
        "c7579204eccc4fc5869c52e03646835e": {
          "model_module": "@jupyter-widgets/controls",
          "model_name": "HTMLModel",
          "model_module_version": "1.5.0",
          "state": {
            "_dom_classes": [],
            "_model_module": "@jupyter-widgets/controls",
            "_model_module_version": "1.5.0",
            "_model_name": "HTMLModel",
            "_view_count": null,
            "_view_module": "@jupyter-widgets/controls",
            "_view_module_version": "1.5.0",
            "_view_name": "HTMLView",
            "description": "",
            "description_tooltip": null,
            "layout": "IPY_MODEL_e328f7e1fae14c9583cbb05adcfc8aea",
            "placeholder": "​",
            "style": "IPY_MODEL_c3f88afbd370417780256bf12a128f61",
            "value": "medical_o1_sft.json: 100%"
          }
        },
        "1f210a3af3b84211b30581ac2094d5d1": {
          "model_module": "@jupyter-widgets/controls",
          "model_name": "FloatProgressModel",
          "model_module_version": "1.5.0",
          "state": {
            "_dom_classes": [],
            "_model_module": "@jupyter-widgets/controls",
            "_model_module_version": "1.5.0",
            "_model_name": "FloatProgressModel",
            "_view_count": null,
            "_view_module": "@jupyter-widgets/controls",
            "_view_module_version": "1.5.0",
            "_view_name": "ProgressView",
            "bar_style": "success",
            "description": "",
            "description_tooltip": null,
            "layout": "IPY_MODEL_3a1ad5bf31834e92a7e7933d876451de",
            "max": 74078226,
            "min": 0,
            "orientation": "horizontal",
            "style": "IPY_MODEL_fbe2e777ae8d443ab682b0d937dd92cf",
            "value": 74078226
          }
        },
        "b0cf7b6ef23d4cb3a0e240f660a84f1c": {
          "model_module": "@jupyter-widgets/controls",
          "model_name": "HTMLModel",
          "model_module_version": "1.5.0",
          "state": {
            "_dom_classes": [],
            "_model_module": "@jupyter-widgets/controls",
            "_model_module_version": "1.5.0",
            "_model_name": "HTMLModel",
            "_view_count": null,
            "_view_module": "@jupyter-widgets/controls",
            "_view_module_version": "1.5.0",
            "_view_name": "HTMLView",
            "description": "",
            "description_tooltip": null,
            "layout": "IPY_MODEL_a6e3c02755214aaa8b0af5348b66b2e1",
            "placeholder": "​",
            "style": "IPY_MODEL_df0727a5697844c7be3bce88545e1d8c",
            "value": " 74.1M/74.1M [00:01&lt;00:00, 41.6MB/s]"
          }
        },
        "c2c98e89a71346b2921ea45d21aff1c8": {
          "model_module": "@jupyter-widgets/base",
          "model_name": "LayoutModel",
          "model_module_version": "1.2.0",
          "state": {
            "_model_module": "@jupyter-widgets/base",
            "_model_module_version": "1.2.0",
            "_model_name": "LayoutModel",
            "_view_count": null,
            "_view_module": "@jupyter-widgets/base",
            "_view_module_version": "1.2.0",
            "_view_name": "LayoutView",
            "align_content": null,
            "align_items": null,
            "align_self": null,
            "border": null,
            "bottom": null,
            "display": null,
            "flex": null,
            "flex_flow": null,
            "grid_area": null,
            "grid_auto_columns": null,
            "grid_auto_flow": null,
            "grid_auto_rows": null,
            "grid_column": null,
            "grid_gap": null,
            "grid_row": null,
            "grid_template_areas": null,
            "grid_template_columns": null,
            "grid_template_rows": null,
            "height": null,
            "justify_content": null,
            "justify_items": null,
            "left": null,
            "margin": null,
            "max_height": null,
            "max_width": null,
            "min_height": null,
            "min_width": null,
            "object_fit": null,
            "object_position": null,
            "order": null,
            "overflow": null,
            "overflow_x": null,
            "overflow_y": null,
            "padding": null,
            "right": null,
            "top": null,
            "visibility": null,
            "width": null
          }
        },
        "e328f7e1fae14c9583cbb05adcfc8aea": {
          "model_module": "@jupyter-widgets/base",
          "model_name": "LayoutModel",
          "model_module_version": "1.2.0",
          "state": {
            "_model_module": "@jupyter-widgets/base",
            "_model_module_version": "1.2.0",
            "_model_name": "LayoutModel",
            "_view_count": null,
            "_view_module": "@jupyter-widgets/base",
            "_view_module_version": "1.2.0",
            "_view_name": "LayoutView",
            "align_content": null,
            "align_items": null,
            "align_self": null,
            "border": null,
            "bottom": null,
            "display": null,
            "flex": null,
            "flex_flow": null,
            "grid_area": null,
            "grid_auto_columns": null,
            "grid_auto_flow": null,
            "grid_auto_rows": null,
            "grid_column": null,
            "grid_gap": null,
            "grid_row": null,
            "grid_template_areas": null,
            "grid_template_columns": null,
            "grid_template_rows": null,
            "height": null,
            "justify_content": null,
            "justify_items": null,
            "left": null,
            "margin": null,
            "max_height": null,
            "max_width": null,
            "min_height": null,
            "min_width": null,
            "object_fit": null,
            "object_position": null,
            "order": null,
            "overflow": null,
            "overflow_x": null,
            "overflow_y": null,
            "padding": null,
            "right": null,
            "top": null,
            "visibility": null,
            "width": null
          }
        },
        "c3f88afbd370417780256bf12a128f61": {
          "model_module": "@jupyter-widgets/controls",
          "model_name": "DescriptionStyleModel",
          "model_module_version": "1.5.0",
          "state": {
            "_model_module": "@jupyter-widgets/controls",
            "_model_module_version": "1.5.0",
            "_model_name": "DescriptionStyleModel",
            "_view_count": null,
            "_view_module": "@jupyter-widgets/base",
            "_view_module_version": "1.2.0",
            "_view_name": "StyleView",
            "description_width": ""
          }
        },
        "3a1ad5bf31834e92a7e7933d876451de": {
          "model_module": "@jupyter-widgets/base",
          "model_name": "LayoutModel",
          "model_module_version": "1.2.0",
          "state": {
            "_model_module": "@jupyter-widgets/base",
            "_model_module_version": "1.2.0",
            "_model_name": "LayoutModel",
            "_view_count": null,
            "_view_module": "@jupyter-widgets/base",
            "_view_module_version": "1.2.0",
            "_view_name": "LayoutView",
            "align_content": null,
            "align_items": null,
            "align_self": null,
            "border": null,
            "bottom": null,
            "display": null,
            "flex": null,
            "flex_flow": null,
            "grid_area": null,
            "grid_auto_columns": null,
            "grid_auto_flow": null,
            "grid_auto_rows": null,
            "grid_column": null,
            "grid_gap": null,
            "grid_row": null,
            "grid_template_areas": null,
            "grid_template_columns": null,
            "grid_template_rows": null,
            "height": null,
            "justify_content": null,
            "justify_items": null,
            "left": null,
            "margin": null,
            "max_height": null,
            "max_width": null,
            "min_height": null,
            "min_width": null,
            "object_fit": null,
            "object_position": null,
            "order": null,
            "overflow": null,
            "overflow_x": null,
            "overflow_y": null,
            "padding": null,
            "right": null,
            "top": null,
            "visibility": null,
            "width": null
          }
        },
        "fbe2e777ae8d443ab682b0d937dd92cf": {
          "model_module": "@jupyter-widgets/controls",
          "model_name": "ProgressStyleModel",
          "model_module_version": "1.5.0",
          "state": {
            "_model_module": "@jupyter-widgets/controls",
            "_model_module_version": "1.5.0",
            "_model_name": "ProgressStyleModel",
            "_view_count": null,
            "_view_module": "@jupyter-widgets/base",
            "_view_module_version": "1.2.0",
            "_view_name": "StyleView",
            "bar_color": null,
            "description_width": ""
          }
        },
        "a6e3c02755214aaa8b0af5348b66b2e1": {
          "model_module": "@jupyter-widgets/base",
          "model_name": "LayoutModel",
          "model_module_version": "1.2.0",
          "state": {
            "_model_module": "@jupyter-widgets/base",
            "_model_module_version": "1.2.0",
            "_model_name": "LayoutModel",
            "_view_count": null,
            "_view_module": "@jupyter-widgets/base",
            "_view_module_version": "1.2.0",
            "_view_name": "LayoutView",
            "align_content": null,
            "align_items": null,
            "align_self": null,
            "border": null,
            "bottom": null,
            "display": null,
            "flex": null,
            "flex_flow": null,
            "grid_area": null,
            "grid_auto_columns": null,
            "grid_auto_flow": null,
            "grid_auto_rows": null,
            "grid_column": null,
            "grid_gap": null,
            "grid_row": null,
            "grid_template_areas": null,
            "grid_template_columns": null,
            "grid_template_rows": null,
            "height": null,
            "justify_content": null,
            "justify_items": null,
            "left": null,
            "margin": null,
            "max_height": null,
            "max_width": null,
            "min_height": null,
            "min_width": null,
            "object_fit": null,
            "object_position": null,
            "order": null,
            "overflow": null,
            "overflow_x": null,
            "overflow_y": null,
            "padding": null,
            "right": null,
            "top": null,
            "visibility": null,
            "width": null
          }
        },
        "df0727a5697844c7be3bce88545e1d8c": {
          "model_module": "@jupyter-widgets/controls",
          "model_name": "DescriptionStyleModel",
          "model_module_version": "1.5.0",
          "state": {
            "_model_module": "@jupyter-widgets/controls",
            "_model_module_version": "1.5.0",
            "_model_name": "DescriptionStyleModel",
            "_view_count": null,
            "_view_module": "@jupyter-widgets/base",
            "_view_module_version": "1.2.0",
            "_view_name": "StyleView",
            "description_width": ""
          }
        },
        "4e9842746b894d938d21efffadee2c9e": {
          "model_module": "@jupyter-widgets/controls",
          "model_name": "HBoxModel",
          "model_module_version": "1.5.0",
          "state": {
            "_dom_classes": [],
            "_model_module": "@jupyter-widgets/controls",
            "_model_module_version": "1.5.0",
            "_model_name": "HBoxModel",
            "_view_count": null,
            "_view_module": "@jupyter-widgets/controls",
            "_view_module_version": "1.5.0",
            "_view_name": "HBoxView",
            "box_style": "",
            "children": [
              "IPY_MODEL_52c86e77f1a648fc8a7963dfc999c03e",
              "IPY_MODEL_ce84afda4755468785cd1b2498e535db",
              "IPY_MODEL_cf379ee8bbb146729acdb3238a3e08c8"
            ],
            "layout": "IPY_MODEL_add8e0a94a1a40eca994729bdcb75b1a"
          }
        },
        "52c86e77f1a648fc8a7963dfc999c03e": {
          "model_module": "@jupyter-widgets/controls",
          "model_name": "HTMLModel",
          "model_module_version": "1.5.0",
          "state": {
            "_dom_classes": [],
            "_model_module": "@jupyter-widgets/controls",
            "_model_module_version": "1.5.0",
            "_model_name": "HTMLModel",
            "_view_count": null,
            "_view_module": "@jupyter-widgets/controls",
            "_view_module_version": "1.5.0",
            "_view_name": "HTMLView",
            "description": "",
            "description_tooltip": null,
            "layout": "IPY_MODEL_d1c323538540440c83523926fe3c0fcb",
            "placeholder": "​",
            "style": "IPY_MODEL_09ca3b4ca85a4340aab5571c00474af2",
            "value": "Generating train split: 100%"
          }
        },
        "ce84afda4755468785cd1b2498e535db": {
          "model_module": "@jupyter-widgets/controls",
          "model_name": "FloatProgressModel",
          "model_module_version": "1.5.0",
          "state": {
            "_dom_classes": [],
            "_model_module": "@jupyter-widgets/controls",
            "_model_module_version": "1.5.0",
            "_model_name": "FloatProgressModel",
            "_view_count": null,
            "_view_module": "@jupyter-widgets/controls",
            "_view_module_version": "1.5.0",
            "_view_name": "ProgressView",
            "bar_style": "success",
            "description": "",
            "description_tooltip": null,
            "layout": "IPY_MODEL_950d969fe6e04fdebdb4d55ee7b47a5c",
            "max": 25371,
            "min": 0,
            "orientation": "horizontal",
            "style": "IPY_MODEL_4f43be2ea199486ca899331caeb4f73a",
            "value": 25371
          }
        },
        "cf379ee8bbb146729acdb3238a3e08c8": {
          "model_module": "@jupyter-widgets/controls",
          "model_name": "HTMLModel",
          "model_module_version": "1.5.0",
          "state": {
            "_dom_classes": [],
            "_model_module": "@jupyter-widgets/controls",
            "_model_module_version": "1.5.0",
            "_model_name": "HTMLModel",
            "_view_count": null,
            "_view_module": "@jupyter-widgets/controls",
            "_view_module_version": "1.5.0",
            "_view_name": "HTMLView",
            "description": "",
            "description_tooltip": null,
            "layout": "IPY_MODEL_5b6305cb0e1e4b37a7f185712225b63a",
            "placeholder": "​",
            "style": "IPY_MODEL_fe97cde805334f2ab33374c8c3204c32",
            "value": " 25371/25371 [00:01&lt;00:00, 13467.04 examples/s]"
          }
        },
        "add8e0a94a1a40eca994729bdcb75b1a": {
          "model_module": "@jupyter-widgets/base",
          "model_name": "LayoutModel",
          "model_module_version": "1.2.0",
          "state": {
            "_model_module": "@jupyter-widgets/base",
            "_model_module_version": "1.2.0",
            "_model_name": "LayoutModel",
            "_view_count": null,
            "_view_module": "@jupyter-widgets/base",
            "_view_module_version": "1.2.0",
            "_view_name": "LayoutView",
            "align_content": null,
            "align_items": null,
            "align_self": null,
            "border": null,
            "bottom": null,
            "display": null,
            "flex": null,
            "flex_flow": null,
            "grid_area": null,
            "grid_auto_columns": null,
            "grid_auto_flow": null,
            "grid_auto_rows": null,
            "grid_column": null,
            "grid_gap": null,
            "grid_row": null,
            "grid_template_areas": null,
            "grid_template_columns": null,
            "grid_template_rows": null,
            "height": null,
            "justify_content": null,
            "justify_items": null,
            "left": null,
            "margin": null,
            "max_height": null,
            "max_width": null,
            "min_height": null,
            "min_width": null,
            "object_fit": null,
            "object_position": null,
            "order": null,
            "overflow": null,
            "overflow_x": null,
            "overflow_y": null,
            "padding": null,
            "right": null,
            "top": null,
            "visibility": null,
            "width": null
          }
        },
        "d1c323538540440c83523926fe3c0fcb": {
          "model_module": "@jupyter-widgets/base",
          "model_name": "LayoutModel",
          "model_module_version": "1.2.0",
          "state": {
            "_model_module": "@jupyter-widgets/base",
            "_model_module_version": "1.2.0",
            "_model_name": "LayoutModel",
            "_view_count": null,
            "_view_module": "@jupyter-widgets/base",
            "_view_module_version": "1.2.0",
            "_view_name": "LayoutView",
            "align_content": null,
            "align_items": null,
            "align_self": null,
            "border": null,
            "bottom": null,
            "display": null,
            "flex": null,
            "flex_flow": null,
            "grid_area": null,
            "grid_auto_columns": null,
            "grid_auto_flow": null,
            "grid_auto_rows": null,
            "grid_column": null,
            "grid_gap": null,
            "grid_row": null,
            "grid_template_areas": null,
            "grid_template_columns": null,
            "grid_template_rows": null,
            "height": null,
            "justify_content": null,
            "justify_items": null,
            "left": null,
            "margin": null,
            "max_height": null,
            "max_width": null,
            "min_height": null,
            "min_width": null,
            "object_fit": null,
            "object_position": null,
            "order": null,
            "overflow": null,
            "overflow_x": null,
            "overflow_y": null,
            "padding": null,
            "right": null,
            "top": null,
            "visibility": null,
            "width": null
          }
        },
        "09ca3b4ca85a4340aab5571c00474af2": {
          "model_module": "@jupyter-widgets/controls",
          "model_name": "DescriptionStyleModel",
          "model_module_version": "1.5.0",
          "state": {
            "_model_module": "@jupyter-widgets/controls",
            "_model_module_version": "1.5.0",
            "_model_name": "DescriptionStyleModel",
            "_view_count": null,
            "_view_module": "@jupyter-widgets/base",
            "_view_module_version": "1.2.0",
            "_view_name": "StyleView",
            "description_width": ""
          }
        },
        "950d969fe6e04fdebdb4d55ee7b47a5c": {
          "model_module": "@jupyter-widgets/base",
          "model_name": "LayoutModel",
          "model_module_version": "1.2.0",
          "state": {
            "_model_module": "@jupyter-widgets/base",
            "_model_module_version": "1.2.0",
            "_model_name": "LayoutModel",
            "_view_count": null,
            "_view_module": "@jupyter-widgets/base",
            "_view_module_version": "1.2.0",
            "_view_name": "LayoutView",
            "align_content": null,
            "align_items": null,
            "align_self": null,
            "border": null,
            "bottom": null,
            "display": null,
            "flex": null,
            "flex_flow": null,
            "grid_area": null,
            "grid_auto_columns": null,
            "grid_auto_flow": null,
            "grid_auto_rows": null,
            "grid_column": null,
            "grid_gap": null,
            "grid_row": null,
            "grid_template_areas": null,
            "grid_template_columns": null,
            "grid_template_rows": null,
            "height": null,
            "justify_content": null,
            "justify_items": null,
            "left": null,
            "margin": null,
            "max_height": null,
            "max_width": null,
            "min_height": null,
            "min_width": null,
            "object_fit": null,
            "object_position": null,
            "order": null,
            "overflow": null,
            "overflow_x": null,
            "overflow_y": null,
            "padding": null,
            "right": null,
            "top": null,
            "visibility": null,
            "width": null
          }
        },
        "4f43be2ea199486ca899331caeb4f73a": {
          "model_module": "@jupyter-widgets/controls",
          "model_name": "ProgressStyleModel",
          "model_module_version": "1.5.0",
          "state": {
            "_model_module": "@jupyter-widgets/controls",
            "_model_module_version": "1.5.0",
            "_model_name": "ProgressStyleModel",
            "_view_count": null,
            "_view_module": "@jupyter-widgets/base",
            "_view_module_version": "1.2.0",
            "_view_name": "StyleView",
            "bar_color": null,
            "description_width": ""
          }
        },
        "5b6305cb0e1e4b37a7f185712225b63a": {
          "model_module": "@jupyter-widgets/base",
          "model_name": "LayoutModel",
          "model_module_version": "1.2.0",
          "state": {
            "_model_module": "@jupyter-widgets/base",
            "_model_module_version": "1.2.0",
            "_model_name": "LayoutModel",
            "_view_count": null,
            "_view_module": "@jupyter-widgets/base",
            "_view_module_version": "1.2.0",
            "_view_name": "LayoutView",
            "align_content": null,
            "align_items": null,
            "align_self": null,
            "border": null,
            "bottom": null,
            "display": null,
            "flex": null,
            "flex_flow": null,
            "grid_area": null,
            "grid_auto_columns": null,
            "grid_auto_flow": null,
            "grid_auto_rows": null,
            "grid_column": null,
            "grid_gap": null,
            "grid_row": null,
            "grid_template_areas": null,
            "grid_template_columns": null,
            "grid_template_rows": null,
            "height": null,
            "justify_content": null,
            "justify_items": null,
            "left": null,
            "margin": null,
            "max_height": null,
            "max_width": null,
            "min_height": null,
            "min_width": null,
            "object_fit": null,
            "object_position": null,
            "order": null,
            "overflow": null,
            "overflow_x": null,
            "overflow_y": null,
            "padding": null,
            "right": null,
            "top": null,
            "visibility": null,
            "width": null
          }
        },
        "fe97cde805334f2ab33374c8c3204c32": {
          "model_module": "@jupyter-widgets/controls",
          "model_name": "DescriptionStyleModel",
          "model_module_version": "1.5.0",
          "state": {
            "_model_module": "@jupyter-widgets/controls",
            "_model_module_version": "1.5.0",
            "_model_name": "DescriptionStyleModel",
            "_view_count": null,
            "_view_module": "@jupyter-widgets/base",
            "_view_module_version": "1.2.0",
            "_view_name": "StyleView",
            "description_width": ""
          }
        },
        "94358a34a7054deab7ad5046d0d85370": {
          "model_module": "@jupyter-widgets/controls",
          "model_name": "HBoxModel",
          "model_module_version": "1.5.0",
          "state": {
            "_dom_classes": [],
            "_model_module": "@jupyter-widgets/controls",
            "_model_module_version": "1.5.0",
            "_model_name": "HBoxModel",
            "_view_count": null,
            "_view_module": "@jupyter-widgets/controls",
            "_view_module_version": "1.5.0",
            "_view_name": "HBoxView",
            "box_style": "",
            "children": [
              "IPY_MODEL_4b567a86db364c5991c0fbc180b595dd",
              "IPY_MODEL_b467a58eb9084e398c0d89a49f361379",
              "IPY_MODEL_149ccc2f62574ac08305442c03944daf"
            ],
            "layout": "IPY_MODEL_78bd3fc5823e4064a7780077fc4fca99"
          }
        },
        "4b567a86db364c5991c0fbc180b595dd": {
          "model_module": "@jupyter-widgets/controls",
          "model_name": "HTMLModel",
          "model_module_version": "1.5.0",
          "state": {
            "_dom_classes": [],
            "_model_module": "@jupyter-widgets/controls",
            "_model_module_version": "1.5.0",
            "_model_name": "HTMLModel",
            "_view_count": null,
            "_view_module": "@jupyter-widgets/controls",
            "_view_module_version": "1.5.0",
            "_view_name": "HTMLView",
            "description": "",
            "description_tooltip": null,
            "layout": "IPY_MODEL_de673681ffee492ca7e0233e98d1d950",
            "placeholder": "​",
            "style": "IPY_MODEL_2c38b49716334073976186fd24776edc",
            "value": "Map: 100%"
          }
        },
        "b467a58eb9084e398c0d89a49f361379": {
          "model_module": "@jupyter-widgets/controls",
          "model_name": "FloatProgressModel",
          "model_module_version": "1.5.0",
          "state": {
            "_dom_classes": [],
            "_model_module": "@jupyter-widgets/controls",
            "_model_module_version": "1.5.0",
            "_model_name": "FloatProgressModel",
            "_view_count": null,
            "_view_module": "@jupyter-widgets/controls",
            "_view_module_version": "1.5.0",
            "_view_name": "ProgressView",
            "bar_style": "success",
            "description": "",
            "description_tooltip": null,
            "layout": "IPY_MODEL_a3562d4e5e054d13a01468a1e72a1738",
            "max": 500,
            "min": 0,
            "orientation": "horizontal",
            "style": "IPY_MODEL_9d1a27028cf14e0ea6d14378363a0f67",
            "value": 500
          }
        },
        "149ccc2f62574ac08305442c03944daf": {
          "model_module": "@jupyter-widgets/controls",
          "model_name": "HTMLModel",
          "model_module_version": "1.5.0",
          "state": {
            "_dom_classes": [],
            "_model_module": "@jupyter-widgets/controls",
            "_model_module_version": "1.5.0",
            "_model_name": "HTMLModel",
            "_view_count": null,
            "_view_module": "@jupyter-widgets/controls",
            "_view_module_version": "1.5.0",
            "_view_name": "HTMLView",
            "description": "",
            "description_tooltip": null,
            "layout": "IPY_MODEL_1be3008d2b124b6a94ef87ff21b1acd2",
            "placeholder": "​",
            "style": "IPY_MODEL_6c122e6f2ba34ecbadd0d748fa5c3383",
            "value": " 500/500 [00:00&lt;00:00, 6478.37 examples/s]"
          }
        },
        "78bd3fc5823e4064a7780077fc4fca99": {
          "model_module": "@jupyter-widgets/base",
          "model_name": "LayoutModel",
          "model_module_version": "1.2.0",
          "state": {
            "_model_module": "@jupyter-widgets/base",
            "_model_module_version": "1.2.0",
            "_model_name": "LayoutModel",
            "_view_count": null,
            "_view_module": "@jupyter-widgets/base",
            "_view_module_version": "1.2.0",
            "_view_name": "LayoutView",
            "align_content": null,
            "align_items": null,
            "align_self": null,
            "border": null,
            "bottom": null,
            "display": null,
            "flex": null,
            "flex_flow": null,
            "grid_area": null,
            "grid_auto_columns": null,
            "grid_auto_flow": null,
            "grid_auto_rows": null,
            "grid_column": null,
            "grid_gap": null,
            "grid_row": null,
            "grid_template_areas": null,
            "grid_template_columns": null,
            "grid_template_rows": null,
            "height": null,
            "justify_content": null,
            "justify_items": null,
            "left": null,
            "margin": null,
            "max_height": null,
            "max_width": null,
            "min_height": null,
            "min_width": null,
            "object_fit": null,
            "object_position": null,
            "order": null,
            "overflow": null,
            "overflow_x": null,
            "overflow_y": null,
            "padding": null,
            "right": null,
            "top": null,
            "visibility": null,
            "width": null
          }
        },
        "de673681ffee492ca7e0233e98d1d950": {
          "model_module": "@jupyter-widgets/base",
          "model_name": "LayoutModel",
          "model_module_version": "1.2.0",
          "state": {
            "_model_module": "@jupyter-widgets/base",
            "_model_module_version": "1.2.0",
            "_model_name": "LayoutModel",
            "_view_count": null,
            "_view_module": "@jupyter-widgets/base",
            "_view_module_version": "1.2.0",
            "_view_name": "LayoutView",
            "align_content": null,
            "align_items": null,
            "align_self": null,
            "border": null,
            "bottom": null,
            "display": null,
            "flex": null,
            "flex_flow": null,
            "grid_area": null,
            "grid_auto_columns": null,
            "grid_auto_flow": null,
            "grid_auto_rows": null,
            "grid_column": null,
            "grid_gap": null,
            "grid_row": null,
            "grid_template_areas": null,
            "grid_template_columns": null,
            "grid_template_rows": null,
            "height": null,
            "justify_content": null,
            "justify_items": null,
            "left": null,
            "margin": null,
            "max_height": null,
            "max_width": null,
            "min_height": null,
            "min_width": null,
            "object_fit": null,
            "object_position": null,
            "order": null,
            "overflow": null,
            "overflow_x": null,
            "overflow_y": null,
            "padding": null,
            "right": null,
            "top": null,
            "visibility": null,
            "width": null
          }
        },
        "2c38b49716334073976186fd24776edc": {
          "model_module": "@jupyter-widgets/controls",
          "model_name": "DescriptionStyleModel",
          "model_module_version": "1.5.0",
          "state": {
            "_model_module": "@jupyter-widgets/controls",
            "_model_module_version": "1.5.0",
            "_model_name": "DescriptionStyleModel",
            "_view_count": null,
            "_view_module": "@jupyter-widgets/base",
            "_view_module_version": "1.2.0",
            "_view_name": "StyleView",
            "description_width": ""
          }
        },
        "a3562d4e5e054d13a01468a1e72a1738": {
          "model_module": "@jupyter-widgets/base",
          "model_name": "LayoutModel",
          "model_module_version": "1.2.0",
          "state": {
            "_model_module": "@jupyter-widgets/base",
            "_model_module_version": "1.2.0",
            "_model_name": "LayoutModel",
            "_view_count": null,
            "_view_module": "@jupyter-widgets/base",
            "_view_module_version": "1.2.0",
            "_view_name": "LayoutView",
            "align_content": null,
            "align_items": null,
            "align_self": null,
            "border": null,
            "bottom": null,
            "display": null,
            "flex": null,
            "flex_flow": null,
            "grid_area": null,
            "grid_auto_columns": null,
            "grid_auto_flow": null,
            "grid_auto_rows": null,
            "grid_column": null,
            "grid_gap": null,
            "grid_row": null,
            "grid_template_areas": null,
            "grid_template_columns": null,
            "grid_template_rows": null,
            "height": null,
            "justify_content": null,
            "justify_items": null,
            "left": null,
            "margin": null,
            "max_height": null,
            "max_width": null,
            "min_height": null,
            "min_width": null,
            "object_fit": null,
            "object_position": null,
            "order": null,
            "overflow": null,
            "overflow_x": null,
            "overflow_y": null,
            "padding": null,
            "right": null,
            "top": null,
            "visibility": null,
            "width": null
          }
        },
        "9d1a27028cf14e0ea6d14378363a0f67": {
          "model_module": "@jupyter-widgets/controls",
          "model_name": "ProgressStyleModel",
          "model_module_version": "1.5.0",
          "state": {
            "_model_module": "@jupyter-widgets/controls",
            "_model_module_version": "1.5.0",
            "_model_name": "ProgressStyleModel",
            "_view_count": null,
            "_view_module": "@jupyter-widgets/base",
            "_view_module_version": "1.2.0",
            "_view_name": "StyleView",
            "bar_color": null,
            "description_width": ""
          }
        },
        "1be3008d2b124b6a94ef87ff21b1acd2": {
          "model_module": "@jupyter-widgets/base",
          "model_name": "LayoutModel",
          "model_module_version": "1.2.0",
          "state": {
            "_model_module": "@jupyter-widgets/base",
            "_model_module_version": "1.2.0",
            "_model_name": "LayoutModel",
            "_view_count": null,
            "_view_module": "@jupyter-widgets/base",
            "_view_module_version": "1.2.0",
            "_view_name": "LayoutView",
            "align_content": null,
            "align_items": null,
            "align_self": null,
            "border": null,
            "bottom": null,
            "display": null,
            "flex": null,
            "flex_flow": null,
            "grid_area": null,
            "grid_auto_columns": null,
            "grid_auto_flow": null,
            "grid_auto_rows": null,
            "grid_column": null,
            "grid_gap": null,
            "grid_row": null,
            "grid_template_areas": null,
            "grid_template_columns": null,
            "grid_template_rows": null,
            "height": null,
            "justify_content": null,
            "justify_items": null,
            "left": null,
            "margin": null,
            "max_height": null,
            "max_width": null,
            "min_height": null,
            "min_width": null,
            "object_fit": null,
            "object_position": null,
            "order": null,
            "overflow": null,
            "overflow_x": null,
            "overflow_y": null,
            "padding": null,
            "right": null,
            "top": null,
            "visibility": null,
            "width": null
          }
        },
        "6c122e6f2ba34ecbadd0d748fa5c3383": {
          "model_module": "@jupyter-widgets/controls",
          "model_name": "DescriptionStyleModel",
          "model_module_version": "1.5.0",
          "state": {
            "_model_module": "@jupyter-widgets/controls",
            "_model_module_version": "1.5.0",
            "_model_name": "DescriptionStyleModel",
            "_view_count": null,
            "_view_module": "@jupyter-widgets/base",
            "_view_module_version": "1.2.0",
            "_view_name": "StyleView",
            "description_width": ""
          }
        },
        "4decab3c04b549f98eaacd32c8aae94c": {
          "model_module": "@jupyter-widgets/controls",
          "model_name": "HBoxModel",
          "model_module_version": "1.5.0",
          "state": {
            "_dom_classes": [],
            "_model_module": "@jupyter-widgets/controls",
            "_model_module_version": "1.5.0",
            "_model_name": "HBoxModel",
            "_view_count": null,
            "_view_module": "@jupyter-widgets/controls",
            "_view_module_version": "1.5.0",
            "_view_name": "HBoxView",
            "box_style": "",
            "children": [
              "IPY_MODEL_3715fcfa027f4d25952a21cada6761aa",
              "IPY_MODEL_0efea14aa89047b39fe7e87a3461a408",
              "IPY_MODEL_3c53ebbd61844d1c9f32413c11f310ef"
            ],
            "layout": "IPY_MODEL_01a9dafbb65c44d584263fce80bbae7e"
          }
        },
        "3715fcfa027f4d25952a21cada6761aa": {
          "model_module": "@jupyter-widgets/controls",
          "model_name": "HTMLModel",
          "model_module_version": "1.5.0",
          "state": {
            "_dom_classes": [],
            "_model_module": "@jupyter-widgets/controls",
            "_model_module_version": "1.5.0",
            "_model_name": "HTMLModel",
            "_view_count": null,
            "_view_module": "@jupyter-widgets/controls",
            "_view_module_version": "1.5.0",
            "_view_name": "HTMLView",
            "description": "",
            "description_tooltip": null,
            "layout": "IPY_MODEL_10ae7181cca74e5dbdb7c287fb4aaca7",
            "placeholder": "​",
            "style": "IPY_MODEL_792e02b8fbe141c9a1fd2d51c6938724",
            "value": "Map: 100%"
          }
        },
        "0efea14aa89047b39fe7e87a3461a408": {
          "model_module": "@jupyter-widgets/controls",
          "model_name": "FloatProgressModel",
          "model_module_version": "1.5.0",
          "state": {
            "_dom_classes": [],
            "_model_module": "@jupyter-widgets/controls",
            "_model_module_version": "1.5.0",
            "_model_name": "FloatProgressModel",
            "_view_count": null,
            "_view_module": "@jupyter-widgets/controls",
            "_view_module_version": "1.5.0",
            "_view_name": "ProgressView",
            "bar_style": "success",
            "description": "",
            "description_tooltip": null,
            "layout": "IPY_MODEL_0323e33edd6a4e039486b9673a07c826",
            "max": 500,
            "min": 0,
            "orientation": "horizontal",
            "style": "IPY_MODEL_a2047444a59b42d0a6b1afd04f1ff0cb",
            "value": 500
          }
        },
        "3c53ebbd61844d1c9f32413c11f310ef": {
          "model_module": "@jupyter-widgets/controls",
          "model_name": "HTMLModel",
          "model_module_version": "1.5.0",
          "state": {
            "_dom_classes": [],
            "_model_module": "@jupyter-widgets/controls",
            "_model_module_version": "1.5.0",
            "_model_name": "HTMLModel",
            "_view_count": null,
            "_view_module": "@jupyter-widgets/controls",
            "_view_module_version": "1.5.0",
            "_view_name": "HTMLView",
            "description": "",
            "description_tooltip": null,
            "layout": "IPY_MODEL_6de73e2376bd4c43bb3b9aae985f1383",
            "placeholder": "​",
            "style": "IPY_MODEL_7d9a6b7b1b814ddc90870a8cf2032e33",
            "value": " 500/500 [00:03&lt;00:00, 156.87 examples/s]"
          }
        },
        "01a9dafbb65c44d584263fce80bbae7e": {
          "model_module": "@jupyter-widgets/base",
          "model_name": "LayoutModel",
          "model_module_version": "1.2.0",
          "state": {
            "_model_module": "@jupyter-widgets/base",
            "_model_module_version": "1.2.0",
            "_model_name": "LayoutModel",
            "_view_count": null,
            "_view_module": "@jupyter-widgets/base",
            "_view_module_version": "1.2.0",
            "_view_name": "LayoutView",
            "align_content": null,
            "align_items": null,
            "align_self": null,
            "border": null,
            "bottom": null,
            "display": null,
            "flex": null,
            "flex_flow": null,
            "grid_area": null,
            "grid_auto_columns": null,
            "grid_auto_flow": null,
            "grid_auto_rows": null,
            "grid_column": null,
            "grid_gap": null,
            "grid_row": null,
            "grid_template_areas": null,
            "grid_template_columns": null,
            "grid_template_rows": null,
            "height": null,
            "justify_content": null,
            "justify_items": null,
            "left": null,
            "margin": null,
            "max_height": null,
            "max_width": null,
            "min_height": null,
            "min_width": null,
            "object_fit": null,
            "object_position": null,
            "order": null,
            "overflow": null,
            "overflow_x": null,
            "overflow_y": null,
            "padding": null,
            "right": null,
            "top": null,
            "visibility": null,
            "width": null
          }
        },
        "10ae7181cca74e5dbdb7c287fb4aaca7": {
          "model_module": "@jupyter-widgets/base",
          "model_name": "LayoutModel",
          "model_module_version": "1.2.0",
          "state": {
            "_model_module": "@jupyter-widgets/base",
            "_model_module_version": "1.2.0",
            "_model_name": "LayoutModel",
            "_view_count": null,
            "_view_module": "@jupyter-widgets/base",
            "_view_module_version": "1.2.0",
            "_view_name": "LayoutView",
            "align_content": null,
            "align_items": null,
            "align_self": null,
            "border": null,
            "bottom": null,
            "display": null,
            "flex": null,
            "flex_flow": null,
            "grid_area": null,
            "grid_auto_columns": null,
            "grid_auto_flow": null,
            "grid_auto_rows": null,
            "grid_column": null,
            "grid_gap": null,
            "grid_row": null,
            "grid_template_areas": null,
            "grid_template_columns": null,
            "grid_template_rows": null,
            "height": null,
            "justify_content": null,
            "justify_items": null,
            "left": null,
            "margin": null,
            "max_height": null,
            "max_width": null,
            "min_height": null,
            "min_width": null,
            "object_fit": null,
            "object_position": null,
            "order": null,
            "overflow": null,
            "overflow_x": null,
            "overflow_y": null,
            "padding": null,
            "right": null,
            "top": null,
            "visibility": null,
            "width": null
          }
        },
        "792e02b8fbe141c9a1fd2d51c6938724": {
          "model_module": "@jupyter-widgets/controls",
          "model_name": "DescriptionStyleModel",
          "model_module_version": "1.5.0",
          "state": {
            "_model_module": "@jupyter-widgets/controls",
            "_model_module_version": "1.5.0",
            "_model_name": "DescriptionStyleModel",
            "_view_count": null,
            "_view_module": "@jupyter-widgets/base",
            "_view_module_version": "1.2.0",
            "_view_name": "StyleView",
            "description_width": ""
          }
        },
        "0323e33edd6a4e039486b9673a07c826": {
          "model_module": "@jupyter-widgets/base",
          "model_name": "LayoutModel",
          "model_module_version": "1.2.0",
          "state": {
            "_model_module": "@jupyter-widgets/base",
            "_model_module_version": "1.2.0",
            "_model_name": "LayoutModel",
            "_view_count": null,
            "_view_module": "@jupyter-widgets/base",
            "_view_module_version": "1.2.0",
            "_view_name": "LayoutView",
            "align_content": null,
            "align_items": null,
            "align_self": null,
            "border": null,
            "bottom": null,
            "display": null,
            "flex": null,
            "flex_flow": null,
            "grid_area": null,
            "grid_auto_columns": null,
            "grid_auto_flow": null,
            "grid_auto_rows": null,
            "grid_column": null,
            "grid_gap": null,
            "grid_row": null,
            "grid_template_areas": null,
            "grid_template_columns": null,
            "grid_template_rows": null,
            "height": null,
            "justify_content": null,
            "justify_items": null,
            "left": null,
            "margin": null,
            "max_height": null,
            "max_width": null,
            "min_height": null,
            "min_width": null,
            "object_fit": null,
            "object_position": null,
            "order": null,
            "overflow": null,
            "overflow_x": null,
            "overflow_y": null,
            "padding": null,
            "right": null,
            "top": null,
            "visibility": null,
            "width": null
          }
        },
        "a2047444a59b42d0a6b1afd04f1ff0cb": {
          "model_module": "@jupyter-widgets/controls",
          "model_name": "ProgressStyleModel",
          "model_module_version": "1.5.0",
          "state": {
            "_model_module": "@jupyter-widgets/controls",
            "_model_module_version": "1.5.0",
            "_model_name": "ProgressStyleModel",
            "_view_count": null,
            "_view_module": "@jupyter-widgets/base",
            "_view_module_version": "1.2.0",
            "_view_name": "StyleView",
            "bar_color": null,
            "description_width": ""
          }
        },
        "6de73e2376bd4c43bb3b9aae985f1383": {
          "model_module": "@jupyter-widgets/base",
          "model_name": "LayoutModel",
          "model_module_version": "1.2.0",
          "state": {
            "_model_module": "@jupyter-widgets/base",
            "_model_module_version": "1.2.0",
            "_model_name": "LayoutModel",
            "_view_count": null,
            "_view_module": "@jupyter-widgets/base",
            "_view_module_version": "1.2.0",
            "_view_name": "LayoutView",
            "align_content": null,
            "align_items": null,
            "align_self": null,
            "border": null,
            "bottom": null,
            "display": null,
            "flex": null,
            "flex_flow": null,
            "grid_area": null,
            "grid_auto_columns": null,
            "grid_auto_flow": null,
            "grid_auto_rows": null,
            "grid_column": null,
            "grid_gap": null,
            "grid_row": null,
            "grid_template_areas": null,
            "grid_template_columns": null,
            "grid_template_rows": null,
            "height": null,
            "justify_content": null,
            "justify_items": null,
            "left": null,
            "margin": null,
            "max_height": null,
            "max_width": null,
            "min_height": null,
            "min_width": null,
            "object_fit": null,
            "object_position": null,
            "order": null,
            "overflow": null,
            "overflow_x": null,
            "overflow_y": null,
            "padding": null,
            "right": null,
            "top": null,
            "visibility": null,
            "width": null
          }
        },
        "7d9a6b7b1b814ddc90870a8cf2032e33": {
          "model_module": "@jupyter-widgets/controls",
          "model_name": "DescriptionStyleModel",
          "model_module_version": "1.5.0",
          "state": {
            "_model_module": "@jupyter-widgets/controls",
            "_model_module_version": "1.5.0",
            "_model_name": "DescriptionStyleModel",
            "_view_count": null,
            "_view_module": "@jupyter-widgets/base",
            "_view_module_version": "1.2.0",
            "_view_name": "StyleView",
            "description_width": ""
          }
        }
      }
    }
  },
  "cells": [
    {
      "cell_type": "markdown",
      "metadata": {
        "id": "view-in-github",
        "colab_type": "text"
      },
      "source": [
        "<a href=\"https://colab.research.google.com/github/NewCodeLearner/LLM-finetunning/blob/main/2_Fine_tuning_DeepSeek_R1(Reasoning_Model).ipynb\" target=\"_parent\"><img src=\"https://colab.research.google.com/assets/colab-badge.svg\" alt=\"Open In Colab\"/></a>"
      ]
    },
    {
      "cell_type": "markdown",
      "source": [
        "# About DeepSeek R1\n",
        "\n",
        "**DeepSeek-R1-Zero**\n",
        "DeepSeek-R1-Zero is the first open-source model trained solely with large-scale reinforcement learning (RL) instead of supervised fine-tuning (SFT) as an initial step. This approach enables the model to independently explore chain-of-thought (CoT) reasoning, solve complex problems, and iteratively refine its outputs. However, it comes with challenges such as repetitive reasoning steps, poor readability, and language mixing that can impact its clarity and usability.\n",
        "\n",
        "**DeepSeek-R1**\n",
        "DeepSeek-R1 was introduced to overcome the limitations of DeepSeek-R1-Zero by incorporating cold-start data before reinforcement learning, providing a strong foundation for reasoning and non-reasoning tasks.\n",
        "\n",
        "This multi-stage training enables the model to achieve state-of-the-art performance, comparable to OpenAI-o1, across math, code, and reasoning benchmarks while improving its output's readability and coherence.\n",
        "\n",
        "\n"
      ],
      "metadata": {
        "id": "HwlZyX00oS4c"
      }
    },
    {
      "cell_type": "markdown",
      "source": [
        "# 1. Setting up"
      ],
      "metadata": {
        "id": "gzr7vzQsoi2b"
      }
    },
    {
      "cell_type": "markdown",
      "source": [
        "For this project, we are using Google Colab as our Cloud IDE because it provides free access to GPUs, To get started, launch a new Colab notebook and add your Hugging Face token and Weights & Biases token as secrets.  \n",
        "\n",
        "After setting up the secrets, install the unsloth Python package. Unsloth is an open-source framework designed to make fine-tuning large language models (LLMs) 2X faster and more memory-efficient."
      ],
      "metadata": {
        "id": "bMngXu6PosOv"
      }
    },
    {
      "cell_type": "code",
      "source": [
        "%%capture\n",
        "!pip install unsloth\n",
        "!pip install --force-reinstall --no-cache-dir --no-deps git+https://github.com/unslothai/unsloth.git"
      ],
      "metadata": {
        "id": "gZ19oDHxozxd"
      },
      "execution_count": 1,
      "outputs": []
    },
    {
      "cell_type": "markdown",
      "source": [
        "Log in to the Hugging Face CLI using the Hugging Face API that we securely extracted from Colab Secrets."
      ],
      "metadata": {
        "id": "AEG584ZxsGuJ"
      }
    },
    {
      "cell_type": "code",
      "source": [
        "from huggingface_hub import login\n",
        "from google.colab import userdata\n",
        "\n",
        "\n",
        "hf_token = userdata.get('HF_TOKEN')\n",
        "login(hf_token)"
      ],
      "metadata": {
        "id": "RtaU_Ghbo7Qm"
      },
      "execution_count": 2,
      "outputs": []
    },
    {
      "cell_type": "markdown",
      "source": [
        "Log in to Weights & Biases (wandb) using your API key and create a new project to track the experiments and fine-tuning progress."
      ],
      "metadata": {
        "id": "V2ctV_1jsL2N"
      }
    },
    {
      "cell_type": "code",
      "source": [
        "import wandb\n",
        "\n",
        "wb_token = userdata.get('WANDB_KEY')\n",
        "\n",
        "wandb.login(key=wb_token)\n",
        "run = wandb.init(\n",
        "    project='Fine-tune-DeepSeek-R1-Distill-Llama-8B on Medical COT Dataset',\n",
        "    job_type=\"training\",\n",
        "    anonymous=\"allow\"\n",
        ")"
      ],
      "metadata": {
        "colab": {
          "base_uri": "https://localhost:8080/",
          "height": 266
        },
        "id": "rzo_av--sMjg",
        "outputId": "69f1c5ba-58ba-4c5a-e412-9c47841b960b"
      },
      "execution_count": 3,
      "outputs": [
        {
          "output_type": "stream",
          "name": "stderr",
          "text": [
            "\u001b[34m\u001b[1mwandb\u001b[0m: \u001b[33mWARNING\u001b[0m If you're specifying your api key in code, ensure this code is not shared publicly.\n",
            "\u001b[34m\u001b[1mwandb\u001b[0m: \u001b[33mWARNING\u001b[0m Consider setting the WANDB_API_KEY environment variable, or running `wandb login` from the command line.\n",
            "\u001b[34m\u001b[1mwandb\u001b[0m: Appending key for api.wandb.ai to your netrc file: /root/.netrc\n",
            "\u001b[34m\u001b[1mwandb\u001b[0m: Currently logged in as: \u001b[33mgirish-barhate\u001b[0m (\u001b[33mgirish-barhate-student\u001b[0m) to \u001b[32mhttps://api.wandb.ai\u001b[0m. Use \u001b[1m`wandb login --relogin`\u001b[0m to force relogin\n",
            "\u001b[34m\u001b[1mwandb\u001b[0m: Using wandb-core as the SDK backend.  Please refer to https://wandb.me/wandb-core for more information.\n"
          ]
        },
        {
          "output_type": "display_data",
          "data": {
            "text/plain": [
              "<IPython.core.display.HTML object>"
            ],
            "text/html": [
              "Tracking run with wandb version 0.19.5"
            ]
          },
          "metadata": {}
        },
        {
          "output_type": "display_data",
          "data": {
            "text/plain": [
              "<IPython.core.display.HTML object>"
            ],
            "text/html": [
              "Run data is saved locally in <code>/content/wandb/run-20250203_185629-wbhct3ob</code>"
            ]
          },
          "metadata": {}
        },
        {
          "output_type": "display_data",
          "data": {
            "text/plain": [
              "<IPython.core.display.HTML object>"
            ],
            "text/html": [
              "Syncing run <strong><a href='https://wandb.ai/girish-barhate-student/Fine-tune-DeepSeek-R1-Distill-Llama-8B%20on%20Medical%20COT%20Dataset/runs/wbhct3ob?apiKey=8ac09efd7bc45624a5b2d142a47b8106f985ac76' target=\"_blank\">prime-sponge-2</a></strong> to <a href='https://wandb.ai/girish-barhate-student/Fine-tune-DeepSeek-R1-Distill-Llama-8B%20on%20Medical%20COT%20Dataset?apiKey=8ac09efd7bc45624a5b2d142a47b8106f985ac76' target=\"_blank\">Weights & Biases</a> (<a href='https://wandb.me/developer-guide' target=\"_blank\">docs</a>)<br>"
            ]
          },
          "metadata": {}
        },
        {
          "output_type": "display_data",
          "data": {
            "text/plain": [
              "<IPython.core.display.HTML object>"
            ],
            "text/html": [
              " View project at <a href='https://wandb.ai/girish-barhate-student/Fine-tune-DeepSeek-R1-Distill-Llama-8B%20on%20Medical%20COT%20Dataset?apiKey=8ac09efd7bc45624a5b2d142a47b8106f985ac76' target=\"_blank\">https://wandb.ai/girish-barhate-student/Fine-tune-DeepSeek-R1-Distill-Llama-8B%20on%20Medical%20COT%20Dataset?apiKey=8ac09efd7bc45624a5b2d142a47b8106f985ac76</a>"
            ]
          },
          "metadata": {}
        },
        {
          "output_type": "display_data",
          "data": {
            "text/plain": [
              "<IPython.core.display.HTML object>"
            ],
            "text/html": [
              " View run at <a href='https://wandb.ai/girish-barhate-student/Fine-tune-DeepSeek-R1-Distill-Llama-8B%20on%20Medical%20COT%20Dataset/runs/wbhct3ob?apiKey=8ac09efd7bc45624a5b2d142a47b8106f985ac76' target=\"_blank\">https://wandb.ai/girish-barhate-student/Fine-tune-DeepSeek-R1-Distill-Llama-8B%20on%20Medical%20COT%20Dataset/runs/wbhct3ob?apiKey=8ac09efd7bc45624a5b2d142a47b8106f985ac76</a>"
            ]
          },
          "metadata": {}
        },
        {
          "output_type": "display_data",
          "data": {
            "text/plain": [
              "<IPython.core.display.HTML object>"
            ],
            "text/html": [
              "Do NOT share these links with anyone. They can be used to claim your runs."
            ]
          },
          "metadata": {}
        }
      ]
    },
    {
      "cell_type": "markdown",
      "source": [
        "# 2. Loading the model and tokenizer"
      ],
      "metadata": {
        "id": "-_-TmANPubt1"
      }
    },
    {
      "cell_type": "markdown",
      "source": [
        "For this project, we are loading the Unsloth version of DeepSeek-R1-Distill-Llama-8B.  Additionally, we will load the model in 4-bit quantization to optimize memory usage and performance."
      ],
      "metadata": {
        "id": "dcwDTg5bummF"
      }
    },
    {
      "cell_type": "code",
      "source": [
        "from unsloth import FastLanguageModel\n",
        "\n",
        "max_seq_length = 2048\n",
        "dtype = None\n",
        "load_in_4bit =True\n",
        "\n",
        "model,tokenizer = FastLanguageModel.from_pretrained(\n",
        "    model_name = \"unsloth/DeepSeek-R1-Distill-Llama-8B\",\n",
        "    max_seq_length = max_seq_length,\n",
        "    dtype = dtype,\n",
        "    load_in_4bit = load_in_4bit,\n",
        "    token = hf_token\n",
        ")"
      ],
      "metadata": {
        "colab": {
          "base_uri": "https://localhost:8080/",
          "height": 320,
          "referenced_widgets": [
            "471c61ba36514486941ba140df36fbfa",
            "5bc52a21acc54a589cdeb22e3deee3bb",
            "b31e9c195c794fc2a9d9b2c29e70b5ca",
            "6866d6cd118d4462bb8518ef7f7d93dd",
            "38ed8fd42d5640858bb74527424bfac5",
            "870344af2c4b42db8fabdebdf84bd85e",
            "4c20e42524c749eb8274e320fed40e4b",
            "fa7ef6315da746cab02f074ee9e9043a",
            "cdd01b22c3844a6782696b21cfea2f4d",
            "b9d5bb38a8e64e7787a6083970dbc3c1",
            "c4cd52fe18b841b9afd2eef117aeab99",
            "21ea2d36f9434c65a34e9e3b2e20073a",
            "e0f226d9bb2942efb19ef612c3c40376",
            "f6085340b6474734a8602678b15c9d66",
            "e033c15cd01748d290761e4225d6d3fa",
            "de70fc93357147229419f54ff1c5f78c",
            "35ef4c18f67e4fa581638fe8fac60cf8",
            "90233343ed214d3bbad99f376f2d57c8",
            "8e4cc866500a48ddab9803953dd8ab72",
            "408e9591d89540caa6f7c6aae8a90775",
            "5154997056424d61b8cd0b2b5376984b",
            "649a3acf11f744caa7838ce9ea72a364",
            "0e930e24b6e14cf2b3c7c760a02b9e96",
            "4dc71798e95c44debaafb2ea008486ca",
            "72ee54eebffc4dd2b6282fe10e57a866",
            "c5287713bb464217a4bce20ad3ac357b",
            "54adf39086484820a8b038b9d0766903",
            "9cdeca9832fa41bb8861e16f1c44eea7",
            "bb9ddbb6ecc54f5498c777f95cf02060",
            "e82b12a266f0448a996f81ae28e74627",
            "0804d6ec29524e039ea279a14af29b62",
            "152ed6a0651b48b6bf2b2cc4235dfe6c",
            "5c06177fcb744d62836f41eafba10a48",
            "fb32528e4cd341b782a8801bad39beb2",
            "8cd9be70332843589935631eeecb22e2",
            "baac56f325e9469eb9159d4f0d8a9786",
            "284eaaf25b954d9cbd3a34fc791e0118",
            "f626b812679743539118a5ae1d4dc8a1",
            "84ddadd3fefe44b78452eae2d94cfe95",
            "7a452188e8534184814afc1f2e286ef6",
            "ca49d5e1a4d54bd09a737aeddd6b658a",
            "b782cb23fe2646bbbcaaf50dc120e887",
            "7f1eda53f17448d285b53cc5d1b0a2ba",
            "c5359397f1104bf58514025d7f24d594",
            "217606ce0134468486c83e2030071ae6",
            "b48d3ee99b9347cd9050e95756193e80",
            "e157af5e80a5414cb8de6d80b0e21448",
            "12ec075d047a4ac4aa19157c2bf62869",
            "27f6db4d7737467fa7b3ef009481a51f",
            "09ca1a9d2b8f41b693b401c9fed05a3e",
            "898e5de34b74463ba33ed555e32de4f3",
            "f4f3d9ec78a34682b5bb9ddfae3d0eec",
            "267a0146ec974a93aa68791bce2906fa",
            "f6b1d8e9a3294d30ac58aa228cc639d6",
            "aab93b8765ab496582925aecee1d1bf2"
          ]
        },
        "id": "GYJ7riq5un0T",
        "outputId": "071b406c-fa04-498f-a287-462511d8df82"
      },
      "execution_count": 4,
      "outputs": [
        {
          "output_type": "stream",
          "name": "stdout",
          "text": [
            "🦥 Unsloth: Will patch your computer to enable 2x faster free finetuning.\n",
            "🦥 Unsloth Zoo will now patch everything to make training faster!\n",
            "==((====))==  Unsloth 2025.1.8: Fast Llama patching. Transformers: 4.47.1.\n",
            "   \\\\   /|    GPU: Tesla T4. Max memory: 14.741 GB. Platform: Linux.\n",
            "O^O/ \\_/ \\    Torch: 2.5.1+cu124. CUDA: 7.5. CUDA Toolkit: 12.4. Triton: 3.1.0\n",
            "\\        /    Bfloat16 = FALSE. FA [Xformers = 0.0.29.post1. FA2 = False]\n",
            " \"-____-\"     Free Apache license: http://github.com/unslothai/unsloth\n",
            "Unsloth: Fast downloading is enabled - ignore downloading bars which are red colored!\n"
          ]
        },
        {
          "output_type": "display_data",
          "data": {
            "text/plain": [
              "model.safetensors:   0%|          | 0.00/5.96G [00:00<?, ?B/s]"
            ],
            "application/vnd.jupyter.widget-view+json": {
              "version_major": 2,
              "version_minor": 0,
              "model_id": "471c61ba36514486941ba140df36fbfa"
            }
          },
          "metadata": {}
        },
        {
          "output_type": "display_data",
          "data": {
            "text/plain": [
              "generation_config.json:   0%|          | 0.00/236 [00:00<?, ?B/s]"
            ],
            "application/vnd.jupyter.widget-view+json": {
              "version_major": 2,
              "version_minor": 0,
              "model_id": "21ea2d36f9434c65a34e9e3b2e20073a"
            }
          },
          "metadata": {}
        },
        {
          "output_type": "display_data",
          "data": {
            "text/plain": [
              "tokenizer_config.json:   0%|          | 0.00/52.9k [00:00<?, ?B/s]"
            ],
            "application/vnd.jupyter.widget-view+json": {
              "version_major": 2,
              "version_minor": 0,
              "model_id": "0e930e24b6e14cf2b3c7c760a02b9e96"
            }
          },
          "metadata": {}
        },
        {
          "output_type": "display_data",
          "data": {
            "text/plain": [
              "special_tokens_map.json:   0%|          | 0.00/483 [00:00<?, ?B/s]"
            ],
            "application/vnd.jupyter.widget-view+json": {
              "version_major": 2,
              "version_minor": 0,
              "model_id": "fb32528e4cd341b782a8801bad39beb2"
            }
          },
          "metadata": {}
        },
        {
          "output_type": "display_data",
          "data": {
            "text/plain": [
              "tokenizer.json:   0%|          | 0.00/17.2M [00:00<?, ?B/s]"
            ],
            "application/vnd.jupyter.widget-view+json": {
              "version_major": 2,
              "version_minor": 0,
              "model_id": "217606ce0134468486c83e2030071ae6"
            }
          },
          "metadata": {}
        }
      ]
    },
    {
      "cell_type": "markdown",
      "source": [
        "# 3. Model inference before fine-tuning"
      ],
      "metadata": {
        "id": "SDVrXtkUxlWU"
      }
    },
    {
      "cell_type": "markdown",
      "source": [
        "To create a prompt style for the model, we will define a system prompt and include placeholders for the question and response generation. The prompt will guide the model to think step-by-step and provide a logical, accurate response."
      ],
      "metadata": {
        "id": "e0qbNwEOxtIp"
      }
    },
    {
      "cell_type": "code",
      "source": [
        "prompt_style = \"\"\"Below is an instruction that describes a task, paired with an input that provides further context.\n",
        "Write a response that appropriately completes the request.\n",
        "Before answering, think carefully about the question and create a step-by-step chain of thoughts to ensure a logical and accurate response.\n",
        "\n",
        "### Instruction:\n",
        "You are a medical expert with advanced knowledge in clinical reasoning, diagnostics, and treatment planning.\n",
        "Please answer the following medical question.\n",
        "\n",
        "### Question:\n",
        "{}\n",
        "\n",
        "### Response:\n",
        "<think>{}\"\"\""
      ],
      "metadata": {
        "id": "b3C9fNeyxpCV"
      },
      "execution_count": 5,
      "outputs": []
    },
    {
      "cell_type": "markdown",
      "source": [
        "we will provide a medical question to the prompt_style, convert it into tokens, and then pass the tokens to the model for response generation."
      ],
      "metadata": {
        "id": "hz7fl_bExzet"
      }
    },
    {
      "cell_type": "code",
      "source": [
        "question = \"A 61-year-old woman with a long history of involuntary urine loss during activities like coughing or sneezing but no leakage at night undergoes a gynecological exam and Q-tip test. Based on these findings, what would cystometry most likely reveal about her residual volume and detrusor contractions?\"\n",
        "\n",
        "\n",
        "FastLanguageModel.for_inference(model)\n",
        "inputs = tokenizer([prompt_style.format(question, \"\")], return_tensors=\"pt\").to(\"cuda\")\n",
        "\n",
        "outputs = model.generate(\n",
        "    input_ids=inputs.input_ids,\n",
        "    attention_mask=inputs.attention_mask,\n",
        "    max_new_tokens=1200,\n",
        "    use_cache=True,\n",
        ")\n",
        "response = tokenizer.batch_decode(outputs)\n",
        "print(response[0].split(\"### Response:\")[1])"
      ],
      "metadata": {
        "colab": {
          "base_uri": "https://localhost:8080/"
        },
        "id": "pLmfejZkx0B5",
        "outputId": "4d320895-dd70-42bf-bbc8-fe4896f9f3bb"
      },
      "execution_count": 6,
      "outputs": [
        {
          "output_type": "stream",
          "name": "stdout",
          "text": [
            "\n",
            "<think>\n",
            "Alright, so I'm trying to figure out what the cystometry would show for this 61-year-old woman. Let me break this down step by step.\n",
            "\n",
            "First, the patient has a history of involuntary urine loss when she coughs or sneezes. That makes me think of stress urinary incontinence. I remember that stress incontinence is usually due to uretal sphincter weakness, especially when it happens during activities that increase intra-abdominal pressure, like coughing.\n",
            "\n",
            "She's been diagnosed with this issue for a long time, so it's likely a long-standing problem. The fact that she doesn't leak at night suggests that it's not a predominant issue of nocturnal enuresis, which is more common in younger people or due to other conditions like diabetes or neurological issues.\n",
            "\n",
            "She underwent a gynecological exam and a Q-tip test. I'm a bit fuzzy on the Q-tip test specifics, but I think it's used to assess urethral function. The Q-tip is a small catheter with a balloon that's filled with water and then removed to see how far it can be pulled out. If the patient can pull it out easily, it suggests urethral sphincter deficiency.\n",
            "\n",
            "So, assuming the Q-tip test showed some degree of urethral incompetence, that would support the diagnosis of stress urinary incontinence. Now, moving on to what cystometry would show.\n",
            "\n",
            "Cystometry, or urodynamic studies, are used to evaluate how the bladder and urethral muscles function. They measure things like bladder capacity, compliance, and the pressure generated by the detrusor muscle (the muscle layer of the bladder) during filling and emptying.\n",
            "\n",
            "The question is specifically about residual volume and detrusor contractions. Residual volume is the amount of urine left in the bladder after emptying. If the patient has a significant residual volume, it might indicate that the bladder isn't emptying completely, which could contribute to urinary leakage.\n",
            "\n",
            "Detrusor contractions refer to the contractions of the detrusor muscle. In a normal situation, the detrusor contracts to push urine out of the bladder. In some cases, especially with overactive bladder or neurogenic bladder, these contractions might be too strong or frequent, leading to urinary urgency or incontinence.\n",
            "\n",
            "In this patient's case, since she has stress incontinence and not nocturnal enuresis, her detrusor contractions are likely normal in terms of frequency and strength. The primary issue is the inability to prevent urine leakage during activities that increase abdominal pressure, which is more related to urethral sphincter function rather than detrusor muscle activity.\n",
            "\n",
            "So, putting it all together, the cystometry would likely show normal detrusor contractions. The residual volume might be normal or slightly increased if there's some residual urine, but the main issue is with the urethral sphincter's ability to prevent leakage.\n",
            "\n",
            "I think I've covered all the points. The key takeaway is that the detrusor contractions are normal, and the issue lies elsewhere, specifically the urethral sphincter.\n",
            "</think>\n",
            "\n",
            "Based on the analysis of the 61-year-old woman's presentation and diagnostic findings, the cystometry is expected to reveal the following:\n",
            "\n",
            "1. **Residual Volume**: Likely normal or slightly elevated, indicating some residual urine, but not a primary concern.\n",
            "2. **Detrusor Contractions**: Normal in frequency and strength, as the primary issue lies with the urethral sphincter rather than bladder muscle function.\n",
            "\n",
            "**Conclusion**: The cystometry would show normal detrusor contractions, with residual volume being within normal limits or slightly increased. The primary issue is related to urethral sphincter function, contributing to stress urinary incontinence.<｜end▁of▁sentence｜>\n"
          ]
        }
      ]
    },
    {
      "cell_type": "markdown",
      "source": [
        "Even without fine-tuning, our model successfully generated a chain of thought and provided reasoning before delivering the final answer. The reasoning process is encapsulated within the <think></think> tags.\n",
        "\n",
        "So, why do we still need fine-tuning? The reasoning process, while detailed, was long-winded and not concise. Additionally, the final answer was presented in a bullet-point format, which deviates from the structure and style of the dataset that we want to fine-tune on."
      ],
      "metadata": {
        "id": "WvxZvUcMyRlU"
      }
    },
    {
      "cell_type": "markdown",
      "source": [
        "# 4. Loading and processing the dataset"
      ],
      "metadata": {
        "id": "NH_8Xk5e0mQG"
      }
    },
    {
      "cell_type": "markdown",
      "source": [
        "We will slightly change the prompt style for processing the dataset by adding the third placeholder for the complex chain of thought column."
      ],
      "metadata": {
        "id": "1fSFeH8M0poA"
      }
    },
    {
      "cell_type": "code",
      "source": [
        "train_prompt_style = \"\"\"Below is an instruction that describes a task, paired with an input that provides further context.\n",
        "Write a response that appropriately completes the request.\n",
        "Before answering, think carefully about the question and create a step-by-step chain of thoughts to ensure a logical and accurate response.\n",
        "\n",
        "### Instruction:\n",
        "You are a medical expert with advanced knowledge in clinical reasoning, diagnostics, and treatment planning.\n",
        "Please answer the following medical question.\n",
        "\n",
        "### Question:\n",
        "{}\n",
        "\n",
        "### Response:\n",
        "<think>\n",
        "{}\n",
        "</think>\n",
        "{}\"\"\""
      ],
      "metadata": {
        "id": "SsDZipG60qWZ"
      },
      "execution_count": 7,
      "outputs": []
    },
    {
      "cell_type": "markdown",
      "source": [
        "Write the Python function that will create a \"text\" column in the dataset, which consists of the train prompt style. Fill the placeholders with questions, chains of text, and answers."
      ],
      "metadata": {
        "id": "M-6ZwfdK04kW"
      }
    },
    {
      "cell_type": "code",
      "source": [
        "EOS_TOKEN = tokenizer.eos_token  # Must add EOS_TOKEN\n",
        "\n",
        "def formatting_prompts_func(examples):\n",
        "    inputs = examples[\"Question\"]\n",
        "    cots = examples[\"Complex_CoT\"]\n",
        "    outputs = examples[\"Response\"]\n",
        "    texts = []\n",
        "    for input, cot, output in zip(inputs, cots, outputs):\n",
        "        text = train_prompt_style.format(input, cot, output) + EOS_TOKEN\n",
        "        texts.append(text)\n",
        "    return {\n",
        "        \"text\": texts,\n",
        "    }"
      ],
      "metadata": {
        "id": "bZUAP8cv05Pe"
      },
      "execution_count": 8,
      "outputs": []
    },
    {
      "cell_type": "markdown",
      "source": [
        "We will load the first 500 samples from the FreedomIntelligence/medical-o1-reasoning-SFT dataset, which is available on the Hugging Face hub. After that, we will map the text column using the formatting_prompts_func function."
      ],
      "metadata": {
        "id": "kc0t5dR-2tjO"
      }
    },
    {
      "cell_type": "code",
      "source": [
        "from datasets import load_dataset\n",
        "dataset = load_dataset(\"FreedomIntelligence/medical-o1-reasoning-SFT\",\"en\", split = \"train[0:500]\",trust_remote_code=True)\n",
        "dataset = dataset.map(formatting_prompts_func, batched = True,)\n",
        "dataset[\"text\"][0]"
      ],
      "metadata": {
        "colab": {
          "base_uri": "https://localhost:8080/",
          "height": 307,
          "referenced_widgets": [
            "7d1c2c9abbd54b34bfe8885fa8bfdeb5",
            "eabc87df2ea245348e1cc21896d64ddd",
            "8eb4fe1d9d344cbc949e0d02ec832970",
            "f3c78754456d4a16b6892280119765a1",
            "15887e5b12ed4e0ca36c35c5853c92ee",
            "8969a0ece3814cf2984c4fb0a3fd47d7",
            "552dd85b6c1f4835bbac004822173c32",
            "229071d76cb143a0aa7a1bafab1452ca",
            "c95d102c70404c418de15b3a4f48999d",
            "c3e7aa26ec564de688c2b31ffab7e0cb",
            "8bf6942d4c8b4e5d9a80fae0f47d99dc",
            "39677a0dc1e04ca6a18ff7bf24558be1",
            "c7579204eccc4fc5869c52e03646835e",
            "1f210a3af3b84211b30581ac2094d5d1",
            "b0cf7b6ef23d4cb3a0e240f660a84f1c",
            "c2c98e89a71346b2921ea45d21aff1c8",
            "e328f7e1fae14c9583cbb05adcfc8aea",
            "c3f88afbd370417780256bf12a128f61",
            "3a1ad5bf31834e92a7e7933d876451de",
            "fbe2e777ae8d443ab682b0d937dd92cf",
            "a6e3c02755214aaa8b0af5348b66b2e1",
            "df0727a5697844c7be3bce88545e1d8c",
            "4e9842746b894d938d21efffadee2c9e",
            "52c86e77f1a648fc8a7963dfc999c03e",
            "ce84afda4755468785cd1b2498e535db",
            "cf379ee8bbb146729acdb3238a3e08c8",
            "add8e0a94a1a40eca994729bdcb75b1a",
            "d1c323538540440c83523926fe3c0fcb",
            "09ca3b4ca85a4340aab5571c00474af2",
            "950d969fe6e04fdebdb4d55ee7b47a5c",
            "4f43be2ea199486ca899331caeb4f73a",
            "5b6305cb0e1e4b37a7f185712225b63a",
            "fe97cde805334f2ab33374c8c3204c32",
            "94358a34a7054deab7ad5046d0d85370",
            "4b567a86db364c5991c0fbc180b595dd",
            "b467a58eb9084e398c0d89a49f361379",
            "149ccc2f62574ac08305442c03944daf",
            "78bd3fc5823e4064a7780077fc4fca99",
            "de673681ffee492ca7e0233e98d1d950",
            "2c38b49716334073976186fd24776edc",
            "a3562d4e5e054d13a01468a1e72a1738",
            "9d1a27028cf14e0ea6d14378363a0f67",
            "1be3008d2b124b6a94ef87ff21b1acd2",
            "6c122e6f2ba34ecbadd0d748fa5c3383"
          ]
        },
        "id": "LQoc1n1X2xS4",
        "outputId": "5478006d-2483-4f29-d575-48157a7a49ff"
      },
      "execution_count": 9,
      "outputs": [
        {
          "output_type": "display_data",
          "data": {
            "text/plain": [
              "README.md:   0%|          | 0.00/1.25k [00:00<?, ?B/s]"
            ],
            "application/vnd.jupyter.widget-view+json": {
              "version_major": 2,
              "version_minor": 0,
              "model_id": "7d1c2c9abbd54b34bfe8885fa8bfdeb5"
            }
          },
          "metadata": {}
        },
        {
          "output_type": "display_data",
          "data": {
            "text/plain": [
              "medical_o1_sft.json:   0%|          | 0.00/74.1M [00:00<?, ?B/s]"
            ],
            "application/vnd.jupyter.widget-view+json": {
              "version_major": 2,
              "version_minor": 0,
              "model_id": "39677a0dc1e04ca6a18ff7bf24558be1"
            }
          },
          "metadata": {}
        },
        {
          "output_type": "display_data",
          "data": {
            "text/plain": [
              "Generating train split:   0%|          | 0/25371 [00:00<?, ? examples/s]"
            ],
            "application/vnd.jupyter.widget-view+json": {
              "version_major": 2,
              "version_minor": 0,
              "model_id": "4e9842746b894d938d21efffadee2c9e"
            }
          },
          "metadata": {}
        },
        {
          "output_type": "display_data",
          "data": {
            "text/plain": [
              "Map:   0%|          | 0/500 [00:00<?, ? examples/s]"
            ],
            "application/vnd.jupyter.widget-view+json": {
              "version_major": 2,
              "version_minor": 0,
              "model_id": "94358a34a7054deab7ad5046d0d85370"
            }
          },
          "metadata": {}
        },
        {
          "output_type": "execute_result",
          "data": {
            "text/plain": [
              "\"Below is an instruction that describes a task, paired with an input that provides further context. \\nWrite a response that appropriately completes the request. \\nBefore answering, think carefully about the question and create a step-by-step chain of thoughts to ensure a logical and accurate response.\\n\\n### Instruction:\\nYou are a medical expert with advanced knowledge in clinical reasoning, diagnostics, and treatment planning. \\nPlease answer the following medical question. \\n\\n### Question:\\nA 61-year-old woman with a long history of involuntary urine loss during activities like coughing or sneezing but no leakage at night undergoes a gynecological exam and Q-tip test. Based on these findings, what would cystometry most likely reveal about her residual volume and detrusor contractions?\\n\\n### Response:\\n<think>\\nOkay, let's think about this step by step. There's a 61-year-old woman here who's been dealing with involuntary urine leakages whenever she's doing something that ups her abdominal pressure like coughing or sneezing. This sounds a lot like stress urinary incontinence to me. Now, it's interesting that she doesn't have any issues at night; she isn't experiencing leakage while sleeping. This likely means her bladder's ability to hold urine is fine when she isn't under physical stress. Hmm, that's a clue that we're dealing with something related to pressure rather than a bladder muscle problem. \\n\\nThe fact that she underwent a Q-tip test is intriguing too. This test is usually done to assess urethral mobility. In stress incontinence, a Q-tip might move significantly, showing urethral hypermobility. This kind of movement often means there's a weakness in the support structures that should help keep the urethra closed during increases in abdominal pressure. So, that's aligning well with stress incontinence.\\n\\nNow, let's think about what would happen during cystometry. Since stress incontinence isn't usually about sudden bladder contractions, I wouldn't expect to see involuntary detrusor contractions during this test. Her bladder isn't spasming or anything; it's more about the support structure failing under stress. Plus, she likely empties her bladder completely because stress incontinence doesn't typically involve incomplete emptying. So, her residual volume should be pretty normal. \\n\\nAll in all, it seems like if they do a cystometry on her, it will likely show a normal residual volume and no involuntary contractions. Yup, I think that makes sense given her symptoms and the typical presentations of stress urinary incontinence.\\n</think>\\nCystometry in this case of stress urinary incontinence would most likely reveal a normal post-void residual volume, as stress incontinence typically does not involve issues with bladder emptying. Additionally, since stress urinary incontinence is primarily related to physical exertion and not an overactive bladder, you would not expect to see any involuntary detrusor contractions during the test.<｜end▁of▁sentence｜>\""
            ],
            "application/vnd.google.colaboratory.intrinsic+json": {
              "type": "string"
            }
          },
          "metadata": {},
          "execution_count": 9
        }
      ]
    },
    {
      "cell_type": "markdown",
      "source": [
        "As we can see, the text column has a system prompt, instructions, chain of thought, and the answer."
      ],
      "metadata": {
        "id": "Bk_r6Ppu2_Ql"
      }
    },
    {
      "cell_type": "markdown",
      "source": [
        "# 5. Setting up the model"
      ],
      "metadata": {
        "id": "sfoC4Q7Q5XXQ"
      }
    },
    {
      "cell_type": "markdown",
      "source": [
        "Using the target modules, we will set up the model by adding the low-rank adopter to the model"
      ],
      "metadata": {
        "id": "6RZc72T-7Iil"
      }
    },
    {
      "cell_type": "code",
      "source": [
        "model = FastLanguageModel.get_peft_model(\n",
        "    model,\n",
        "    r=16,\n",
        "    target_modules=[\n",
        "        \"q_proj\",\n",
        "        \"k_proj\",\n",
        "        \"v_proj\",\n",
        "        \"o_proj\",\n",
        "        \"gate_proj\",\n",
        "        \"up_proj\",\n",
        "        \"down_proj\",\n",
        "    ],\n",
        "    lora_alpha=16,\n",
        "    lora_dropout=0,\n",
        "    bias=\"none\",\n",
        "    use_gradient_checkpointing=\"unsloth\",  # True or \"unsloth\" for very long context\n",
        "    random_state=3407,\n",
        "    use_rslora=False,\n",
        "    loftq_config=None,\n",
        ")"
      ],
      "metadata": {
        "colab": {
          "base_uri": "https://localhost:8080/"
        },
        "id": "yNjx4u5H7JIp",
        "outputId": "946fc77f-60c1-4a6e-f5fe-0db6c541a7bd"
      },
      "execution_count": 10,
      "outputs": [
        {
          "output_type": "stream",
          "name": "stderr",
          "text": [
            "Unsloth 2025.1.8 patched 32 layers with 32 QKV layers, 32 O layers and 32 MLP layers.\n"
          ]
        }
      ]
    },
    {
      "cell_type": "markdown",
      "source": [
        "Next, we will set up the training arguments and the trainer by providing the model, tokenizers, dataset, and other important training parameters that will optimize our fine-tuning process."
      ],
      "metadata": {
        "id": "QAKZcmP57Ott"
      }
    },
    {
      "cell_type": "code",
      "source": [
        "from trl import SFTTrainer\n",
        "from transformers import TrainingArguments\n",
        "from unsloth import is_bfloat16_supported\n",
        "\n",
        "trainer = SFTTrainer(\n",
        "    model=model,\n",
        "    train_dataset=dataset,\n",
        "    tokenizer=tokenizer,\n",
        "    max_seq_length=max_seq_length,\n",
        "    dataset_text_field=\"text\",\n",
        "    args=TrainingArguments(\n",
        "        per_device_train_batch_size=2,\n",
        "        gradient_accumulation_steps=4,\n",
        "        # Use num_train_epochs = 1, warmup_ratio for full training runs!\n",
        "        warmup_steps=5,\n",
        "        max_steps=60,\n",
        "        learning_rate=2e-4,\n",
        "        fp16=not is_bfloat16_supported(),\n",
        "        bf16=is_bfloat16_supported(),\n",
        "        logging_steps=10,\n",
        "        optim=\"adamw_8bit\",\n",
        "        weight_decay=0.01,\n",
        "        lr_scheduler_type=\"linear\",\n",
        "        seed=3407,\n",
        "        output_dir=\"outputs\",\n",
        "    ),\n",
        ")"
      ],
      "metadata": {
        "colab": {
          "base_uri": "https://localhost:8080/",
          "height": 49,
          "referenced_widgets": [
            "4decab3c04b549f98eaacd32c8aae94c",
            "3715fcfa027f4d25952a21cada6761aa",
            "0efea14aa89047b39fe7e87a3461a408",
            "3c53ebbd61844d1c9f32413c11f310ef",
            "01a9dafbb65c44d584263fce80bbae7e",
            "10ae7181cca74e5dbdb7c287fb4aaca7",
            "792e02b8fbe141c9a1fd2d51c6938724",
            "0323e33edd6a4e039486b9673a07c826",
            "a2047444a59b42d0a6b1afd04f1ff0cb",
            "6de73e2376bd4c43bb3b9aae985f1383",
            "7d9a6b7b1b814ddc90870a8cf2032e33"
          ]
        },
        "id": "7zeoODoK7Pg5",
        "outputId": "7bb4d57f-ffb2-4544-a2e0-4968d54193ad"
      },
      "execution_count": 12,
      "outputs": [
        {
          "output_type": "display_data",
          "data": {
            "text/plain": [
              "Map:   0%|          | 0/500 [00:00<?, ? examples/s]"
            ],
            "application/vnd.jupyter.widget-view+json": {
              "version_major": 2,
              "version_minor": 0,
              "model_id": "4decab3c04b549f98eaacd32c8aae94c"
            }
          },
          "metadata": {}
        }
      ]
    },
    {
      "cell_type": "markdown",
      "source": [
        "# 6. Model training"
      ],
      "metadata": {
        "id": "EGBo_fb3KL4c"
      }
    },
    {
      "cell_type": "markdown",
      "source": [
        "Run the following command to start training."
      ],
      "metadata": {
        "id": "UM9Vy-2XKPg5"
      }
    },
    {
      "cell_type": "code",
      "source": [
        "trainer_stats = trainer.train()"
      ],
      "metadata": {
        "colab": {
          "base_uri": "https://localhost:8080/",
          "height": 386
        },
        "id": "oVq757AxKM_D",
        "outputId": "cd951aa6-249f-4952-83f6-5dea7c5660bb"
      },
      "execution_count": null,
      "outputs": [
        {
          "metadata": {
            "tags": null
          },
          "name": "stderr",
          "output_type": "stream",
          "text": [
            "==((====))==  Unsloth - 2x faster free finetuning | Num GPUs = 1\n",
            "   \\\\   /|    Num examples = 500 | Num Epochs = 1\n",
            "O^O/ \\_/ \\    Batch size per device = 2 | Gradient Accumulation steps = 4\n",
            "\\        /    Total batch size = 8 | Total steps = 60\n",
            " \"-____-\"     Number of trainable parameters = 41,943,040\n",
            "\u001b[34m\u001b[1mwandb\u001b[0m: \u001b[33mWARNING\u001b[0m The `run_name` is currently set to the same value as `TrainingArguments.output_dir`. If this was not intended, please specify a different run name by setting the `TrainingArguments.run_name` parameter.\n"
          ]
        },
        {
          "data": {
            "text/html": [
              "\n",
              "    <div>\n",
              "      \n",
              "      <progress value='19' max='60' style='width:300px; height:20px; vertical-align: middle;'></progress>\n",
              "      [19/60 05:57 < 14:22, 0.05 it/s, Epoch 0.29/1]\n",
              "    </div>\n",
              "    <table border=\"1\" class=\"dataframe\">\n",
              "  <thead>\n",
              " <tr style=\"text-align: left;\">\n",
              "      <th>Step</th>\n",
              "      <th>Training Loss</th>\n",
              "    </tr>\n",
              "  </thead>\n",
              "  <tbody>\n",
              "    <tr>\n",
              "      <td>10</td>\n",
              "      <td>1.918800</td>\n",
              "    </tr>\n",
              "  </tbody>\n",
              "</table><p>"
            ],
            "text/plain": [
              "<IPython.core.display.HTML object>"
            ]
          },
          "metadata": {},
          "output_type": "display_data"
        },
        {
          "output_type": "display_data",
          "data": {
            "text/plain": [
              "<IPython.core.display.HTML object>"
            ],
            "text/html": [
              "\n",
              "    <div>\n",
              "      \n",
              "      <progress value='34' max='60' style='width:300px; height:20px; vertical-align: middle;'></progress>\n",
              "      [34/60 11:24 < 09:16, 0.05 it/s, Epoch 0.53/1]\n",
              "    </div>\n",
              "    <table border=\"1\" class=\"dataframe\">\n",
              "  <thead>\n",
              " <tr style=\"text-align: left;\">\n",
              "      <th>Step</th>\n",
              "      <th>Training Loss</th>\n",
              "    </tr>\n",
              "  </thead>\n",
              "  <tbody>\n",
              "    <tr>\n",
              "      <td>10</td>\n",
              "      <td>1.918800</td>\n",
              "    </tr>\n",
              "    <tr>\n",
              "      <td>20</td>\n",
              "      <td>1.461500</td>\n",
              "    </tr>\n",
              "    <tr>\n",
              "      <td>30</td>\n",
              "      <td>1.402300</td>\n",
              "    </tr>\n",
              "  </tbody>\n",
              "</table><p>"
            ]
          },
          "metadata": {}
        }
      ]
    },
    {
      "cell_type": "markdown",
      "source": [
        "You can view the fill model evaluation report on the Weights and bais dash board by loging into theo the website and viewin the project."
      ],
      "metadata": {
        "id": "HQqon092KbUC"
      }
    },
    {
      "cell_type": "markdown",
      "source": [
        "![image.png](data:image/png;base64,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)"
      ],
      "metadata": {
        "id": "Iq36IkDmOrg4"
      }
    },
    {
      "cell_type": "markdown",
      "source": [
        "![image.png](data:image/png;base64,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)"
      ],
      "metadata": {
        "id": "8llT6DdQQoVE"
      }
    }
  ]
}