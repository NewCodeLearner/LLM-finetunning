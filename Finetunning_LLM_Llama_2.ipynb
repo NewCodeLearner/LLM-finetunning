{
  "nbformat": 4,
  "nbformat_minor": 0,
  "metadata": {
    "colab": {
      "provenance": [],
      "gpuType": "T4",
      "authorship_tag": "ABX9TyOesh51XkN6tudqNMXK5jyj"
    },
    "kernelspec": {
      "name": "python3",
      "display_name": "Python 3"
    },
    "language_info": {
      "name": "python"
    },
    "accelerator": "GPU"
  },
  "cells": [
    {
      "cell_type": "markdown",
      "source": [
        "## Step-1 Install All Required Packages"
      ],
      "metadata": {
        "id": "oQOETp8jiMwP"
      }
    },
    {
      "cell_type": "code",
      "source": [
        "!pip install -q accelerate peft bitsandbytes transformers trl"
      ],
      "metadata": {
        "colab": {
          "base_uri": "https://localhost:8080/"
        },
        "id": "uerIUVnJk7NW",
        "outputId": "de9e803d-92b8-46ec-bd1c-7f79975f9cda"
      },
      "execution_count": 1,
      "outputs": [
        {
          "output_type": "stream",
          "name": "stdout",
          "text": [
            "\u001b[2K     \u001b[90m━━━━━━━━━━━━━━━━━━━━━━━━━━━━━━━━━━━━━━━━\u001b[0m \u001b[32m44.1/44.1 kB\u001b[0m \u001b[31m2.5 MB/s\u001b[0m eta \u001b[36m0:00:00\u001b[0m\n",
            "\u001b[2K   \u001b[90m━━━━━━━━━━━━━━━━━━━━━━━━━━━━━━━━━━━━━━━━\u001b[0m \u001b[32m122.4/122.4 MB\u001b[0m \u001b[31m7.6 MB/s\u001b[0m eta \u001b[36m0:00:00\u001b[0m\n",
            "\u001b[2K   \u001b[90m━━━━━━━━━━━━━━━━━━━━━━━━━━━━━━━━━━━━━━━━\u001b[0m \u001b[32m310.2/310.2 kB\u001b[0m \u001b[31m24.4 MB/s\u001b[0m eta \u001b[36m0:00:00\u001b[0m\n",
            "\u001b[2K   \u001b[90m━━━━━━━━━━━━━━━━━━━━━━━━━━━━━━━━━━━━━━━━\u001b[0m \u001b[32m10.0/10.0 MB\u001b[0m \u001b[31m123.9 MB/s\u001b[0m eta \u001b[36m0:00:00\u001b[0m\n",
            "\u001b[2K   \u001b[90m━━━━━━━━━━━━━━━━━━━━━━━━━━━━━━━━━━━━━━━━\u001b[0m \u001b[32m480.6/480.6 kB\u001b[0m \u001b[31m34.1 MB/s\u001b[0m eta \u001b[36m0:00:00\u001b[0m\n",
            "\u001b[2K   \u001b[90m━━━━━━━━━━━━━━━━━━━━━━━━━━━━━━━━━━━━━━━━\u001b[0m \u001b[32m3.0/3.0 MB\u001b[0m \u001b[31m81.0 MB/s\u001b[0m eta \u001b[36m0:00:00\u001b[0m\n",
            "\u001b[2K   \u001b[90m━━━━━━━━━━━━━━━━━━━━━━━━━━━━━━━━━━━━━━━━\u001b[0m \u001b[32m116.3/116.3 kB\u001b[0m \u001b[31m11.0 MB/s\u001b[0m eta \u001b[36m0:00:00\u001b[0m\n",
            "\u001b[2K   \u001b[90m━━━━━━━━━━━━━━━━━━━━━━━━━━━━━━━━━━━━━━━━\u001b[0m \u001b[32m179.3/179.3 kB\u001b[0m \u001b[31m15.3 MB/s\u001b[0m eta \u001b[36m0:00:00\u001b[0m\n",
            "\u001b[2K   \u001b[90m━━━━━━━━━━━━━━━━━━━━━━━━━━━━━━━━━━━━━━━━\u001b[0m \u001b[32m134.8/134.8 kB\u001b[0m \u001b[31m12.3 MB/s\u001b[0m eta \u001b[36m0:00:00\u001b[0m\n",
            "\u001b[2K   \u001b[90m━━━━━━━━━━━━━━━━━━━━━━━━━━━━━━━━━━━━━━━━\u001b[0m \u001b[32m194.1/194.1 kB\u001b[0m \u001b[31m16.9 MB/s\u001b[0m eta \u001b[36m0:00:00\u001b[0m\n",
            "\u001b[?25h\u001b[31mERROR: pip's dependency resolver does not currently take into account all the packages that are installed. This behaviour is the source of the following dependency conflicts.\n",
            "gcsfs 2024.10.0 requires fsspec==2024.10.0, but you have fsspec 2024.9.0 which is incompatible.\u001b[0m\u001b[31m\n",
            "\u001b[0m"
          ]
        }
      ]
    },
    {
      "cell_type": "markdown",
      "source": [
        "## Step-2 Import All the Required Libraries"
      ],
      "metadata": {
        "id": "Dmd7Rnf-lnK5"
      }
    },
    {
      "cell_type": "code",
      "source": [
        "import os\n",
        "import torch\n",
        "from datasets import load_dataset\n",
        "from transformers import (\n",
        "    AutoModelForCausalLM,\n",
        "    AutoTokenizer,\n",
        "    BitsAndBytesConfig,\n",
        "    HfArgumentParser,\n",
        "    TrainingArguments,\n",
        "    pipeline,\n",
        "    logging\n",
        "    )\n",
        "from peft import LoraConfig, PeftModel\n",
        "from trl import SFTTrainer"
      ],
      "metadata": {
        "id": "zuoFaMJSlycb"
      },
      "execution_count": 2,
      "outputs": []
    },
    {
      "cell_type": "markdown",
      "source": [
        "# In case of Llama 2 , the following prompt template is used for chat models"
      ],
      "metadata": {
        "id": "W99ClU6QqmUc"
      }
    },
    {
      "cell_type": "markdown",
      "source": [
        "System Prompt (optional) to guide the model\n",
        "User Prompt (required) to give the instruction  \n",
        "Model answer(required)"
      ],
      "metadata": {
        "id": "HEL_GRZrqvCO"
      }
    },
    {
      "cell_type": "markdown",
      "source": [
        "![image.png](data:image/png;base64,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)"
      ],
      "metadata": {
        "id": "UoAAEiY9rCCv"
      }
    },
    {
      "cell_type": "markdown",
      "source": [
        "# We will reformat our instruction dataset to follow Llama 2 template."
      ],
      "metadata": {
        "id": "JsB7r214rOMu"
      }
    },
    {
      "cell_type": "markdown",
      "source": [
        "- Orignal Dataset: https://huggingface.co/datasets/timdettmers/openassistant-guanaco"
      ],
      "metadata": {
        "id": "7tSoaGHIsDOA"
      }
    },
    {
      "cell_type": "markdown",
      "source": [
        "- Reformat Dataset following the Llama 2 template with 1k sample: https://huggingface.co/datasets/mlabonne/guanaco-llama2-1k"
      ],
      "metadata": {
        "id": "2I2GmEdhsL3T"
      }
    },
    {
      "cell_type": "markdown",
      "source": [
        "To know how this dataset was created, you can check this notebook.\n",
        "\n",
        "https://colab.research.google.com/drive/1Ad7a9zMmkxuXTOh1Z7-rNSICA4dybpM2?usp=sharing"
      ],
      "metadata": {
        "id": "Dp6KSSZvsko6"
      }
    },
    {
      "cell_type": "markdown",
      "source": [
        "Note: You don’t need to follow a specific prompt template if you’re using the base Llama 2 model instead of the chat version."
      ],
      "metadata": {
        "id": "wCTe2HTesn3X"
      }
    },
    {
      "cell_type": "markdown",
      "source": [
        "# How to fine tune Llama 2"
      ],
      "metadata": {
        "id": "jXrlPg7-sqLJ"
      }
    },
    {
      "cell_type": "markdown",
      "source": [
        "- Free Google Colab offers a 15GB Graphics Card (Limited Resources --> Barely enough to store Llama 2–7b’s weights)"
      ],
      "metadata": {
        "id": "uK3PEPOntuvd"
      }
    },
    {
      "cell_type": "markdown",
      "source": [
        "- We also need to consider the overhead due to optimizer states, gradients, and forward activations"
      ],
      "metadata": {
        "id": "SQI0ykwbtylR"
      }
    },
    {
      "cell_type": "markdown",
      "source": [
        "- Full fine-tuning is not possible here: we need parameter-efficient fine-tuning (PEFT) techniques like LoRA or QLoRA."
      ],
      "metadata": {
        "id": "JHy1Xpext1pu"
      }
    },
    {
      "cell_type": "markdown",
      "source": [
        "- To drastically reduce the VRAM usage, we must fine-tune the model in 4-bit precision, which is why we’ll use QLoRA here."
      ],
      "metadata": {
        "id": "qpo5NyyJt5CZ"
      }
    },
    {
      "cell_type": "markdown",
      "source": [
        "# Step 3"
      ],
      "metadata": {
        "id": "UUvW93tYt9BP"
      }
    },
    {
      "cell_type": "markdown",
      "source": [
        "\n",
        "\n",
        "1.   Load a llama-2-7b-chat-hf model (chat model)\n",
        "2.   Train it on the mlabonne/guanaco-llama2-1k (1,000 samples), which will produce our fine-tuned model Llama-2-7b-chat-finetune\n",
        "\n"
      ],
      "metadata": {
        "id": "M4tX952QuA4y"
      }
    },
    {
      "cell_type": "markdown",
      "source": [
        "QLoRA will use a rank of 64 with a scaling parameter of 16. We’ll load the Llama 2 model directly in 4-bit precision using the NF4 type and train it for one epoch"
      ],
      "metadata": {
        "id": "PCHXjzkuuL77"
      }
    },
    {
      "cell_type": "markdown",
      "source": [],
      "metadata": {
        "id": "0m4_68hHu-m-"
      }
    }
  ]
}